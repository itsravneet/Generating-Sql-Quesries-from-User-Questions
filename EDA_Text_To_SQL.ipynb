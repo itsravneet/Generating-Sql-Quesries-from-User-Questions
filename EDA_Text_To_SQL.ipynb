{
  "nbformat": 4,
  "nbformat_minor": 0,
  "metadata": {
    "colab": {
      "name": "EDA Text To SQL.ipynb",
      "provenance": []
    },
    "kernelspec": {
      "name": "python3",
      "display_name": "Python 3"
    },
    "language_info": {
      "name": "python"
    }
  },
  "cells": [
    {
      "cell_type": "markdown",
      "metadata": {
        "id": "8mNUZngCNp4p"
      },
      "source": [
        "**Exploring Classification Type Data from https://github.com/salesforce/WikiSQL**"
      ]
    },
    {
      "cell_type": "code",
      "metadata": {
        "colab": {
          "base_uri": "https://localhost:8080/"
        },
        "id": "KyCu9alzPZk8",
        "outputId": "9b7efa0e-af07-4319-aa01-728cd14d7a91"
      },
      "source": [
        "!pip install jsonlines"
      ],
      "execution_count": 6,
      "outputs": [
        {
          "output_type": "stream",
          "name": "stdout",
          "text": [
            "Collecting jsonlines\n",
            "  Downloading jsonlines-2.0.0-py3-none-any.whl (6.3 kB)\n",
            "Installing collected packages: jsonlines\n",
            "Successfully installed jsonlines-2.0.0\n"
          ]
        }
      ]
    },
    {
      "cell_type": "code",
      "metadata": {
        "id": "q5PBRxGEKguB"
      },
      "source": [
        "#Loading Json Train Data\n",
        "import jsonlines\n",
        "phase=[]\n",
        "table_id=[]\n",
        "question=[]\n",
        "sql=[]\n",
        "with jsonlines.open(\"train.jsonl\") as f:\n",
        "  for line in f.iter():\n",
        "    phase.append(line['phase'])\n",
        "    table_id.append(line['table_id'])\n",
        "    question.append(line['question'])\n",
        "    sql.append(line['sql'])"
      ],
      "execution_count": 9,
      "outputs": []
    },
    {
      "cell_type": "code",
      "metadata": {
        "colab": {
          "base_uri": "https://localhost:8080/",
          "height": 417
        },
        "id": "zRNBUeA_QYfq",
        "outputId": "4cea0c41-ee53-4617-bc27-e2bec9b9eec9"
      },
      "source": [
        "import pandas as pd\n",
        "d={'phase':phase,'table_id':table_id,'question':question,'sql':sql}\n",
        "train_data=pd.DataFrame(d)\n",
        "train_data"
      ],
      "execution_count": 12,
      "outputs": [
        {
          "output_type": "execute_result",
          "data": {
            "text/html": [
              "<div>\n",
              "<style scoped>\n",
              "    .dataframe tbody tr th:only-of-type {\n",
              "        vertical-align: middle;\n",
              "    }\n",
              "\n",
              "    .dataframe tbody tr th {\n",
              "        vertical-align: top;\n",
              "    }\n",
              "\n",
              "    .dataframe thead th {\n",
              "        text-align: right;\n",
              "    }\n",
              "</style>\n",
              "<table border=\"1\" class=\"dataframe\">\n",
              "  <thead>\n",
              "    <tr style=\"text-align: right;\">\n",
              "      <th></th>\n",
              "      <th>phase</th>\n",
              "      <th>table_id</th>\n",
              "      <th>question</th>\n",
              "      <th>sql</th>\n",
              "    </tr>\n",
              "  </thead>\n",
              "  <tbody>\n",
              "    <tr>\n",
              "      <th>0</th>\n",
              "      <td>1</td>\n",
              "      <td>1-1000181-1</td>\n",
              "      <td>Tell me what the notes are for South Australia</td>\n",
              "      <td>{'sel': 5, 'conds': [[3, 0, 'SOUTH AUSTRALIA']...</td>\n",
              "    </tr>\n",
              "    <tr>\n",
              "      <th>1</th>\n",
              "      <td>1</td>\n",
              "      <td>1-1000181-1</td>\n",
              "      <td>What is the current series where the new serie...</td>\n",
              "      <td>{'sel': 4, 'conds': [[5, 0, 'New series began ...</td>\n",
              "    </tr>\n",
              "    <tr>\n",
              "      <th>2</th>\n",
              "      <td>1</td>\n",
              "      <td>1-1000181-1</td>\n",
              "      <td>What is the format for South Australia?</td>\n",
              "      <td>{'sel': 2, 'conds': [[0, 0, 'South Australia']...</td>\n",
              "    </tr>\n",
              "    <tr>\n",
              "      <th>3</th>\n",
              "      <td>1</td>\n",
              "      <td>1-1000181-1</td>\n",
              "      <td>Name the background colour for the Australian ...</td>\n",
              "      <td>{'sel': 1, 'conds': [[0, 0, 'Australian Capita...</td>\n",
              "    </tr>\n",
              "    <tr>\n",
              "      <th>4</th>\n",
              "      <td>1</td>\n",
              "      <td>1-10007452-3</td>\n",
              "      <td>how many times is the fuel propulsion is cng?</td>\n",
              "      <td>{'sel': 3, 'conds': [[5, 0, 'CNG']], 'agg': 3}</td>\n",
              "    </tr>\n",
              "    <tr>\n",
              "      <th>...</th>\n",
              "      <td>...</td>\n",
              "      <td>...</td>\n",
              "      <td>...</td>\n",
              "      <td>...</td>\n",
              "    </tr>\n",
              "    <tr>\n",
              "      <th>56350</th>\n",
              "      <td>2</td>\n",
              "      <td>2-12200756-16</td>\n",
              "      <td>What time was the match played with a score of...</td>\n",
              "      <td>{'sel': 1, 'conds': [[5, 0, '3-2']], 'agg': 0}</td>\n",
              "    </tr>\n",
              "    <tr>\n",
              "      <th>56351</th>\n",
              "      <td>2</td>\n",
              "      <td>2-12200756-16</td>\n",
              "      <td>On which ground did the team play Aston Villa?</td>\n",
              "      <td>{'sel': 4, 'conds': [[3, 0, 'aston villa']], '...</td>\n",
              "    </tr>\n",
              "    <tr>\n",
              "      <th>56352</th>\n",
              "      <td>2</td>\n",
              "      <td>2-12200756-16</td>\n",
              "      <td>What kind of competition was it at San Siro at...</td>\n",
              "      <td>{'sel': 2, 'conds': [[4, 0, 'san siro'], [1, 0...</td>\n",
              "    </tr>\n",
              "    <tr>\n",
              "      <th>56353</th>\n",
              "      <td>2</td>\n",
              "      <td>2-12214488-1</td>\n",
              "      <td>What is the total number of decile for the red...</td>\n",
              "      <td>{'sel': 5, 'conds': [[0, 0, 'redwood school']]...</td>\n",
              "    </tr>\n",
              "    <tr>\n",
              "      <th>56354</th>\n",
              "      <td>2</td>\n",
              "      <td>2-12650456-2</td>\n",
              "      <td>Which report includes a Circuit of Tripoli?</td>\n",
              "      <td>{'sel': 5, 'conds': [[1, 0, 'tripoli']], 'agg'...</td>\n",
              "    </tr>\n",
              "  </tbody>\n",
              "</table>\n",
              "<p>56355 rows × 4 columns</p>\n",
              "</div>"
            ],
            "text/plain": [
              "       phase  ...                                                sql\n",
              "0          1  ...  {'sel': 5, 'conds': [[3, 0, 'SOUTH AUSTRALIA']...\n",
              "1          1  ...  {'sel': 4, 'conds': [[5, 0, 'New series began ...\n",
              "2          1  ...  {'sel': 2, 'conds': [[0, 0, 'South Australia']...\n",
              "3          1  ...  {'sel': 1, 'conds': [[0, 0, 'Australian Capita...\n",
              "4          1  ...     {'sel': 3, 'conds': [[5, 0, 'CNG']], 'agg': 3}\n",
              "...      ...  ...                                                ...\n",
              "56350      2  ...     {'sel': 1, 'conds': [[5, 0, '3-2']], 'agg': 0}\n",
              "56351      2  ...  {'sel': 4, 'conds': [[3, 0, 'aston villa']], '...\n",
              "56352      2  ...  {'sel': 2, 'conds': [[4, 0, 'san siro'], [1, 0...\n",
              "56353      2  ...  {'sel': 5, 'conds': [[0, 0, 'redwood school']]...\n",
              "56354      2  ...  {'sel': 5, 'conds': [[1, 0, 'tripoli']], 'agg'...\n",
              "\n",
              "[56355 rows x 4 columns]"
            ]
          },
          "metadata": {},
          "execution_count": 12
        }
      ]
    },
    {
      "cell_type": "code",
      "metadata": {
        "id": "hiTfiVXvQ6SV"
      },
      "source": [
        "#Loading Train Table info Data\n",
        "import jsonlines\n",
        "id=[]\n",
        "header=[]\n",
        "types=[]\n",
        "rows=[]\n",
        "with jsonlines.open(\"train.tables.jsonl\") as f:\n",
        "  for line in f.iter():\n",
        "    id.append((line['id']))\n",
        "    header.append((line['header']))\n",
        "    types.append((line['types']))\n",
        "    rows.append(line['rows'])"
      ],
      "execution_count": 23,
      "outputs": []
    },
    {
      "cell_type": "code",
      "metadata": {
        "colab": {
          "base_uri": "https://localhost:8080/",
          "height": 417
        },
        "id": "odaJfe61S_Wq",
        "outputId": "9a3bd40b-53b5-4f59-8842-d5bc277312ad"
      },
      "source": [
        "d={'id':id,'header':header,'types':types,'rows':rows}\n",
        "train_table_info=pd.DataFrame(d)\n",
        "train_table_info"
      ],
      "execution_count": 24,
      "outputs": [
        {
          "output_type": "execute_result",
          "data": {
            "text/html": [
              "<div>\n",
              "<style scoped>\n",
              "    .dataframe tbody tr th:only-of-type {\n",
              "        vertical-align: middle;\n",
              "    }\n",
              "\n",
              "    .dataframe tbody tr th {\n",
              "        vertical-align: top;\n",
              "    }\n",
              "\n",
              "    .dataframe thead th {\n",
              "        text-align: right;\n",
              "    }\n",
              "</style>\n",
              "<table border=\"1\" class=\"dataframe\">\n",
              "  <thead>\n",
              "    <tr style=\"text-align: right;\">\n",
              "      <th></th>\n",
              "      <th>id</th>\n",
              "      <th>header</th>\n",
              "      <th>types</th>\n",
              "      <th>rows</th>\n",
              "    </tr>\n",
              "  </thead>\n",
              "  <tbody>\n",
              "    <tr>\n",
              "      <th>0</th>\n",
              "      <td>1-1000181-1</td>\n",
              "      <td>[State/territory, Text/background colour, Form...</td>\n",
              "      <td>[text, text, text, text, text, text]</td>\n",
              "      <td>[[Australian Capital Territory, blue/white, Ya...</td>\n",
              "    </tr>\n",
              "    <tr>\n",
              "      <th>1</th>\n",
              "      <td>1-10006830-1</td>\n",
              "      <td>[Aircraft, Description, Max Gross Weight, Tota...</td>\n",
              "      <td>[text, text, text, text, text]</td>\n",
              "      <td>[[Robinson R-22, Light utility helicopter, 1,3...</td>\n",
              "    </tr>\n",
              "    <tr>\n",
              "      <th>2</th>\n",
              "      <td>1-10007452-3</td>\n",
              "      <td>[Order Year, Manufacturer, Model, Fleet Series...</td>\n",
              "      <td>[text, text, text, text, text, text]</td>\n",
              "      <td>[[1992-93, Gillig, Phantom (High Floor), 444-4...</td>\n",
              "    </tr>\n",
              "    <tr>\n",
              "      <th>3</th>\n",
              "      <td>1-10015132-1</td>\n",
              "      <td>[Player, No., Nationality, Position, Years in ...</td>\n",
              "      <td>[text, text, text, text, text, text]</td>\n",
              "      <td>[[Quincy Acy, 4, United States, Forward, 2012-...</td>\n",
              "    </tr>\n",
              "    <tr>\n",
              "      <th>4</th>\n",
              "      <td>1-10015132-14</td>\n",
              "      <td>[Player, No., Nationality, Position, Years in ...</td>\n",
              "      <td>[text, real, text, text, text, text]</td>\n",
              "      <td>[[Patrick O'Bryant, 13, United States, Center,...</td>\n",
              "    </tr>\n",
              "    <tr>\n",
              "      <th>...</th>\n",
              "      <td>...</td>\n",
              "      <td>...</td>\n",
              "      <td>...</td>\n",
              "      <td>...</td>\n",
              "    </tr>\n",
              "    <tr>\n",
              "      <th>18580</th>\n",
              "      <td>2-18998832-2</td>\n",
              "      <td>[Game, Date, Opponent, Venue, Result, Attendance]</td>\n",
              "      <td>[real, text, text, text, text, real]</td>\n",
              "      <td>[[1, 15 August 1987, Swindon Town, Home, 2–0, ...</td>\n",
              "    </tr>\n",
              "    <tr>\n",
              "      <th>18581</th>\n",
              "      <td>2-18998832-5</td>\n",
              "      <td>[Round (Leg), Date, Opponent, Venue, Result, A...</td>\n",
              "      <td>[text, text, text, text, text, real]</td>\n",
              "      <td>[[2 (1), 22 September 1987, Fulham, Away, 5–1,...</td>\n",
              "    </tr>\n",
              "    <tr>\n",
              "      <th>18582</th>\n",
              "      <td>2-19001175-1</td>\n",
              "      <td>[Country, Seasons, Championship Titles, Race e...</td>\n",
              "      <td>[text, text, text, text, real, real, real, rea...</td>\n",
              "      <td>[[United Kingdom, 1986, 0, 1, 0, 0, 0, 0, 0], ...</td>\n",
              "    </tr>\n",
              "    <tr>\n",
              "      <th>18583</th>\n",
              "      <td>2-19008019-32</td>\n",
              "      <td>[!Event, Round, Surface, Winner, Opponent, Res...</td>\n",
              "      <td>[real, text, text, text, text, text]</td>\n",
              "      <td>[[1., Wimbledon, Final, Grass, Roger Federer, ...</td>\n",
              "    </tr>\n",
              "    <tr>\n",
              "      <th>18584</th>\n",
              "      <td>2-19008977-1</td>\n",
              "      <td>[Name, Premier League, League Cup, FA Cup, UEF...</td>\n",
              "      <td>[text, real, real, real, real, real]</td>\n",
              "      <td>[[Tim Cahill Category:Articles with hCards, 8,...</td>\n",
              "    </tr>\n",
              "  </tbody>\n",
              "</table>\n",
              "<p>18585 rows × 4 columns</p>\n",
              "</div>"
            ],
            "text/plain": [
              "                  id  ...                                               rows\n",
              "0        1-1000181-1  ...  [[Australian Capital Territory, blue/white, Ya...\n",
              "1       1-10006830-1  ...  [[Robinson R-22, Light utility helicopter, 1,3...\n",
              "2       1-10007452-3  ...  [[1992-93, Gillig, Phantom (High Floor), 444-4...\n",
              "3       1-10015132-1  ...  [[Quincy Acy, 4, United States, Forward, 2012-...\n",
              "4      1-10015132-14  ...  [[Patrick O'Bryant, 13, United States, Center,...\n",
              "...              ...  ...                                                ...\n",
              "18580   2-18998832-2  ...  [[1, 15 August 1987, Swindon Town, Home, 2–0, ...\n",
              "18581   2-18998832-5  ...  [[2 (1), 22 September 1987, Fulham, Away, 5–1,...\n",
              "18582   2-19001175-1  ...  [[United Kingdom, 1986, 0, 1, 0, 0, 0, 0, 0], ...\n",
              "18583  2-19008019-32  ...  [[1., Wimbledon, Final, Grass, Roger Federer, ...\n",
              "18584   2-19008977-1  ...  [[Tim Cahill Category:Articles with hCards, 8,...\n",
              "\n",
              "[18585 rows x 4 columns]"
            ]
          },
          "metadata": {},
          "execution_count": 24
        }
      ]
    },
    {
      "cell_type": "markdown",
      "metadata": {
        "id": "4DLgoQKbTs4b"
      },
      "source": [
        "**train_table_info contains information of tables like whats the id, columns headers, datatypes of columns, rows of table**"
      ]
    },
    {
      "cell_type": "markdown",
      "metadata": {
        "id": "5utdtgsQU72y"
      },
      "source": [
        "**train_data contains information like whats the id(to which table this question is associated), question(user's question) and sql(corresponding sql in certain format(format is explained below))**"
      ]
    },
    {
      "cell_type": "markdown",
      "metadata": {
        "id": "Tc3iYkuxV5ZD"
      },
      "source": [
        "Format: \n",
        "1. SELECT column\n",
        "2. AGGREGATION: None, MAX, MIN, COUNT, SUM, AVG\n",
        "3. Number of WHERE conditions: 0, 1, 2, 3\n",
        "4. WHERE column\n",
        "5. WHERE OPERATORS: =, <, >\n",
        "6. WHERE VALUE: a textspan (the beginning and the end position of the span using probability) in the NL question. It depends on both selected where-column and where operators.\n",
        "![format.png](data:image/png;base64,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)"
      ]
    },
    {
      "cell_type": "markdown",
      "metadata": {
        "id": "mDBqLJZDWUvq"
      },
      "source": [
        "Example 1: \n",
        "\n",
        "Table info: {\"id\": \"1-1000181-1\", \"header\": [\"State/territory\", \"Text/background colour\", \"Format\", \"Current slogan\", \"Current series\", \"Notes\"], \"types\": [\"text\", \"text\", \"text\", \"text\", \"text\", \"text\"], \"name\": \"table_1000181_1\"}\n",
        "\n",
        "Question Info: {\"phase\": 1, \"table_id\": \"1-1000181-1\", \"question\": \"Tell me what the notes are for South Australia \", \"sql\": {\"sel\": 5, \"conds\": [[3, 0, \"SOUTH AUSTRALIA\"]], \"agg\": 0}}\n",
        "\n",
        "So, Answered query for this question is: select 5 th column(Notes) from table_1000181_1 where 3rd Column(Current Slogan) = \"South Australia\" and aggregation is none. \n",
        "\n",
        "So final query will look like:\n",
        "\n",
        "\n",
        "\n",
        "select Notes from table_1000181_1 where Current Slogan=\"South Australia\"\n"
      ]
    },
    {
      "cell_type": "markdown",
      "metadata": {
        "id": "UcK3l_LVdTqq"
      },
      "source": [
        "Example2: \n",
        "\n",
        "Table Info: {\"header\": [\"Order Year\", \"Manufacturer\", \"Model\", \"Fleet Series (Quantity)\", \"Powertrain (Engine/Transmission)\", \"Fuel Propulsion\"], \"page_title\": \"Torrance Transit\", \"types\": [\"text\", \"text\", \"text\", \"text\", \"text\", \"text\"], \"id\": \"1-10007452-3\", \"section_title\": \"Fleet\", \"caption\": \"Fleet\",\"name\": \"table_10007452_3\"}\n",
        "\n",
        "Question Info: {\"phase\": 1, \"table_id\": \"1-10007452-3\", \"question\": \"how many times is the fleet series (quantity) is 468-473 (6)?\", \"sql\": {\"sel\": 0, \"conds\": [[3, 0, \"468-473 (6)\"]], \"agg\": 3}}\n",
        "\n",
        "Final Query : select count(Order Year) from table_10007452_3 where Fleet Series (Quantity)=468-473 (6) \n",
        "\n"
      ]
    },
    {
      "cell_type": "markdown",
      "metadata": {
        "id": "Bz509UNINhGg"
      },
      "source": [
        "************************************************************************************************************************************************"
      ]
    },
    {
      "cell_type": "markdown",
      "metadata": {
        "id": "S0g1AscDNml9"
      },
      "source": [
        "**Exploring Sparc Dataset**"
      ]
    },
    {
      "cell_type": "code",
      "metadata": {
        "id": "iCPnRXGTo1a7"
      },
      "source": [
        "import json\n",
        "with open(\"train_spider.json\") as f:\n",
        "  data=json.load(f)"
      ],
      "execution_count": 36,
      "outputs": []
    },
    {
      "cell_type": "code",
      "metadata": {
        "id": "WLEsSTrWQ5A4"
      },
      "source": [
        "db_id=[]\n",
        "query=[]\n",
        "question=[]\n",
        "for i in data:\n",
        "  db_id.append(i['db_id'])\n",
        "  query.append(i['query'])\n",
        "  question.append(i['question'])"
      ],
      "execution_count": 43,
      "outputs": []
    },
    {
      "cell_type": "code",
      "metadata": {
        "colab": {
          "base_uri": "https://localhost:8080/",
          "height": 417
        },
        "id": "nKAfWe_6dHH_",
        "outputId": "eb256659-0172-448b-dca5-ba89348c6cff"
      },
      "source": [
        "import pandas as pd\n",
        "d={\"db_id\":db_id,'query':query,'question':question}\n",
        "sparc_dataset=pd.DataFrame(d)\n",
        "sparc_dataset"
      ],
      "execution_count": 44,
      "outputs": [
        {
          "output_type": "execute_result",
          "data": {
            "text/html": [
              "<div>\n",
              "<style scoped>\n",
              "    .dataframe tbody tr th:only-of-type {\n",
              "        vertical-align: middle;\n",
              "    }\n",
              "\n",
              "    .dataframe tbody tr th {\n",
              "        vertical-align: top;\n",
              "    }\n",
              "\n",
              "    .dataframe thead th {\n",
              "        text-align: right;\n",
              "    }\n",
              "</style>\n",
              "<table border=\"1\" class=\"dataframe\">\n",
              "  <thead>\n",
              "    <tr style=\"text-align: right;\">\n",
              "      <th></th>\n",
              "      <th>db_id</th>\n",
              "      <th>query</th>\n",
              "      <th>question</th>\n",
              "    </tr>\n",
              "  </thead>\n",
              "  <tbody>\n",
              "    <tr>\n",
              "      <th>0</th>\n",
              "      <td>department_management</td>\n",
              "      <td>SELECT count(*) FROM head WHERE age  &gt;  56</td>\n",
              "      <td>How many heads of the departments are older th...</td>\n",
              "    </tr>\n",
              "    <tr>\n",
              "      <th>1</th>\n",
              "      <td>department_management</td>\n",
              "      <td>SELECT name ,  born_state ,  age FROM head ORD...</td>\n",
              "      <td>List the name, born state and age of the heads...</td>\n",
              "    </tr>\n",
              "    <tr>\n",
              "      <th>2</th>\n",
              "      <td>department_management</td>\n",
              "      <td>SELECT creation ,  name ,  budget_in_billions ...</td>\n",
              "      <td>List the creation year, name and budget of eac...</td>\n",
              "    </tr>\n",
              "    <tr>\n",
              "      <th>3</th>\n",
              "      <td>department_management</td>\n",
              "      <td>SELECT max(budget_in_billions) ,  min(budget_i...</td>\n",
              "      <td>What are the maximum and minimum budget of the...</td>\n",
              "    </tr>\n",
              "    <tr>\n",
              "      <th>4</th>\n",
              "      <td>department_management</td>\n",
              "      <td>SELECT avg(num_employees) FROM department WHER...</td>\n",
              "      <td>What is the average number of employees of the...</td>\n",
              "    </tr>\n",
              "    <tr>\n",
              "      <th>...</th>\n",
              "      <td>...</td>\n",
              "      <td>...</td>\n",
              "      <td>...</td>\n",
              "    </tr>\n",
              "    <tr>\n",
              "      <th>6995</th>\n",
              "      <td>culture_company</td>\n",
              "      <td>SELECT T1.company_name FROM culture_company AS...</td>\n",
              "      <td>What are all the company names that have a boo...</td>\n",
              "    </tr>\n",
              "    <tr>\n",
              "      <th>6996</th>\n",
              "      <td>culture_company</td>\n",
              "      <td>SELECT T1.title ,  T3.book_title FROM movie AS...</td>\n",
              "      <td>Show the movie titles and book titles for all ...</td>\n",
              "    </tr>\n",
              "    <tr>\n",
              "      <th>6997</th>\n",
              "      <td>culture_company</td>\n",
              "      <td>SELECT T1.title ,  T3.book_title FROM movie AS...</td>\n",
              "      <td>What are the titles of movies and books corres...</td>\n",
              "    </tr>\n",
              "    <tr>\n",
              "      <th>6998</th>\n",
              "      <td>culture_company</td>\n",
              "      <td>SELECT T2.company_name FROM movie AS T1 JOIN c...</td>\n",
              "      <td>Show all company names with a movie directed i...</td>\n",
              "    </tr>\n",
              "    <tr>\n",
              "      <th>6999</th>\n",
              "      <td>culture_company</td>\n",
              "      <td>SELECT T2.company_name FROM movie AS T1 JOIN c...</td>\n",
              "      <td>What are all company names that have a corresp...</td>\n",
              "    </tr>\n",
              "  </tbody>\n",
              "</table>\n",
              "<p>7000 rows × 3 columns</p>\n",
              "</div>"
            ],
            "text/plain": [
              "                      db_id  ...                                           question\n",
              "0     department_management  ...  How many heads of the departments are older th...\n",
              "1     department_management  ...  List the name, born state and age of the heads...\n",
              "2     department_management  ...  List the creation year, name and budget of eac...\n",
              "3     department_management  ...  What are the maximum and minimum budget of the...\n",
              "4     department_management  ...  What is the average number of employees of the...\n",
              "...                     ...  ...                                                ...\n",
              "6995        culture_company  ...  What are all the company names that have a boo...\n",
              "6996        culture_company  ...  Show the movie titles and book titles for all ...\n",
              "6997        culture_company  ...  What are the titles of movies and books corres...\n",
              "6998        culture_company  ...  Show all company names with a movie directed i...\n",
              "6999        culture_company  ...  What are all company names that have a corresp...\n",
              "\n",
              "[7000 rows x 3 columns]"
            ]
          },
          "metadata": {},
          "execution_count": 44
        }
      ]
    },
    {
      "cell_type": "code",
      "metadata": {
        "id": "Dcx-vuzgdtK1"
      },
      "source": [
        "import json\n",
        "with open(\"tables.json\") as f:\n",
        "  data=json.load(f)"
      ],
      "execution_count": 45,
      "outputs": []
    },
    {
      "cell_type": "code",
      "metadata": {
        "colab": {
          "base_uri": "https://localhost:8080/",
          "height": 870
        },
        "id": "tTdPcGYThCGr",
        "outputId": "41fa5b15-ad75-4c5b-a6ef-50afaa1683cc"
      },
      "source": [
        "column_names=[]\n",
        "column_names_original=[]\n",
        "column_types=[]\n",
        "db_id=[]\n",
        "foreign_keys=[]\n",
        "primary_keys=[]\n",
        "table_names=[]\n",
        "table_names_original=[]\n",
        "for i in data:\n",
        "  column_names.append(i['column_names'])\n",
        "  column_names_original.append(i['column_names_original'])\n",
        "  column_types.append(i['column_types'])\n",
        "  db_id.append(i['db_id'])\n",
        "  foreign_keys.append(i['foreign_keys'])\n",
        "  primary_keys.append(i['primary_keys'])\n",
        "  table_names.append(i['table_names'])\n",
        "  table_names_original.append(i['table_names_original'])\n",
        "\n",
        "d={'column_names':column_names,'column_names_original':column_names_original,'column_types':column_types,'db_id':db_id,'foreign_keys':foreign_keys,'primary_keys':primary_keys,'table_names':table_names,'table_names_original':table_names_original}\n",
        "sparc_tables_data=pd.DataFrame(d)\n",
        "sparc_tables_data"
      ],
      "execution_count": 50,
      "outputs": [
        {
          "output_type": "execute_result",
          "data": {
            "text/html": [
              "<div>\n",
              "<style scoped>\n",
              "    .dataframe tbody tr th:only-of-type {\n",
              "        vertical-align: middle;\n",
              "    }\n",
              "\n",
              "    .dataframe tbody tr th {\n",
              "        vertical-align: top;\n",
              "    }\n",
              "\n",
              "    .dataframe thead th {\n",
              "        text-align: right;\n",
              "    }\n",
              "</style>\n",
              "<table border=\"1\" class=\"dataframe\">\n",
              "  <thead>\n",
              "    <tr style=\"text-align: right;\">\n",
              "      <th></th>\n",
              "      <th>column_names</th>\n",
              "      <th>column_names_original</th>\n",
              "      <th>column_types</th>\n",
              "      <th>db_id</th>\n",
              "      <th>foreign_keys</th>\n",
              "      <th>primary_keys</th>\n",
              "      <th>table_names</th>\n",
              "      <th>table_names_original</th>\n",
              "    </tr>\n",
              "  </thead>\n",
              "  <tbody>\n",
              "    <tr>\n",
              "      <th>0</th>\n",
              "      <td>[[-1, *], [0, perpetrator id], [0, people id],...</td>\n",
              "      <td>[[-1, *], [0, Perpetrator_ID], [0, People_ID],...</td>\n",
              "      <td>[text, number, number, text, number, text, tex...</td>\n",
              "      <td>perpetrator</td>\n",
              "      <td>[[2, 9]]</td>\n",
              "      <td>[1, 9]</td>\n",
              "      <td>[perpetrator, people]</td>\n",
              "      <td>[perpetrator, people]</td>\n",
              "    </tr>\n",
              "    <tr>\n",
              "      <th>1</th>\n",
              "      <td>[[-1, *], [0, building], [0, room number], [0,...</td>\n",
              "      <td>[[-1, *], [0, building], [0, room_number], [0,...</td>\n",
              "      <td>[text, text, text, number, text, text, number,...</td>\n",
              "      <td>college_2</td>\n",
              "      <td>[[9, 4], [13, 4], [19, 1], [20, 2], [15, 7], [...</td>\n",
              "      <td>[1, 4, 7, 11, 15, 22, 27, 31, 37, 39, 45]</td>\n",
              "      <td>[classroom, department, course, instructor, se...</td>\n",
              "      <td>[classroom, department, course, instructor, se...</td>\n",
              "    </tr>\n",
              "    <tr>\n",
              "      <th>2</th>\n",
              "      <td>[[-1, *], [0, id], [0, city], [0, country], [0...</td>\n",
              "      <td>[[-1, *], [0, id], [0, City], [0, Country], [0...</td>\n",
              "      <td>[text, number, text, text, text, text, text, n...</td>\n",
              "      <td>flight_company</td>\n",
              "      <td>[[20, 7], [19, 1]]</td>\n",
              "      <td>[1, 7, 13]</td>\n",
              "      <td>[airport, operate company, flight]</td>\n",
              "      <td>[airport, operate_company, flight]</td>\n",
              "    </tr>\n",
              "    <tr>\n",
              "      <th>3</th>\n",
              "      <td>[[-1, *], [0, institution id], [0, name], [0, ...</td>\n",
              "      <td>[[-1, *], [0, instID], [0, name], [0, country]...</td>\n",
              "      <td>[text, number, text, text, number, text, text,...</td>\n",
              "      <td>icfp_1</td>\n",
              "      <td>[[11, 7], [10, 1], [9, 4]]</td>\n",
              "      <td>[1, 4, 7, 9]</td>\n",
              "      <td>[institution, authors, papers, authorship count]</td>\n",
              "      <td>[Inst, Authors, Papers, Authorship]</td>\n",
              "    </tr>\n",
              "    <tr>\n",
              "      <th>4</th>\n",
              "      <td>[[-1, *], [0, body builder id], [0, people id]...</td>\n",
              "      <td>[[-1, *], [0, Body_Builder_ID], [0, People_ID]...</td>\n",
              "      <td>[text, number, number, number, number, number,...</td>\n",
              "      <td>body_builder</td>\n",
              "      <td>[[2, 6]]</td>\n",
              "      <td>[1, 6]</td>\n",
              "      <td>[body builder, people]</td>\n",
              "      <td>[body_builder, people]</td>\n",
              "    </tr>\n",
              "    <tr>\n",
              "      <th>...</th>\n",
              "      <td>...</td>\n",
              "      <td>...</td>\n",
              "      <td>...</td>\n",
              "      <td>...</td>\n",
              "      <td>...</td>\n",
              "      <td>...</td>\n",
              "      <td>...</td>\n",
              "      <td>...</td>\n",
              "    </tr>\n",
              "    <tr>\n",
              "      <th>161</th>\n",
              "      <td>[[-1, *], [0, employee ssn], [0, project numbe...</td>\n",
              "      <td>[[-1, *], [0, Essn], [0, Pno], [0, Hours], [1,...</td>\n",
              "      <td>[text, number, number, number, text, text, tex...</td>\n",
              "      <td>company_1</td>\n",
              "      <td>[]</td>\n",
              "      <td>[1, 7, 15, 19, 22, 27]</td>\n",
              "      <td>[works on, employee, department, project, depe...</td>\n",
              "      <td>[works_on, employee, department, project, depe...</td>\n",
              "    </tr>\n",
              "    <tr>\n",
              "      <th>162</th>\n",
              "      <td>[[-1, *], [0, workshop id], [0, date], [0, ven...</td>\n",
              "      <td>[[-1, *], [0, Workshop_ID], [0, Date], [0, Ven...</td>\n",
              "      <td>[text, number, text, text, text, number, numbe...</td>\n",
              "      <td>workshop_paper</td>\n",
              "      <td>[[10, 1], [9, 5]]</td>\n",
              "      <td>[1, 5, 9]</td>\n",
              "      <td>[workshop, submission, acceptance]</td>\n",
              "      <td>[workshop, submission, Acceptance]</td>\n",
              "    </tr>\n",
              "    <tr>\n",
              "      <th>163</th>\n",
              "      <td>[[-1, *], [0, item id], [0, title], [1, a id],...</td>\n",
              "      <td>[[-1, *], [0, i_id], [0, title], [1, a_id], [1...</td>\n",
              "      <td>[text, number, text, number, number, number, n...</td>\n",
              "      <td>epinions_1</td>\n",
              "      <td>[[5, 1], [4, 8], [11, 8], [10, 8]]</td>\n",
              "      <td>[1, 3, 8]</td>\n",
              "      <td>[item, review, useracct, trust]</td>\n",
              "      <td>[item, review, useracct, trust]</td>\n",
              "    </tr>\n",
              "    <tr>\n",
              "      <th>164</th>\n",
              "      <td>[[-1, *], [0, party id], [0, party theme], [0,...</td>\n",
              "      <td>[[-1, *], [0, Party_ID], [0, Party_Theme], [0,...</td>\n",
              "      <td>[text, number, text, text, text, text, number,...</td>\n",
              "      <td>party_host</td>\n",
              "      <td>[[11, 1], [12, 7]]</td>\n",
              "      <td>[1, 7, 11]</td>\n",
              "      <td>[party, host, party host]</td>\n",
              "      <td>[party, host, party_host]</td>\n",
              "    </tr>\n",
              "    <tr>\n",
              "      <th>165</th>\n",
              "      <td>[[-1, *], [0, attribute id], [0, attribute nam...</td>\n",
              "      <td>[[-1, *], [0, attribute_id], [0, attribute_nam...</td>\n",
              "      <td>[text, number, text, text, number, text, text,...</td>\n",
              "      <td>product_catalog</td>\n",
              "      <td>[[10, 4], [13, 9], [27, 9], [26, 12]]</td>\n",
              "      <td>[1, 4, 9, 12]</td>\n",
              "      <td>[attribute definitions, catalogs, catalog stru...</td>\n",
              "      <td>[Attribute_Definitions, Catalogs, Catalog_Stru...</td>\n",
              "    </tr>\n",
              "  </tbody>\n",
              "</table>\n",
              "<p>166 rows × 8 columns</p>\n",
              "</div>"
            ],
            "text/plain": [
              "                                          column_names  ...                               table_names_original\n",
              "0    [[-1, *], [0, perpetrator id], [0, people id],...  ...                              [perpetrator, people]\n",
              "1    [[-1, *], [0, building], [0, room number], [0,...  ...  [classroom, department, course, instructor, se...\n",
              "2    [[-1, *], [0, id], [0, city], [0, country], [0...  ...                 [airport, operate_company, flight]\n",
              "3    [[-1, *], [0, institution id], [0, name], [0, ...  ...                [Inst, Authors, Papers, Authorship]\n",
              "4    [[-1, *], [0, body builder id], [0, people id]...  ...                             [body_builder, people]\n",
              "..                                                 ...  ...                                                ...\n",
              "161  [[-1, *], [0, employee ssn], [0, project numbe...  ...  [works_on, employee, department, project, depe...\n",
              "162  [[-1, *], [0, workshop id], [0, date], [0, ven...  ...                 [workshop, submission, Acceptance]\n",
              "163  [[-1, *], [0, item id], [0, title], [1, a id],...  ...                    [item, review, useracct, trust]\n",
              "164  [[-1, *], [0, party id], [0, party theme], [0,...  ...                          [party, host, party_host]\n",
              "165  [[-1, *], [0, attribute id], [0, attribute nam...  ...  [Attribute_Definitions, Catalogs, Catalog_Stru...\n",
              "\n",
              "[166 rows x 8 columns]"
            ]
          },
          "metadata": {},
          "execution_count": 50
        }
      ]
    },
    {
      "cell_type": "markdown",
      "metadata": {
        "id": "3lF70nXJsQP-"
      },
      "source": [
        "Sparc Dataset has text questions to corresponding text sql query. Each database has many tables that are related by some foreign key."
      ]
    }
  ]
}