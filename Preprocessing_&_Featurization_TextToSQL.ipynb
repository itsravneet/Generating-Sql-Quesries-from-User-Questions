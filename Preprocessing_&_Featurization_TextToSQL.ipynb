{
  "nbformat": 4,
  "nbformat_minor": 0,
  "metadata": {
    "colab": {
      "name": "Preprocessing_&_Featurization_TextToSQL.ipynb",
      "provenance": []
    },
    "kernelspec": {
      "name": "python3",
      "display_name": "Python 3"
    },
    "language_info": {
      "name": "python"
    },
    "accelerator": "GPU"
  },
  "cells": [
    {
      "cell_type": "markdown",
      "metadata": {
        "id": "lyciaheQzJGa"
      },
      "source": [
        "# Preprocessing and featurizing train data"
      ]
    },
    {
      "cell_type": "code",
      "metadata": {
        "colab": {
          "base_uri": "https://localhost:8080/"
        },
        "id": "95YQteDO9ie3",
        "outputId": "5757c53a-09fd-40e0-90d2-5e763c6878af"
      },
      "source": [
        "!pip install jsonlines"
      ],
      "execution_count": null,
      "outputs": [
        {
          "output_type": "stream",
          "name": "stdout",
          "text": [
            "Requirement already satisfied: jsonlines in /usr/local/lib/python3.7/dist-packages (2.0.0)\n"
          ]
        }
      ]
    },
    {
      "cell_type": "code",
      "metadata": {
        "id": "Qn1RWFtS-PJ4"
      },
      "source": [
        "#Loading Json Train Data\n",
        "import jsonlines\n",
        "phase=[]\n",
        "table_id=[]\n",
        "question=[]\n",
        "sql=[]\n",
        "with jsonlines.open(\"train.jsonl\") as f:\n",
        "  for line in f.iter():\n",
        "    phase.append(line['phase'])\n",
        "    table_id.append(line['table_id'])\n",
        "    question.append(line['question'])\n",
        "    sql.append(line['sql'])\n",
        "import pandas as pd\n",
        "d={'phase':phase,'table_id':table_id,'question':question,'sql':sql}\n",
        "train_data=pd.DataFrame(d)\n",
        "train_data\n",
        "f.close()"
      ],
      "execution_count": null,
      "outputs": []
    },
    {
      "cell_type": "code",
      "metadata": {
        "id": "ifdVVo2sCd2H"
      },
      "source": [
        "train_data.columns=['phase','id','question','sql']"
      ],
      "execution_count": null,
      "outputs": []
    },
    {
      "cell_type": "code",
      "metadata": {
        "colab": {
          "base_uri": "https://localhost:8080/",
          "height": 417
        },
        "id": "ctHw9UJV-VnU",
        "outputId": "b797685a-30dc-477b-97ce-89634eaaf215"
      },
      "source": [
        "import jsonlines\n",
        "id=[]\n",
        "header=[]\n",
        "types=[]\n",
        "rows=[]\n",
        "with jsonlines.open(\"train.tables.jsonl\") as f:\n",
        "  for line in f.iter():\n",
        "    id.append((line['id']))\n",
        "    header.append((line['header']))\n",
        "    types.append((line['types']))\n",
        "    rows.append(line['rows'])\n",
        "d={'id':id,'header':header,'types':types,'rows':rows}\n",
        "train_table_info=pd.DataFrame(d)\n",
        "train_table_info"
      ],
      "execution_count": null,
      "outputs": [
        {
          "output_type": "execute_result",
          "data": {
            "text/html": [
              "<div>\n",
              "<style scoped>\n",
              "    .dataframe tbody tr th:only-of-type {\n",
              "        vertical-align: middle;\n",
              "    }\n",
              "\n",
              "    .dataframe tbody tr th {\n",
              "        vertical-align: top;\n",
              "    }\n",
              "\n",
              "    .dataframe thead th {\n",
              "        text-align: right;\n",
              "    }\n",
              "</style>\n",
              "<table border=\"1\" class=\"dataframe\">\n",
              "  <thead>\n",
              "    <tr style=\"text-align: right;\">\n",
              "      <th></th>\n",
              "      <th>id</th>\n",
              "      <th>header</th>\n",
              "      <th>types</th>\n",
              "      <th>rows</th>\n",
              "    </tr>\n",
              "  </thead>\n",
              "  <tbody>\n",
              "    <tr>\n",
              "      <th>0</th>\n",
              "      <td>1-1000181-1</td>\n",
              "      <td>[State/territory, Text/background colour, Form...</td>\n",
              "      <td>[text, text, text, text, text, text]</td>\n",
              "      <td>[[Australian Capital Territory, blue/white, Ya...</td>\n",
              "    </tr>\n",
              "    <tr>\n",
              "      <th>1</th>\n",
              "      <td>1-10006830-1</td>\n",
              "      <td>[Aircraft, Description, Max Gross Weight, Tota...</td>\n",
              "      <td>[text, text, text, text, text]</td>\n",
              "      <td>[[Robinson R-22, Light utility helicopter, 1,3...</td>\n",
              "    </tr>\n",
              "    <tr>\n",
              "      <th>2</th>\n",
              "      <td>1-10007452-3</td>\n",
              "      <td>[Order Year, Manufacturer, Model, Fleet Series...</td>\n",
              "      <td>[text, text, text, text, text, text]</td>\n",
              "      <td>[[1992-93, Gillig, Phantom (High Floor), 444-4...</td>\n",
              "    </tr>\n",
              "    <tr>\n",
              "      <th>3</th>\n",
              "      <td>1-10015132-1</td>\n",
              "      <td>[Player, No., Nationality, Position, Years in ...</td>\n",
              "      <td>[text, text, text, text, text, text]</td>\n",
              "      <td>[[Quincy Acy, 4, United States, Forward, 2012-...</td>\n",
              "    </tr>\n",
              "    <tr>\n",
              "      <th>4</th>\n",
              "      <td>1-10015132-14</td>\n",
              "      <td>[Player, No., Nationality, Position, Years in ...</td>\n",
              "      <td>[text, real, text, text, text, text]</td>\n",
              "      <td>[[Patrick O'Bryant, 13, United States, Center,...</td>\n",
              "    </tr>\n",
              "    <tr>\n",
              "      <th>...</th>\n",
              "      <td>...</td>\n",
              "      <td>...</td>\n",
              "      <td>...</td>\n",
              "      <td>...</td>\n",
              "    </tr>\n",
              "    <tr>\n",
              "      <th>18580</th>\n",
              "      <td>2-18998832-2</td>\n",
              "      <td>[Game, Date, Opponent, Venue, Result, Attendance]</td>\n",
              "      <td>[real, text, text, text, text, real]</td>\n",
              "      <td>[[1, 15 August 1987, Swindon Town, Home, 2–0, ...</td>\n",
              "    </tr>\n",
              "    <tr>\n",
              "      <th>18581</th>\n",
              "      <td>2-18998832-5</td>\n",
              "      <td>[Round (Leg), Date, Opponent, Venue, Result, A...</td>\n",
              "      <td>[text, text, text, text, text, real]</td>\n",
              "      <td>[[2 (1), 22 September 1987, Fulham, Away, 5–1,...</td>\n",
              "    </tr>\n",
              "    <tr>\n",
              "      <th>18582</th>\n",
              "      <td>2-19001175-1</td>\n",
              "      <td>[Country, Seasons, Championship Titles, Race e...</td>\n",
              "      <td>[text, text, text, text, real, real, real, rea...</td>\n",
              "      <td>[[United Kingdom, 1986, 0, 1, 0, 0, 0, 0, 0], ...</td>\n",
              "    </tr>\n",
              "    <tr>\n",
              "      <th>18583</th>\n",
              "      <td>2-19008019-32</td>\n",
              "      <td>[!Event, Round, Surface, Winner, Opponent, Res...</td>\n",
              "      <td>[real, text, text, text, text, text]</td>\n",
              "      <td>[[1., Wimbledon, Final, Grass, Roger Federer, ...</td>\n",
              "    </tr>\n",
              "    <tr>\n",
              "      <th>18584</th>\n",
              "      <td>2-19008977-1</td>\n",
              "      <td>[Name, Premier League, League Cup, FA Cup, UEF...</td>\n",
              "      <td>[text, real, real, real, real, real]</td>\n",
              "      <td>[[Tim Cahill Category:Articles with hCards, 8,...</td>\n",
              "    </tr>\n",
              "  </tbody>\n",
              "</table>\n",
              "<p>18585 rows × 4 columns</p>\n",
              "</div>"
            ],
            "text/plain": [
              "                  id  ...                                               rows\n",
              "0        1-1000181-1  ...  [[Australian Capital Territory, blue/white, Ya...\n",
              "1       1-10006830-1  ...  [[Robinson R-22, Light utility helicopter, 1,3...\n",
              "2       1-10007452-3  ...  [[1992-93, Gillig, Phantom (High Floor), 444-4...\n",
              "3       1-10015132-1  ...  [[Quincy Acy, 4, United States, Forward, 2012-...\n",
              "4      1-10015132-14  ...  [[Patrick O'Bryant, 13, United States, Center,...\n",
              "...              ...  ...                                                ...\n",
              "18580   2-18998832-2  ...  [[1, 15 August 1987, Swindon Town, Home, 2–0, ...\n",
              "18581   2-18998832-5  ...  [[2 (1), 22 September 1987, Fulham, Away, 5–1,...\n",
              "18582   2-19001175-1  ...  [[United Kingdom, 1986, 0, 1, 0, 0, 0, 0, 0], ...\n",
              "18583  2-19008019-32  ...  [[1., Wimbledon, Final, Grass, Roger Federer, ...\n",
              "18584   2-19008977-1  ...  [[Tim Cahill Category:Articles with hCards, 8,...\n",
              "\n",
              "[18585 rows x 4 columns]"
            ]
          },
          "metadata": {},
          "execution_count": 70
        }
      ]
    },
    {
      "cell_type": "code",
      "metadata": {
        "id": "GElM5JzwBNEp",
        "colab": {
          "base_uri": "https://localhost:8080/",
          "height": 652
        },
        "outputId": "e3084275-3ed9-43ae-a56d-f6f02cf7ca60"
      },
      "source": [
        "#merging both tables\n",
        "merged_data=train_data.merge(train_table_info,on='id')\n",
        "merged_data"
      ],
      "execution_count": null,
      "outputs": [
        {
          "output_type": "execute_result",
          "data": {
            "text/html": [
              "<div>\n",
              "<style scoped>\n",
              "    .dataframe tbody tr th:only-of-type {\n",
              "        vertical-align: middle;\n",
              "    }\n",
              "\n",
              "    .dataframe tbody tr th {\n",
              "        vertical-align: top;\n",
              "    }\n",
              "\n",
              "    .dataframe thead th {\n",
              "        text-align: right;\n",
              "    }\n",
              "</style>\n",
              "<table border=\"1\" class=\"dataframe\">\n",
              "  <thead>\n",
              "    <tr style=\"text-align: right;\">\n",
              "      <th></th>\n",
              "      <th>phase</th>\n",
              "      <th>id</th>\n",
              "      <th>question</th>\n",
              "      <th>sql</th>\n",
              "      <th>header</th>\n",
              "      <th>types</th>\n",
              "      <th>rows</th>\n",
              "    </tr>\n",
              "  </thead>\n",
              "  <tbody>\n",
              "    <tr>\n",
              "      <th>0</th>\n",
              "      <td>1</td>\n",
              "      <td>1-1000181-1</td>\n",
              "      <td>Tell me what the notes are for South Australia</td>\n",
              "      <td>{'sel': 5, 'conds': [[3, 0, 'SOUTH AUSTRALIA']...</td>\n",
              "      <td>[State/territory, Text/background colour, Form...</td>\n",
              "      <td>[text, text, text, text, text, text]</td>\n",
              "      <td>[[Australian Capital Territory, blue/white, Ya...</td>\n",
              "    </tr>\n",
              "    <tr>\n",
              "      <th>1</th>\n",
              "      <td>1</td>\n",
              "      <td>1-1000181-1</td>\n",
              "      <td>What is the current series where the new serie...</td>\n",
              "      <td>{'sel': 4, 'conds': [[5, 0, 'New series began ...</td>\n",
              "      <td>[State/territory, Text/background colour, Form...</td>\n",
              "      <td>[text, text, text, text, text, text]</td>\n",
              "      <td>[[Australian Capital Territory, blue/white, Ya...</td>\n",
              "    </tr>\n",
              "    <tr>\n",
              "      <th>2</th>\n",
              "      <td>1</td>\n",
              "      <td>1-1000181-1</td>\n",
              "      <td>What is the format for South Australia?</td>\n",
              "      <td>{'sel': 2, 'conds': [[0, 0, 'South Australia']...</td>\n",
              "      <td>[State/territory, Text/background colour, Form...</td>\n",
              "      <td>[text, text, text, text, text, text]</td>\n",
              "      <td>[[Australian Capital Territory, blue/white, Ya...</td>\n",
              "    </tr>\n",
              "    <tr>\n",
              "      <th>3</th>\n",
              "      <td>1</td>\n",
              "      <td>1-1000181-1</td>\n",
              "      <td>Name the background colour for the Australian ...</td>\n",
              "      <td>{'sel': 1, 'conds': [[0, 0, 'Australian Capita...</td>\n",
              "      <td>[State/territory, Text/background colour, Form...</td>\n",
              "      <td>[text, text, text, text, text, text]</td>\n",
              "      <td>[[Australian Capital Territory, blue/white, Ya...</td>\n",
              "    </tr>\n",
              "    <tr>\n",
              "      <th>4</th>\n",
              "      <td>1</td>\n",
              "      <td>1-10007452-3</td>\n",
              "      <td>how many times is the fuel propulsion is cng?</td>\n",
              "      <td>{'sel': 3, 'conds': [[5, 0, 'CNG']], 'agg': 3}</td>\n",
              "      <td>[Order Year, Manufacturer, Model, Fleet Series...</td>\n",
              "      <td>[text, text, text, text, text, text]</td>\n",
              "      <td>[[1992-93, Gillig, Phantom (High Floor), 444-4...</td>\n",
              "    </tr>\n",
              "    <tr>\n",
              "      <th>...</th>\n",
              "      <td>...</td>\n",
              "      <td>...</td>\n",
              "      <td>...</td>\n",
              "      <td>...</td>\n",
              "      <td>...</td>\n",
              "      <td>...</td>\n",
              "      <td>...</td>\n",
              "    </tr>\n",
              "    <tr>\n",
              "      <th>56350</th>\n",
              "      <td>2</td>\n",
              "      <td>2-12200756-16</td>\n",
              "      <td>What time was the match played with a score of...</td>\n",
              "      <td>{'sel': 1, 'conds': [[5, 0, '3-2']], 'agg': 0}</td>\n",
              "      <td>[Date, Time, Competition, Opponent, Ground, Sc...</td>\n",
              "      <td>[text, text, text, text, text, text]</td>\n",
              "      <td>[[17 July 2007, 15:30 GMT, Friendly Match, Chi...</td>\n",
              "    </tr>\n",
              "    <tr>\n",
              "      <th>56351</th>\n",
              "      <td>2</td>\n",
              "      <td>2-12200756-16</td>\n",
              "      <td>On which ground did the team play Aston Villa?</td>\n",
              "      <td>{'sel': 4, 'conds': [[3, 0, 'aston villa']], '...</td>\n",
              "      <td>[Date, Time, Competition, Opponent, Ground, Sc...</td>\n",
              "      <td>[text, text, text, text, text, text]</td>\n",
              "      <td>[[17 July 2007, 15:30 GMT, Friendly Match, Chi...</td>\n",
              "    </tr>\n",
              "    <tr>\n",
              "      <th>56352</th>\n",
              "      <td>2</td>\n",
              "      <td>2-12200756-16</td>\n",
              "      <td>What kind of competition was it at San Siro at...</td>\n",
              "      <td>{'sel': 2, 'conds': [[4, 0, 'san siro'], [1, 0...</td>\n",
              "      <td>[Date, Time, Competition, Opponent, Ground, Sc...</td>\n",
              "      <td>[text, text, text, text, text, text]</td>\n",
              "      <td>[[17 July 2007, 15:30 GMT, Friendly Match, Chi...</td>\n",
              "    </tr>\n",
              "    <tr>\n",
              "      <th>56353</th>\n",
              "      <td>2</td>\n",
              "      <td>2-12214488-1</td>\n",
              "      <td>What is the total number of decile for the red...</td>\n",
              "      <td>{'sel': 5, 'conds': [[0, 0, 'redwood school']]...</td>\n",
              "      <td>[Name, Years, Gender, Locality, Authority, Dec...</td>\n",
              "      <td>[text, text, text, text, text, real]</td>\n",
              "      <td>[[Amesbury School, 1–6, Coed, Churton Park, St...</td>\n",
              "    </tr>\n",
              "    <tr>\n",
              "      <th>56354</th>\n",
              "      <td>2</td>\n",
              "      <td>2-12650456-2</td>\n",
              "      <td>Which report includes a Circuit of Tripoli?</td>\n",
              "      <td>{'sel': 5, 'conds': [[1, 0, 'tripoli']], 'agg'...</td>\n",
              "      <td>[Name, Circuit, Date, Winning driver, Winning ...</td>\n",
              "      <td>[text, text, text, text, text, text]</td>\n",
              "      <td>[[Tripoli Grand Prix, Tripoli, 11 March, Tazio...</td>\n",
              "    </tr>\n",
              "  </tbody>\n",
              "</table>\n",
              "<p>56355 rows × 7 columns</p>\n",
              "</div>"
            ],
            "text/plain": [
              "       phase  ...                                               rows\n",
              "0          1  ...  [[Australian Capital Territory, blue/white, Ya...\n",
              "1          1  ...  [[Australian Capital Territory, blue/white, Ya...\n",
              "2          1  ...  [[Australian Capital Territory, blue/white, Ya...\n",
              "3          1  ...  [[Australian Capital Territory, blue/white, Ya...\n",
              "4          1  ...  [[1992-93, Gillig, Phantom (High Floor), 444-4...\n",
              "...      ...  ...                                                ...\n",
              "56350      2  ...  [[17 July 2007, 15:30 GMT, Friendly Match, Chi...\n",
              "56351      2  ...  [[17 July 2007, 15:30 GMT, Friendly Match, Chi...\n",
              "56352      2  ...  [[17 July 2007, 15:30 GMT, Friendly Match, Chi...\n",
              "56353      2  ...  [[Amesbury School, 1–6, Coed, Churton Park, St...\n",
              "56354      2  ...  [[Tripoli Grand Prix, Tripoli, 11 March, Tazio...\n",
              "\n",
              "[56355 rows x 7 columns]"
            ]
          },
          "metadata": {},
          "execution_count": 71
        }
      ]
    },
    {
      "cell_type": "code",
      "metadata": {
        "colab": {
          "base_uri": "https://localhost:8080/"
        },
        "id": "tepmAfxQFCWY",
        "outputId": "e1aebf32-0383-4499-eafb-767847242d7a"
      },
      "source": [
        "#Converting dictionary sql answer into sql text for using in seq-seq model\n",
        "from tqdm import tqdm \n",
        "sql_in_text=[]\n",
        "aggregate=['','MAX','MIN','COUNT','SUM','AVG']\n",
        "operator=['=','<','>']\n",
        "word_operator=['eq','lt','gt']\n",
        "\n",
        "for i in tqdm(range(len(merged_data))):\n",
        "  sql=merged_data.sql.iloc[i]\n",
        "  col=merged_data.header.iloc[i][sql['sel']]\n",
        "  agg=aggregate[sql['agg']]\n",
        "  cond_col=[]\n",
        "  cond_opr=[]\n",
        "  cond_value=[]\n",
        "  for j in sql['conds']:\n",
        "    cond_col.append(merged_data.header.iloc[i][j[0]])\n",
        "    cond_opr.append(word_operator[j[1]])\n",
        "    cond_value.append(j[2])\n",
        "  resulted_sql=\"select \"\n",
        "  if(agg==''):\n",
        "    resulted_sql+=col+\" where \"\n",
        "  else:\n",
        "    resulted_sql+=agg+\"(\"+col+\") where \"\n",
        "\n",
        "  for j in range(len(cond_col)):\n",
        "    if(j!=0):\n",
        "      resulted_sql+=\"and \"\n",
        "    resulted_sql+=cond_col[j]+' '+cond_opr[j]+' '\n",
        "    resulted_sql+=str(cond_value[j])+' '\n",
        "\n",
        "  sql_in_text.append(resulted_sql)"
      ],
      "execution_count": null,
      "outputs": [
        {
          "output_type": "stream",
          "name": "stderr",
          "text": [
            "100%|██████████| 56355/56355 [00:03<00:00, 14369.95it/s]\n"
          ]
        }
      ]
    },
    {
      "cell_type": "code",
      "metadata": {
        "id": "AKDayzynWxpu"
      },
      "source": [
        "merged_data['resulted_sql']=sql_in_text"
      ],
      "execution_count": null,
      "outputs": []
    },
    {
      "cell_type": "code",
      "metadata": {
        "colab": {
          "base_uri": "https://localhost:8080/",
          "height": 753
        },
        "id": "d6NumIQAW_kB",
        "outputId": "2285e1ee-f5a0-44c6-e76d-a92625982b0d"
      },
      "source": [
        "merged_data"
      ],
      "execution_count": null,
      "outputs": [
        {
          "output_type": "execute_result",
          "data": {
            "text/html": [
              "<div>\n",
              "<style scoped>\n",
              "    .dataframe tbody tr th:only-of-type {\n",
              "        vertical-align: middle;\n",
              "    }\n",
              "\n",
              "    .dataframe tbody tr th {\n",
              "        vertical-align: top;\n",
              "    }\n",
              "\n",
              "    .dataframe thead th {\n",
              "        text-align: right;\n",
              "    }\n",
              "</style>\n",
              "<table border=\"1\" class=\"dataframe\">\n",
              "  <thead>\n",
              "    <tr style=\"text-align: right;\">\n",
              "      <th></th>\n",
              "      <th>phase</th>\n",
              "      <th>id</th>\n",
              "      <th>question</th>\n",
              "      <th>sql</th>\n",
              "      <th>header</th>\n",
              "      <th>types</th>\n",
              "      <th>rows</th>\n",
              "      <th>resulted_sql</th>\n",
              "    </tr>\n",
              "  </thead>\n",
              "  <tbody>\n",
              "    <tr>\n",
              "      <th>0</th>\n",
              "      <td>1</td>\n",
              "      <td>1-1000181-1</td>\n",
              "      <td>Tell me what the notes are for South Australia</td>\n",
              "      <td>{'sel': 5, 'conds': [[3, 0, 'SOUTH AUSTRALIA']...</td>\n",
              "      <td>[State/territory, Text/background colour, Form...</td>\n",
              "      <td>[text, text, text, text, text, text]</td>\n",
              "      <td>[[Australian Capital Territory, blue/white, Ya...</td>\n",
              "      <td>select Notes where Current slogan eq SOUTH AUS...</td>\n",
              "    </tr>\n",
              "    <tr>\n",
              "      <th>1</th>\n",
              "      <td>1</td>\n",
              "      <td>1-1000181-1</td>\n",
              "      <td>What is the current series where the new serie...</td>\n",
              "      <td>{'sel': 4, 'conds': [[5, 0, 'New series began ...</td>\n",
              "      <td>[State/territory, Text/background colour, Form...</td>\n",
              "      <td>[text, text, text, text, text, text]</td>\n",
              "      <td>[[Australian Capital Territory, blue/white, Ya...</td>\n",
              "      <td>select Current series where Notes eq New serie...</td>\n",
              "    </tr>\n",
              "    <tr>\n",
              "      <th>2</th>\n",
              "      <td>1</td>\n",
              "      <td>1-1000181-1</td>\n",
              "      <td>What is the format for South Australia?</td>\n",
              "      <td>{'sel': 2, 'conds': [[0, 0, 'South Australia']...</td>\n",
              "      <td>[State/territory, Text/background colour, Form...</td>\n",
              "      <td>[text, text, text, text, text, text]</td>\n",
              "      <td>[[Australian Capital Territory, blue/white, Ya...</td>\n",
              "      <td>select Format where State/territory eq South A...</td>\n",
              "    </tr>\n",
              "    <tr>\n",
              "      <th>3</th>\n",
              "      <td>1</td>\n",
              "      <td>1-1000181-1</td>\n",
              "      <td>Name the background colour for the Australian ...</td>\n",
              "      <td>{'sel': 1, 'conds': [[0, 0, 'Australian Capita...</td>\n",
              "      <td>[State/territory, Text/background colour, Form...</td>\n",
              "      <td>[text, text, text, text, text, text]</td>\n",
              "      <td>[[Australian Capital Territory, blue/white, Ya...</td>\n",
              "      <td>select Text/background colour where State/terr...</td>\n",
              "    </tr>\n",
              "    <tr>\n",
              "      <th>4</th>\n",
              "      <td>1</td>\n",
              "      <td>1-10007452-3</td>\n",
              "      <td>how many times is the fuel propulsion is cng?</td>\n",
              "      <td>{'sel': 3, 'conds': [[5, 0, 'CNG']], 'agg': 3}</td>\n",
              "      <td>[Order Year, Manufacturer, Model, Fleet Series...</td>\n",
              "      <td>[text, text, text, text, text, text]</td>\n",
              "      <td>[[1992-93, Gillig, Phantom (High Floor), 444-4...</td>\n",
              "      <td>select COUNT(Fleet Series (Quantity)) where Fu...</td>\n",
              "    </tr>\n",
              "    <tr>\n",
              "      <th>...</th>\n",
              "      <td>...</td>\n",
              "      <td>...</td>\n",
              "      <td>...</td>\n",
              "      <td>...</td>\n",
              "      <td>...</td>\n",
              "      <td>...</td>\n",
              "      <td>...</td>\n",
              "      <td>...</td>\n",
              "    </tr>\n",
              "    <tr>\n",
              "      <th>56350</th>\n",
              "      <td>2</td>\n",
              "      <td>2-12200756-16</td>\n",
              "      <td>What time was the match played with a score of...</td>\n",
              "      <td>{'sel': 1, 'conds': [[5, 0, '3-2']], 'agg': 0}</td>\n",
              "      <td>[Date, Time, Competition, Opponent, Ground, Sc...</td>\n",
              "      <td>[text, text, text, text, text, text]</td>\n",
              "      <td>[[17 July 2007, 15:30 GMT, Friendly Match, Chi...</td>\n",
              "      <td>select Time where Score eq 3-2</td>\n",
              "    </tr>\n",
              "    <tr>\n",
              "      <th>56351</th>\n",
              "      <td>2</td>\n",
              "      <td>2-12200756-16</td>\n",
              "      <td>On which ground did the team play Aston Villa?</td>\n",
              "      <td>{'sel': 4, 'conds': [[3, 0, 'aston villa']], '...</td>\n",
              "      <td>[Date, Time, Competition, Opponent, Ground, Sc...</td>\n",
              "      <td>[text, text, text, text, text, text]</td>\n",
              "      <td>[[17 July 2007, 15:30 GMT, Friendly Match, Chi...</td>\n",
              "      <td>select Ground where Opponent eq aston villa</td>\n",
              "    </tr>\n",
              "    <tr>\n",
              "      <th>56352</th>\n",
              "      <td>2</td>\n",
              "      <td>2-12200756-16</td>\n",
              "      <td>What kind of competition was it at San Siro at...</td>\n",
              "      <td>{'sel': 2, 'conds': [[4, 0, 'san siro'], [1, 0...</td>\n",
              "      <td>[Date, Time, Competition, Opponent, Ground, Sc...</td>\n",
              "      <td>[text, text, text, text, text, text]</td>\n",
              "      <td>[[17 July 2007, 15:30 GMT, Friendly Match, Chi...</td>\n",
              "      <td>select Competition where Ground eq san siro an...</td>\n",
              "    </tr>\n",
              "    <tr>\n",
              "      <th>56353</th>\n",
              "      <td>2</td>\n",
              "      <td>2-12214488-1</td>\n",
              "      <td>What is the total number of decile for the red...</td>\n",
              "      <td>{'sel': 5, 'conds': [[0, 0, 'redwood school']]...</td>\n",
              "      <td>[Name, Years, Gender, Locality, Authority, Dec...</td>\n",
              "      <td>[text, text, text, text, text, real]</td>\n",
              "      <td>[[Amesbury School, 1–6, Coed, Churton Park, St...</td>\n",
              "      <td>select COUNT(Decile) where Name eq redwood sch...</td>\n",
              "    </tr>\n",
              "    <tr>\n",
              "      <th>56354</th>\n",
              "      <td>2</td>\n",
              "      <td>2-12650456-2</td>\n",
              "      <td>Which report includes a Circuit of Tripoli?</td>\n",
              "      <td>{'sel': 5, 'conds': [[1, 0, 'tripoli']], 'agg'...</td>\n",
              "      <td>[Name, Circuit, Date, Winning driver, Winning ...</td>\n",
              "      <td>[text, text, text, text, text, text]</td>\n",
              "      <td>[[Tripoli Grand Prix, Tripoli, 11 March, Tazio...</td>\n",
              "      <td>select Report where Circuit eq tripoli</td>\n",
              "    </tr>\n",
              "  </tbody>\n",
              "</table>\n",
              "<p>56355 rows × 8 columns</p>\n",
              "</div>"
            ],
            "text/plain": [
              "       phase  ...                                       resulted_sql\n",
              "0          1  ...  select Notes where Current slogan eq SOUTH AUS...\n",
              "1          1  ...  select Current series where Notes eq New serie...\n",
              "2          1  ...  select Format where State/territory eq South A...\n",
              "3          1  ...  select Text/background colour where State/terr...\n",
              "4          1  ...  select COUNT(Fleet Series (Quantity)) where Fu...\n",
              "...      ...  ...                                                ...\n",
              "56350      2  ...                    select Time where Score eq 3-2 \n",
              "56351      2  ...       select Ground where Opponent eq aston villa \n",
              "56352      2  ...  select Competition where Ground eq san siro an...\n",
              "56353      2  ...  select COUNT(Decile) where Name eq redwood sch...\n",
              "56354      2  ...            select Report where Circuit eq tripoli \n",
              "\n",
              "[56355 rows x 8 columns]"
            ]
          },
          "metadata": {},
          "execution_count": 74
        }
      ]
    },
    {
      "cell_type": "code",
      "metadata": {
        "colab": {
          "base_uri": "https://localhost:8080/"
        },
        "id": "7i8Opv6cXkfH",
        "outputId": "4f032063-4005-4842-d5cf-0b298002dd58"
      },
      "source": [
        "print(\"question: \",merged_data.question.iloc[100])\n",
        "print(\"headers: \",merged_data.header.iloc[100])\n",
        "print(\"sql: \",merged_data.resulted_sql.iloc[100])"
      ],
      "execution_count": null,
      "outputs": [
        {
          "output_type": "stream",
          "name": "stdout",
          "text": [
            "question:  What is the season year where the rank is 39?\n",
            "headers:  ['Season', 'Timeslot ( ET )', 'Season premiere', 'Season finale', 'TV season', 'Rank', 'Viewers (millions)']\n",
            "sql:  select TV season where Rank eq 39 \n"
          ]
        }
      ]
    },
    {
      "cell_type": "markdown",
      "metadata": {
        "id": "n1kMPiz1ReWd"
      },
      "source": [
        "**Concatinating headers and questions**"
      ]
    },
    {
      "cell_type": "code",
      "metadata": {
        "id": "aLmCDwLIRjeS"
      },
      "source": [
        "#Concatinating question and headers\n",
        "question_header=[]\n",
        "for i in range(len(merged_data)):\n",
        "  question=merged_data.question.iloc[i]\n",
        "  header=merged_data.header.iloc[i]\n",
        "  #a=header.split(',')\n",
        "  #for i in range(len(a)):\n",
        "  #  a[i]=a[i].replace('[','')\n",
        "  #  a[i]=a[i].replace(\"'\",'')\n",
        "  #  a[i]=a[i].replace(',','')\n",
        "  #  a[i]=a[i].replace(']','')\n",
        "  for head in header: \n",
        "    question+=' '+head\n",
        "  question_header.append(question)"
      ],
      "execution_count": null,
      "outputs": []
    },
    {
      "cell_type": "code",
      "metadata": {
        "colab": {
          "base_uri": "https://localhost:8080/",
          "height": 35
        },
        "id": "xbKz7mEOGTw-",
        "outputId": "d2d5c904-2d7b-454c-f833-da2b31fc230c"
      },
      "source": [
        "question_header[0]"
      ],
      "execution_count": null,
      "outputs": [
        {
          "output_type": "execute_result",
          "data": {
            "application/vnd.google.colaboratory.intrinsic+json": {
              "type": "string"
            },
            "text/plain": [
              "'Tell me what the notes are for South Australia  State/territory Text/background colour Format Current slogan Current series Notes'"
            ]
          },
          "metadata": {},
          "execution_count": 77
        }
      ]
    },
    {
      "cell_type": "markdown",
      "metadata": {
        "id": "5DNR6h7sFr15"
      },
      "source": [
        "**Preprocessing**"
      ]
    },
    {
      "cell_type": "code",
      "metadata": {
        "id": "8ENvofHyFGbC"
      },
      "source": [
        "def decontractions(phrase):\n",
        "    \"\"\"decontracted takes text and convert contractions into natural form.\n",
        "     ref: https://stackoverflow.com/questions/19790188/expanding-english-language-contractions-in-python/47091490#47091490\"\"\"\n",
        "    # specific\n",
        "    phrase = re.sub(r\"won\\'t\", \"will not\", phrase)\n",
        "    phrase = re.sub(r\"can\\'t\", \"can not\", phrase)\n",
        "    phrase = re.sub(r\"won\\’t\", \"will not\", phrase)\n",
        "    phrase = re.sub(r\"can\\’t\", \"can not\", phrase)\n",
        "\n",
        "    # general\n",
        "    phrase = re.sub(r\"n\\'t\", \" not\", phrase)\n",
        "    phrase = re.sub(r\"\\'re\", \" are\", phrase)\n",
        "    phrase = re.sub(r\"\\'s\", \" is\", phrase)\n",
        "    phrase = re.sub(r\"\\'d\", \" would\", phrase)\n",
        "    phrase = re.sub(r\"\\'ll\", \" will\", phrase)\n",
        "    phrase = re.sub(r\"\\'t\", \" not\", phrase)\n",
        "    phrase = re.sub(r\"\\'ve\", \" have\", phrase)\n",
        "    phrase = re.sub(r\"\\'m\", \" am\", phrase)\n",
        "\n",
        "    phrase = re.sub(r\"n\\’t\", \" not\", phrase)\n",
        "    phrase = re.sub(r\"\\’re\", \" are\", phrase)\n",
        "    phrase = re.sub(r\"\\’s\", \" is\", phrase)\n",
        "    phrase = re.sub(r\"\\’d\", \" would\", phrase)\n",
        "    phrase = re.sub(r\"\\’ll\", \" will\", phrase)\n",
        "    phrase = re.sub(r\"\\’t\", \" not\", phrase)\n",
        "    phrase = re.sub(r\"\\’ve\", \" have\", phrase)\n",
        "    phrase = re.sub(r\"\\’m\", \" am\", phrase)\n",
        "\n",
        "    return phrase\n",
        "\n",
        "def preprocess(text):\n",
        "    # convert all the text into lower letters\n",
        "    # use this function to remove the contractions: https://gist.github.com/anandborad/d410a49a493b56dace4f814ab5325bbd\n",
        "    # remove all the spacial characters: except space ' '\n",
        "    text = text.lower()\n",
        "    text = decontractions(text)\n",
        "    return text"
      ],
      "execution_count": null,
      "outputs": []
    },
    {
      "cell_type": "code",
      "metadata": {
        "id": "qx7JqgF9POzh"
      },
      "source": [
        "import re\n",
        "preprocess_question_header=[]\n",
        "for i in question_header:\n",
        "  preprocess_question_header.append(preprocess(i))"
      ],
      "execution_count": null,
      "outputs": []
    },
    {
      "cell_type": "code",
      "metadata": {
        "id": "H4b4r-HdQdlr"
      },
      "source": [
        "preprocess_sql_in_text=[]\n",
        "for i in merged_data['resulted_sql'].values:\n",
        "  preprocess_sql_in_text.append(preprocess(i))"
      ],
      "execution_count": null,
      "outputs": []
    },
    {
      "cell_type": "code",
      "metadata": {
        "colab": {
          "base_uri": "https://localhost:8080/",
          "height": 35
        },
        "id": "1S_4V-MBSYKs",
        "outputId": "5bde544b-12a8-40be-f8b4-99256bcf4416"
      },
      "source": [
        "preprocess_sql_in_text[100]"
      ],
      "execution_count": null,
      "outputs": [
        {
          "output_type": "execute_result",
          "data": {
            "application/vnd.google.colaboratory.intrinsic+json": {
              "type": "string"
            },
            "text/plain": [
              "'select tv season where rank eq 39 '"
            ]
          },
          "metadata": {},
          "execution_count": 81
        }
      ]
    },
    {
      "cell_type": "code",
      "metadata": {
        "colab": {
          "base_uri": "https://localhost:8080/",
          "height": 417
        },
        "id": "RA4-6QVkcAgu",
        "outputId": "0f8c0572-03c1-4148-c47e-04723862024b"
      },
      "source": [
        "final_data=pd.DataFrame()\n",
        "final_data['question_header']=question_header\n",
        "final_data['sql']=preprocess_sql_in_text\n",
        "final_data"
      ],
      "execution_count": null,
      "outputs": [
        {
          "output_type": "execute_result",
          "data": {
            "text/html": [
              "<div>\n",
              "<style scoped>\n",
              "    .dataframe tbody tr th:only-of-type {\n",
              "        vertical-align: middle;\n",
              "    }\n",
              "\n",
              "    .dataframe tbody tr th {\n",
              "        vertical-align: top;\n",
              "    }\n",
              "\n",
              "    .dataframe thead th {\n",
              "        text-align: right;\n",
              "    }\n",
              "</style>\n",
              "<table border=\"1\" class=\"dataframe\">\n",
              "  <thead>\n",
              "    <tr style=\"text-align: right;\">\n",
              "      <th></th>\n",
              "      <th>question_header</th>\n",
              "      <th>sql</th>\n",
              "    </tr>\n",
              "  </thead>\n",
              "  <tbody>\n",
              "    <tr>\n",
              "      <th>0</th>\n",
              "      <td>Tell me what the notes are for South Australia...</td>\n",
              "      <td>select notes where current slogan eq south aus...</td>\n",
              "    </tr>\n",
              "    <tr>\n",
              "      <th>1</th>\n",
              "      <td>What is the current series where the new serie...</td>\n",
              "      <td>select current series where notes eq new serie...</td>\n",
              "    </tr>\n",
              "    <tr>\n",
              "      <th>2</th>\n",
              "      <td>What is the format for South Australia? State/...</td>\n",
              "      <td>select format where state/territory eq south a...</td>\n",
              "    </tr>\n",
              "    <tr>\n",
              "      <th>3</th>\n",
              "      <td>Name the background colour for the Australian ...</td>\n",
              "      <td>select text/background colour where state/terr...</td>\n",
              "    </tr>\n",
              "    <tr>\n",
              "      <th>4</th>\n",
              "      <td>how many times is the fuel propulsion is cng? ...</td>\n",
              "      <td>select count(fleet series (quantity)) where fu...</td>\n",
              "    </tr>\n",
              "    <tr>\n",
              "      <th>...</th>\n",
              "      <td>...</td>\n",
              "      <td>...</td>\n",
              "    </tr>\n",
              "    <tr>\n",
              "      <th>56350</th>\n",
              "      <td>What time was the match played with a score of...</td>\n",
              "      <td>select time where score eq 3-2</td>\n",
              "    </tr>\n",
              "    <tr>\n",
              "      <th>56351</th>\n",
              "      <td>On which ground did the team play Aston Villa?...</td>\n",
              "      <td>select ground where opponent eq aston villa</td>\n",
              "    </tr>\n",
              "    <tr>\n",
              "      <th>56352</th>\n",
              "      <td>What kind of competition was it at San Siro at...</td>\n",
              "      <td>select competition where ground eq san siro an...</td>\n",
              "    </tr>\n",
              "    <tr>\n",
              "      <th>56353</th>\n",
              "      <td>What is the total number of decile for the red...</td>\n",
              "      <td>select count(decile) where name eq redwood sch...</td>\n",
              "    </tr>\n",
              "    <tr>\n",
              "      <th>56354</th>\n",
              "      <td>Which report includes a Circuit of Tripoli? Na...</td>\n",
              "      <td>select report where circuit eq tripoli</td>\n",
              "    </tr>\n",
              "  </tbody>\n",
              "</table>\n",
              "<p>56355 rows × 2 columns</p>\n",
              "</div>"
            ],
            "text/plain": [
              "                                         question_header                                                sql\n",
              "0      Tell me what the notes are for South Australia...  select notes where current slogan eq south aus...\n",
              "1      What is the current series where the new serie...  select current series where notes eq new serie...\n",
              "2      What is the format for South Australia? State/...  select format where state/territory eq south a...\n",
              "3      Name the background colour for the Australian ...  select text/background colour where state/terr...\n",
              "4      how many times is the fuel propulsion is cng? ...  select count(fleet series (quantity)) where fu...\n",
              "...                                                  ...                                                ...\n",
              "56350  What time was the match played with a score of...                    select time where score eq 3-2 \n",
              "56351  On which ground did the team play Aston Villa?...       select ground where opponent eq aston villa \n",
              "56352  What kind of competition was it at San Siro at...  select competition where ground eq san siro an...\n",
              "56353  What is the total number of decile for the red...  select count(decile) where name eq redwood sch...\n",
              "56354  Which report includes a Circuit of Tripoli? Na...            select report where circuit eq tripoli \n",
              "\n",
              "[56355 rows x 2 columns]"
            ]
          },
          "metadata": {},
          "execution_count": 82
        }
      ]
    },
    {
      "cell_type": "code",
      "metadata": {
        "id": "LsgERx-bpVX_",
        "colab": {
          "base_uri": "https://localhost:8080/",
          "height": 35
        },
        "outputId": "d7cc9097-40da-49a3-8f76-3a9dde47095e"
      },
      "source": [
        "final_data.question_header.iloc[0]"
      ],
      "execution_count": null,
      "outputs": [
        {
          "output_type": "execute_result",
          "data": {
            "application/vnd.google.colaboratory.intrinsic+json": {
              "type": "string"
            },
            "text/plain": [
              "'Tell me what the notes are for South Australia  State/territory Text/background colour Format Current slogan Current series Notes'"
            ]
          },
          "metadata": {},
          "execution_count": 83
        }
      ]
    },
    {
      "cell_type": "markdown",
      "metadata": {
        "id": "p8swusEmaO96"
      },
      "source": [
        "**Featurizing**"
      ]
    },
    {
      "cell_type": "code",
      "metadata": {
        "id": "ukqySiNFaRLV"
      },
      "source": [
        "#storing lengths of input and output from final data\n",
        "input_lengths=final_data['question_header'].str.split().apply(len)\n",
        "output_lengths=final_data['sql'].str.split().apply(len)"
      ],
      "execution_count": null,
      "outputs": []
    },
    {
      "cell_type": "code",
      "metadata": {
        "colab": {
          "base_uri": "https://localhost:8080/"
        },
        "id": "ItBOccwFltWt",
        "outputId": "ced7a4c9-dbc5-4dcd-ddda-f922435cd4bf"
      },
      "source": [
        "ci=0\n",
        "for i in input_lengths:\n",
        "  if(i>60):\n",
        "    ci+=1\n",
        "co=0\n",
        "for i in output_lengths:\n",
        "  if(i>35):\n",
        "    co+=1\n",
        "print(\"Number of words in input greater than 60:\",ci)\n",
        "print(\"Number of words in output greater than 35:\",co)"
      ],
      "execution_count": null,
      "outputs": [
        {
          "output_type": "stream",
          "name": "stdout",
          "text": [
            "Number of words in input greater than 60: 83\n",
            "Number of words in output greater than 35: 7\n"
          ]
        }
      ]
    },
    {
      "cell_type": "code",
      "metadata": {
        "id": "Qy4S_wWql0oG"
      },
      "source": [
        "#only 87 data points are greater than 60 words in input, so we choose max length of 60 in input\n",
        "pos=[]\n",
        "for i in range(len(input_lengths)):\n",
        "  if(input_lengths[i]<=60 and output_lengths[i]<=35):\n",
        "    pos.append(i)\n"
      ],
      "execution_count": null,
      "outputs": []
    },
    {
      "cell_type": "code",
      "metadata": {
        "id": "esbJzB_qfobB"
      },
      "source": [
        "data=final_data.iloc[pos]"
      ],
      "execution_count": null,
      "outputs": []
    },
    {
      "cell_type": "code",
      "metadata": {
        "colab": {
          "base_uri": "https://localhost:8080/"
        },
        "id": "mNQ1LGIylP1b",
        "outputId": "d89eba15-fece-41df-aa29-6aff9596e149"
      },
      "source": [
        "data['sql_input'] = '<start> ' + data['sql'].astype(str)\n",
        "data['sql_output'] = data['sql'].astype(str) + ' <end>'"
      ],
      "execution_count": null,
      "outputs": [
        {
          "output_type": "stream",
          "name": "stderr",
          "text": [
            "/usr/local/lib/python3.7/dist-packages/ipykernel_launcher.py:1: SettingWithCopyWarning: \n",
            "A value is trying to be set on a copy of a slice from a DataFrame.\n",
            "Try using .loc[row_indexer,col_indexer] = value instead\n",
            "\n",
            "See the caveats in the documentation: https://pandas.pydata.org/pandas-docs/stable/user_guide/indexing.html#returning-a-view-versus-a-copy\n",
            "  \"\"\"Entry point for launching an IPython kernel.\n",
            "/usr/local/lib/python3.7/dist-packages/ipykernel_launcher.py:2: SettingWithCopyWarning: \n",
            "A value is trying to be set on a copy of a slice from a DataFrame.\n",
            "Try using .loc[row_indexer,col_indexer] = value instead\n",
            "\n",
            "See the caveats in the documentation: https://pandas.pydata.org/pandas-docs/stable/user_guide/indexing.html#returning-a-view-versus-a-copy\n",
            "  \n"
          ]
        }
      ]
    },
    {
      "cell_type": "code",
      "metadata": {
        "colab": {
          "base_uri": "https://localhost:8080/",
          "height": 585
        },
        "id": "lReARZ3Tz4Gq",
        "outputId": "31841c0f-2ff8-47eb-ad59-046232c73f81"
      },
      "source": [
        "data"
      ],
      "execution_count": null,
      "outputs": [
        {
          "output_type": "execute_result",
          "data": {
            "text/html": [
              "<div>\n",
              "<style scoped>\n",
              "    .dataframe tbody tr th:only-of-type {\n",
              "        vertical-align: middle;\n",
              "    }\n",
              "\n",
              "    .dataframe tbody tr th {\n",
              "        vertical-align: top;\n",
              "    }\n",
              "\n",
              "    .dataframe thead th {\n",
              "        text-align: right;\n",
              "    }\n",
              "</style>\n",
              "<table border=\"1\" class=\"dataframe\">\n",
              "  <thead>\n",
              "    <tr style=\"text-align: right;\">\n",
              "      <th></th>\n",
              "      <th>question_header</th>\n",
              "      <th>sql</th>\n",
              "      <th>sql_input</th>\n",
              "      <th>sql_output</th>\n",
              "    </tr>\n",
              "  </thead>\n",
              "  <tbody>\n",
              "    <tr>\n",
              "      <th>0</th>\n",
              "      <td>Tell me what the notes are for South Australia...</td>\n",
              "      <td>select notes where current slogan eq south aus...</td>\n",
              "      <td>&lt;start&gt; select notes where current slogan eq s...</td>\n",
              "      <td>select notes where current slogan eq south aus...</td>\n",
              "    </tr>\n",
              "    <tr>\n",
              "      <th>1</th>\n",
              "      <td>What is the current series where the new serie...</td>\n",
              "      <td>select current series where notes eq new serie...</td>\n",
              "      <td>&lt;start&gt; select current series where notes eq n...</td>\n",
              "      <td>select current series where notes eq new serie...</td>\n",
              "    </tr>\n",
              "    <tr>\n",
              "      <th>2</th>\n",
              "      <td>What is the format for South Australia? State/...</td>\n",
              "      <td>select format where state/territory eq south a...</td>\n",
              "      <td>&lt;start&gt; select format where state/territory eq...</td>\n",
              "      <td>select format where state/territory eq south a...</td>\n",
              "    </tr>\n",
              "    <tr>\n",
              "      <th>3</th>\n",
              "      <td>Name the background colour for the Australian ...</td>\n",
              "      <td>select text/background colour where state/terr...</td>\n",
              "      <td>&lt;start&gt; select text/background colour where st...</td>\n",
              "      <td>select text/background colour where state/terr...</td>\n",
              "    </tr>\n",
              "    <tr>\n",
              "      <th>4</th>\n",
              "      <td>how many times is the fuel propulsion is cng? ...</td>\n",
              "      <td>select count(fleet series (quantity)) where fu...</td>\n",
              "      <td>&lt;start&gt; select count(fleet series (quantity)) ...</td>\n",
              "      <td>select count(fleet series (quantity)) where fu...</td>\n",
              "    </tr>\n",
              "    <tr>\n",
              "      <th>...</th>\n",
              "      <td>...</td>\n",
              "      <td>...</td>\n",
              "      <td>...</td>\n",
              "      <td>...</td>\n",
              "    </tr>\n",
              "    <tr>\n",
              "      <th>56350</th>\n",
              "      <td>What time was the match played with a score of...</td>\n",
              "      <td>select time where score eq 3-2</td>\n",
              "      <td>&lt;start&gt; select time where score eq 3-2</td>\n",
              "      <td>select time where score eq 3-2  &lt;end&gt;</td>\n",
              "    </tr>\n",
              "    <tr>\n",
              "      <th>56351</th>\n",
              "      <td>On which ground did the team play Aston Villa?...</td>\n",
              "      <td>select ground where opponent eq aston villa</td>\n",
              "      <td>&lt;start&gt; select ground where opponent eq aston ...</td>\n",
              "      <td>select ground where opponent eq aston villa  &lt;...</td>\n",
              "    </tr>\n",
              "    <tr>\n",
              "      <th>56352</th>\n",
              "      <td>What kind of competition was it at San Siro at...</td>\n",
              "      <td>select competition where ground eq san siro an...</td>\n",
              "      <td>&lt;start&gt; select competition where ground eq san...</td>\n",
              "      <td>select competition where ground eq san siro an...</td>\n",
              "    </tr>\n",
              "    <tr>\n",
              "      <th>56353</th>\n",
              "      <td>What is the total number of decile for the red...</td>\n",
              "      <td>select count(decile) where name eq redwood sch...</td>\n",
              "      <td>&lt;start&gt; select count(decile) where name eq red...</td>\n",
              "      <td>select count(decile) where name eq redwood sch...</td>\n",
              "    </tr>\n",
              "    <tr>\n",
              "      <th>56354</th>\n",
              "      <td>Which report includes a Circuit of Tripoli? Na...</td>\n",
              "      <td>select report where circuit eq tripoli</td>\n",
              "      <td>&lt;start&gt; select report where circuit eq tripoli</td>\n",
              "      <td>select report where circuit eq tripoli  &lt;end&gt;</td>\n",
              "    </tr>\n",
              "  </tbody>\n",
              "</table>\n",
              "<p>56270 rows × 4 columns</p>\n",
              "</div>"
            ],
            "text/plain": [
              "                                         question_header  ...                                         sql_output\n",
              "0      Tell me what the notes are for South Australia...  ...  select notes where current slogan eq south aus...\n",
              "1      What is the current series where the new serie...  ...  select current series where notes eq new serie...\n",
              "2      What is the format for South Australia? State/...  ...  select format where state/territory eq south a...\n",
              "3      Name the background colour for the Australian ...  ...  select text/background colour where state/terr...\n",
              "4      how many times is the fuel propulsion is cng? ...  ...  select count(fleet series (quantity)) where fu...\n",
              "...                                                  ...  ...                                                ...\n",
              "56350  What time was the match played with a score of...  ...              select time where score eq 3-2  <end>\n",
              "56351  On which ground did the team play Aston Villa?...  ...  select ground where opponent eq aston villa  <...\n",
              "56352  What kind of competition was it at San Siro at...  ...  select competition where ground eq san siro an...\n",
              "56353  What is the total number of decile for the red...  ...  select count(decile) where name eq redwood sch...\n",
              "56354  Which report includes a Circuit of Tripoli? Na...  ...      select report where circuit eq tripoli  <end>\n",
              "\n",
              "[56270 rows x 4 columns]"
            ]
          },
          "metadata": {},
          "execution_count": 89
        }
      ]
    },
    {
      "cell_type": "code",
      "metadata": {
        "colab": {
          "base_uri": "https://localhost:8080/"
        },
        "id": "7CALMqo5z8nW",
        "outputId": "04ee91ad-aeff-4bae-b67c-c65bf0a441a5"
      },
      "source": [
        "# for one sentence we will be adding <end> token so that the tokanizer learns the word <end>\n",
        "# with this we can use only one tokenizer for both encoder output and decoder output\n",
        "data.sql_input.iloc[0]= str(data.sql_input.iloc[0])+' <end>'"
      ],
      "execution_count": null,
      "outputs": [
        {
          "output_type": "stream",
          "name": "stderr",
          "text": [
            "/usr/local/lib/python3.7/dist-packages/ipykernel_launcher.py:3: SettingWithCopyWarning: \n",
            "A value is trying to be set on a copy of a slice from a DataFrame\n",
            "\n",
            "See the caveats in the documentation: https://pandas.pydata.org/pandas-docs/stable/user_guide/indexing.html#returning-a-view-versus-a-copy\n",
            "  This is separate from the ipykernel package so we can avoid doing imports until\n"
          ]
        }
      ]
    },
    {
      "cell_type": "code",
      "metadata": {
        "colab": {
          "base_uri": "https://localhost:8080/",
          "height": 35
        },
        "id": "7AlWriN5kfqR",
        "outputId": "7b2d909a-9ef6-472c-89a3-ec315b060b6e"
      },
      "source": [
        "data.sql_input.iloc[0]"
      ],
      "execution_count": null,
      "outputs": [
        {
          "output_type": "execute_result",
          "data": {
            "application/vnd.google.colaboratory.intrinsic+json": {
              "type": "string"
            },
            "text/plain": [
              "'<start> select notes where current slogan eq south australia  <end>'"
            ]
          },
          "metadata": {},
          "execution_count": 91
        }
      ]
    },
    {
      "cell_type": "code",
      "metadata": {
        "colab": {
          "base_uri": "https://localhost:8080/",
          "height": 545
        },
        "id": "BJzbQau8py0k",
        "outputId": "1e41cb74-1982-47b8-cfcc-737301c14b86"
      },
      "source": [
        "import matplotlib.pyplot as plt\n",
        "\n",
        "que_lengths = data['question_header'].str.split().apply(len)\n",
        "sql_lengths = data['sql_input'].str.split().apply(len)\n",
        "import seaborn as sns\n",
        "sns.kdeplot(que_lengths)\n",
        "plt.show()\n",
        "sns.kdeplot(sql_lengths)\n",
        "plt.show()"
      ],
      "execution_count": null,
      "outputs": [
        {
          "output_type": "display_data",
          "data": {
            "image/png": "[encoded data removed]",
            "text/plain": [
              "<Figure size 432x288 with 1 Axes>"
            ]
          },
          "metadata": {
            "needs_background": "light"
          }
        },
        {
          "output_type": "display_data",
          "data": {
            "image/png": "[encoded data removed]",
            "text/plain": [
              "<Figure size 432x288 with 1 Axes>"
            ]
          },
          "metadata": {
            "needs_background": "light"
          }
        }
      ]
    },
    {
      "cell_type": "code",
      "metadata": {
        "id": "a5b4LTiA3-9r"
      },
      "source": [
        "from tensorflow.keras.preprocessing.text import Tokenizer\n",
        "tknizer_question = Tokenizer(filters='!\"#$%&()*+,-./:;=?@[\\\\]^_`{|}~\\t\\n')\n",
        "tknizer_question.fit_on_texts(data['question_header'].values)\n",
        "tknizer_sql = Tokenizer(filters='!\"#$%&()*+,-./:;=?@[\\\\]^_`{|}~\\t\\n')\n",
        "tknizer_sql.fit_on_texts(data['sql_input'].values)"
      ],
      "execution_count": null,
      "outputs": []
    },
    {
      "cell_type": "code",
      "metadata": {
        "colab": {
          "base_uri": "https://localhost:8080/"
        },
        "id": "C9TJY25Q-YkJ",
        "outputId": "f2573485-b78d-4395-e1c9-ec9c4b16f379"
      },
      "source": [
        "vocab_size_question=len(tknizer_question.word_index.keys())\n",
        "print(vocab_size_question)\n",
        "vocab_size_sql=len(tknizer_sql.word_index.keys())\n",
        "print(vocab_size_sql)"
      ],
      "execution_count": null,
      "outputs": [
        {
          "output_type": "stream",
          "name": "stdout",
          "text": [
            "33926\n",
            "29731\n"
          ]
        }
      ]
    },
    {
      "cell_type": "code",
      "metadata": {
        "id": "8eelwSjLO_5q"
      },
      "source": [
        "import pickle\n",
        "with open('tokenizer_question.pickle', 'wb') as handle:\n",
        "  pickle. dump(tknizer_question, handle, protocol=pickle. HIGHEST_PROTOCOL)\n",
        "with open('tokenizer_sql.pickle', 'wb') as handle:\n",
        "  pickle. dump(tknizer_sql, handle, protocol=pickle. HIGHEST_PROTOCOL)"
      ],
      "execution_count": null,
      "outputs": []
    },
    {
      "cell_type": "code",
      "metadata": {
        "id": "UWBOjF7Ohasu"
      },
      "source": [
        "import pickle\n",
        "with open('tokenizer_question.pickle', 'rb') as handle:\n",
        "  tknizer_question=pickle.load(handle)\n",
        "with open('tokenizer_sql.pickle', 'rb') as handle:\n",
        "  tknizer_sql=pickle.load(handle) "
      ],
      "execution_count": null,
      "outputs": []
    },
    {
      "cell_type": "code",
      "metadata": {
        "colab": {
          "base_uri": "https://localhost:8080/"
        },
        "id": "uBAoeU5--8Dz",
        "outputId": "f89cb50d-82d4-4313-c652-49839500547f"
      },
      "source": [
        "!wget https://www.dropbox.com/s/ddkmtqz01jc024u/glove.6B.100d.txt"
      ],
      "execution_count": null,
      "outputs": [
        {
          "output_type": "stream",
          "name": "stdout",
          "text": [
            "--2021-11-04 14:25:26--  https://www.dropbox.com/s/ddkmtqz01jc024u/glove.6B.100d.txt\n",
            "Resolving www.dropbox.com (www.dropbox.com)... 162.125.3.18, 2620:100:6018:18::a27d:312\n",
            "Connecting to www.dropbox.com (www.dropbox.com)|162.125.3.18|:443... connected.\n",
            "HTTP request sent, awaiting response... 301 Moved Permanently\n",
            "Location: /s/raw/ddkmtqz01jc024u/glove.6B.100d.txt [following]\n",
            "--2021-11-04 14:25:27--  https://www.dropbox.com/s/raw/ddkmtqz01jc024u/glove.6B.100d.txt\n",
            "Reusing existing connection to www.dropbox.com:443.\n",
            "HTTP request sent, awaiting response... 302 Found\n",
            "Location: https://uc4160af042b5457ab0850db60c6.dl.dropboxusercontent.com/cd/0/inline/BZWjG3wQVsrRMD5Al7UI9mxrAENF24t1bUnjeDZGc8tW9miKlxI3ErDRf_IIu7G-urlZ4Avb5qPJAAsWBHNZcTCCQJ7i_yOKGFvFl3gVlZee8GYGnFFw4ecg_CbEe7ROxY4lqDLMSu8Kivah4Rl-LHNT/file# [following]\n",
            "--2021-11-04 14:25:27--  https://uc4160af042b5457ab0850db60c6.dl.dropboxusercontent.com/cd/0/inline/BZWjG3wQVsrRMD5Al7UI9mxrAENF24t1bUnjeDZGc8tW9miKlxI3ErDRf_IIu7G-urlZ4Avb5qPJAAsWBHNZcTCCQJ7i_yOKGFvFl3gVlZee8GYGnFFw4ecg_CbEe7ROxY4lqDLMSu8Kivah4Rl-LHNT/file\n",
            "Resolving uc4160af042b5457ab0850db60c6.dl.dropboxusercontent.com (uc4160af042b5457ab0850db60c6.dl.dropboxusercontent.com)... 162.125.3.15, 2620:100:601b:15::a27d:80f\n",
            "Connecting to uc4160af042b5457ab0850db60c6.dl.dropboxusercontent.com (uc4160af042b5457ab0850db60c6.dl.dropboxusercontent.com)|162.125.3.15|:443... connected.\n",
            "HTTP request sent, awaiting response... 200 OK\n",
            "Length: 347116733 (331M) [text/plain]\n",
            "Saving to: ‘glove.6B.100d.txt.1’\n",
            "\n",
            "glove.6B.100d.txt.1 100%[===================>] 331.04M  88.2MB/s    in 3.8s    \n",
            "\n",
            "2021-11-04 14:25:31 (87.3 MB/s) - ‘glove.6B.100d.txt.1’ saved [347116733/347116733]\n",
            "\n"
          ]
        }
      ]
    },
    {
      "cell_type": "code",
      "metadata": {
        "colab": {
          "base_uri": "https://localhost:8080/"
        },
        "id": "vJy3Ildj-9mi",
        "outputId": "e26a95ec-2e83-4a1a-fe1c-12a3f86b7737"
      },
      "source": [
        "import numpy as np\n",
        "from tqdm import tqdm \n",
        "embeddings_index = dict()\n",
        "f = open('glove.6B.100d.txt')\n",
        "for line in tqdm(f):\n",
        "    values = line.split()\n",
        "    word = values[0]\n",
        "    coefs = np.asarray(values[1:], dtype='float32')\n",
        "    embeddings_index[word] = coefs\n",
        "f.close()\n",
        "\n",
        "embedding_matrix = np.zeros((vocab_size_sql+1,100))  #to convert each unique word in tokenzier's vocab  ==>100-d vector\n",
        "for word, i in tqdm(tknizer_sql.word_index.items()):\n",
        "    embedding_vector= embeddings_index.get(word)\n",
        "    if embedding_vector is not None:\n",
        "        embedding_matrix[i] = embedding_vector\n",
        "print(embedding_matrix.shape)"
      ],
      "execution_count": null,
      "outputs": [
        {
          "output_type": "stream",
          "name": "stderr",
          "text": [
            "400000it [00:13, 29010.05it/s]\n",
            "100%|██████████| 29731/29731 [00:00<00:00, 434885.65it/s]"
          ]
        },
        {
          "output_type": "stream",
          "name": "stdout",
          "text": [
            "(29732, 100)\n"
          ]
        },
        {
          "output_type": "stream",
          "name": "stderr",
          "text": [
            "\n"
          ]
        }
      ]
    },
    {
      "cell_type": "code",
      "metadata": {
        "colab": {
          "base_uri": "https://localhost:8080/"
        },
        "id": "iyd0u2GZPV_M",
        "outputId": "8105cd70-e022-4142-cce3-a650cd097c8a"
      },
      "source": [
        "embedding_matrix.shape"
      ],
      "execution_count": null,
      "outputs": [
        {
          "output_type": "execute_result",
          "data": {
            "text/plain": [
              "(29732, 100)"
            ]
          },
          "metadata": {},
          "execution_count": 99
        }
      ]
    },
    {
      "cell_type": "code",
      "metadata": {
        "id": "sG0adDwUmFc2"
      },
      "source": [
        "import tensorflow as tf\n",
        "from tensorflow.keras.preprocessing.sequence import pad_sequences\n",
        "class Dataset:\n",
        "    def __init__(self, data, tknizer_question, tknizer_sql, max_len):\n",
        "        self.encoder_inps = data.question_header.values\n",
        "        self.decoder_inps = data.sql_input.values\n",
        "        self.decoder_outs = data.sql_output.values\n",
        "        self.tknizer_question = tknizer_question\n",
        "        self.tknizer_sql = tknizer_sql\n",
        "        self.max_len = max_len\n",
        "\n",
        "    def __getitem__(self, i):\n",
        "        self.encoder_seq = self.tknizer_question.texts_to_sequences([self.encoder_inps[i]]) # need to pass list of values\n",
        "        self.decoder_inp_seq = self.tknizer_sql.texts_to_sequences([self.decoder_inps[i]])\n",
        "        self.decoder_out_seq = self.tknizer_sql.texts_to_sequences([self.decoder_outs[i]])\n",
        "\n",
        "        self.encoder_seq = pad_sequences(self.encoder_seq, maxlen=self.max_len, dtype='int32', padding='post')\n",
        "        self.decoder_inp_seq = pad_sequences(self.decoder_inp_seq, maxlen=36, dtype='int32', padding='post')\n",
        "        self.decoder_out_seq = pad_sequences(self.decoder_out_seq, maxlen=36, dtype='int32', padding='post')\n",
        "        return self.encoder_seq, self.decoder_inp_seq, self.decoder_out_seq\n",
        "\n",
        "    def __len__(self): # your model.fit_gen requires this function\n",
        "        return len(self.encoder_inps)\n",
        "\n",
        "    \n",
        "class Dataloder(tf.keras.utils.Sequence):    \n",
        "    def __init__(self, dataset, batch_size=1):\n",
        "        self.dataset = dataset\n",
        "        self.batch_size = batch_size\n",
        "        self.indexes = np.arange(len(self.dataset.encoder_inps))\n",
        "\n",
        "\n",
        "    def __getitem__(self, i):\n",
        "        start = i * self.batch_size\n",
        "        stop = (i + 1) * self.batch_size\n",
        "        data = []\n",
        "        for j in range(start, stop):\n",
        "            data.append(self.dataset[j])\n",
        "\n",
        "        batch = [np.squeeze(np.stack(samples, axis=1), axis=0) for samples in zip(*data)]\n",
        "        # we are creating data like ([italian, english_inp], english_out) these are already converted into seq\n",
        "        return tuple([[batch[0],batch[1]],batch[2]])\n",
        "\n",
        "    def __len__(self):  # your model.fit_gen requires this function\n",
        "        return len(self.indexes) // self.batch_size\n",
        "\n",
        "    def on_epoch_end(self):\n",
        "        self.indexes = np.random.permutation(self.indexes)"
      ],
      "execution_count": null,
      "outputs": []
    },
    {
      "cell_type": "code",
      "metadata": {
        "colab": {
          "base_uri": "https://localhost:8080/"
        },
        "id": "N0vbQ1TIqcWX",
        "outputId": "ef2cc40d-86f1-446c-cb55-9d84fb08a736"
      },
      "source": [
        "#max_length=61\n",
        "train_dataset = Dataset(data, tknizer_question, tknizer_sql, 61)\n",
        "train_dataloader = Dataloder(train_dataset, batch_size=64)\n",
        "print(train_dataloader[0][0][0].shape, train_dataloader[0][0][1].shape, train_dataloader[0][1].shape)"
      ],
      "execution_count": null,
      "outputs": [
        {
          "output_type": "stream",
          "name": "stdout",
          "text": [
            "(64, 61) (64, 36) (64, 36)\n"
          ]
        }
      ]
    },
    {
      "cell_type": "markdown",
      "metadata": {
        "id": "zG2rVhD1sD6m"
      },
      "source": [
        "**Encoder Decoder Model**"
      ]
    },
    {
      "cell_type": "code",
      "metadata": {
        "id": "G2DkyrkXr_3J"
      },
      "source": [
        "from tensorflow.keras.models import Model\n",
        "\n",
        "class Encoder(tf.keras.Model):\n",
        "    '''\n",
        "    Encoder model -- That takes a input sequence and returns encoder-outputs,encoder_final_state_h,encoder_final_state_c\n",
        "    '''\n",
        "\n",
        "    def __init__(self, vocab_size, embedding_dim, enc_units,input_length):\n",
        "      super().__init__()\n",
        "      self.vocab_size = vocab_size\n",
        "      self.embedding_dim = embedding_dim\n",
        "      self.input_length = input_length\n",
        "      self.enc_units= enc_units\n",
        "      \n",
        "    \n",
        "    def build(self, input_shape):  #emb and lstm layers def\n",
        "        self.embedding = Embedding(input_dim=self.vocab_size, output_dim=self.embedding_dim, input_length=self.input_length,mask_zero=True ,name=\"embedding_layer_encoder\")\n",
        "        self.lstm = LSTM(self.enc_units, return_state=True, return_sequences=True, name=\"Encoder_LSTM\") \n",
        "          \n",
        "    def call(self,input_sequence,init_states,training=True):\n",
        "        '''\n",
        "          This function takes a sequence input and the initial states of the encoder.\n",
        "          Pass the input_sequence input to the Embedding layer, Pass the embedding layer ouput to encoder_lstm\n",
        "          returns -- encoder_output, last time step's hidden and cell state\n",
        "        '''\n",
        "        input_embedd= self.embedding(input_sequence)\n",
        "        self.lstm_output, self.lstm_state_h,self.lstm_state_c = self.lstm(input_embedd,initial_state=init_states)\n",
        "        return self.lstm_output, self.lstm_state_h,self.lstm_state_c\n",
        "      \n",
        "\n",
        "    \n",
        "    def initialize_states(self,batch_size):\n",
        "      '''\n",
        "      Given a batch size it will return intial hidden state and intial cell state.\n",
        "      If batch size is 32- Hidden state is zeros of size [32,lstm_units], cell state zeros is of size [32,lstm_units]\n",
        "      '''\n",
        "      state_h=tf.zeros((batch_size,self.enc_units))\n",
        "      state_c=tf.zeros((batch_size,self.enc_units))\n",
        "      return state_h, state_c\n",
        "class Decoder(tf.keras.Model):\n",
        "    '''\n",
        "    Encoder model -- That takes a input sequence and returns output sequence\n",
        "    '''\n",
        "\n",
        "    def __init__(self, vocab_size, embedding_dim, dec_units,input_length):\n",
        "        super().__init__()\n",
        "        self.vocab_size = vocab_size\n",
        "        self.embedding_dim = 100\n",
        "        self.dec_units = dec_units\n",
        "        self.input_length = input_length\n",
        "        # we are using embedding_matrix and not training the embedding layer\n",
        "        self.embedding = Embedding(input_dim=self.vocab_size, output_dim=self.embedding_dim, input_length=self.input_length,\n",
        "                           mask_zero=True, name=\"embedding_layer_decoder\", trainable=False)\n",
        "        self.lstm = LSTM(self.dec_units, return_sequences=True, return_state=True, name=\"Encoder_LSTM\")\n",
        "        \n",
        "\n",
        "\n",
        "    def call(self,input_sequence,initial_states):\n",
        "        '''\n",
        "          This function takes a sequence input and the initial states of the encoder.\n",
        "          Pass the input_sequence input to the Embedding layer, Pass the embedding layer ouput to decoder_lstm\n",
        "        \n",
        "          returns -- decoder_output,decoder_final_state_h,decoder_final_state_c\n",
        "        '''\n",
        "        target_embedd = self.embedding(input_sequence)\n",
        "        lstm_output, lstm_h_state,lstm_c_state  = self.lstm(target_embedd, initial_states)\n",
        "        return lstm_output,lstm_h_state,lstm_c_state \n",
        "class Encoder_decoder(Model):\n",
        "    def __init__(self, encoder_inputs_length,decoder_inputs_length, output_vocab_size,batch_size):\n",
        "        super().__init__() # https://stackoverflow.com/a/27134600/4084039\n",
        "        self.encoder = Encoder(vocab_size=vocab_size_question+1, embedding_dim=200, enc_units=500,input_length=encoder_inputs_length)\n",
        "        self.init_states=self.encoder.initialize_states(batch_size=batch_size)\n",
        "        self.decoder = Decoder(vocab_size=vocab_size_sql+1, embedding_dim=300, dec_units=500,input_length=decoder_inputs_length)\n",
        "        self.dense   = Dense(output_vocab_size, activation='softmax',name=\"Dense_Layer\")\n",
        "        \n",
        "        \n",
        "    def call(self, data):\n",
        "        input,output = data[0], data[1]\n",
        "        encoder_output, encoder_h, encoder_c = self.encoder(input,self.init_states)\n",
        "        print(type(input),type(self.init_states)) \n",
        "        print(\"input\",input.shape,\"init_states\",self.init_states.shape) \n",
        "        print(\"encoder_output\",encoder_output.shape,\"encoder_h\", encoder_h.shape,\"encoder_c\", encoder_c.shape)\n",
        "        decoder_output,_,_= self.decoder(output,[encoder_h, encoder_c]) \n",
        "        output = self.dense(decoder_output) \n",
        "        return output    "
      ],
      "execution_count": null,
      "outputs": []
    },
    {
      "cell_type": "code",
      "metadata": {
        "colab": {
          "base_uri": "https://localhost:8080/",
          "height": 70
        },
        "id": "PiDEEUlRB3ZG",
        "outputId": "6d9889fa-30dc-4578-d9d2-c3eab87d3599"
      },
      "source": [
        "'''\n",
        "Encoder: embedding=50, enc_unit=256\n",
        "Decoder: embedding=100, dec_unit=256 \n",
        "epoch=3\n",
        "Bleu: 0.58\n",
        "\n",
        "Encoder: embedding=100, enc_unit=364\n",
        "Decoder: embedding=200, dec_unit=364 \n",
        "epoch=3\n",
        "Bleu: 0.594\n",
        "\n",
        "Encoder: embedding=100, enc_unit=364\n",
        "Decoder: embedding=200, dec_unit=364 \n",
        "epoch\n",
        "Bleu: 0.594\n",
        "'''"
      ],
      "execution_count": null,
      "outputs": [
        {
          "output_type": "execute_result",
          "data": {
            "application/vnd.google.colaboratory.intrinsic+json": {
              "type": "string"
            },
            "text/plain": [
              "'\\nEncoder: embedding=50, enc_unit=256\\nDecoder: embedding=100, dec_unit=256 \\nepoch=3\\nBleu: 0.58\\n\\nEncoder: embedding=100, enc_unit=364\\nDecoder: embedding=200, dec_unit=364 \\nepoch=3\\nBleu: 0.594\\n\\nEncoder: embedding=100, enc_unit=364\\nDecoder: embedding=200, dec_unit=364 \\nepoch\\nBleu: 0.594\\n'"
            ]
          },
          "metadata": {},
          "execution_count": 103
        }
      ]
    },
    {
      "cell_type": "markdown",
      "metadata": {
        "id": "vUbZP57yyCho"
      },
      "source": [
        "# Featurizing and fitting along validation data"
      ]
    },
    {
      "cell_type": "code",
      "metadata": {
        "id": "l74dyGjqKGNy"
      },
      "source": [
        "#Loading Json Train Data\n",
        "import jsonlines\n",
        "phase=[]\n",
        "table_id=[]\n",
        "question=[]\n",
        "sql=[]\n",
        "with jsonlines.open(\"dev.jsonl\") as f:\n",
        "  for line in f.iter():\n",
        "    phase.append(line['phase'])\n",
        "    table_id.append(line['table_id'])\n",
        "    question.append(line['question'])\n",
        "    sql.append(line['sql'])\n",
        "import pandas as pd\n",
        "d={'phase':phase,'table_id':table_id,'question':question,'sql':sql}\n",
        "val_data=pd.DataFrame(d)\n",
        "val_data\n",
        "f.close()"
      ],
      "execution_count": null,
      "outputs": []
    },
    {
      "cell_type": "code",
      "metadata": {
        "id": "TCCFg8PiKNm3"
      },
      "source": [
        "val_data.columns=['phase','id','question','sql']"
      ],
      "execution_count": null,
      "outputs": []
    },
    {
      "cell_type": "code",
      "metadata": {
        "colab": {
          "base_uri": "https://localhost:8080/",
          "height": 417
        },
        "id": "n9gouhbFKP9V",
        "outputId": "24b46cec-5514-4fae-b119-6b271907b163"
      },
      "source": [
        "import jsonlines\n",
        "id=[]\n",
        "header=[]\n",
        "types=[]\n",
        "rows=[]\n",
        "with jsonlines.open(\"dev.tables.jsonl\") as f:\n",
        "  for line in f.iter():\n",
        "    id.append((line['id']))\n",
        "    header.append((line['header']))\n",
        "    types.append((line['types']))\n",
        "    rows.append(line['rows'])\n",
        "d={'id':id,'header':header,'types':types,'rows':rows}\n",
        "val_table_info=pd.DataFrame(d)\n",
        "val_table_info"
      ],
      "execution_count": null,
      "outputs": [
        {
          "output_type": "execute_result",
          "data": {
            "text/html": [
              "<div>\n",
              "<style scoped>\n",
              "    .dataframe tbody tr th:only-of-type {\n",
              "        vertical-align: middle;\n",
              "    }\n",
              "\n",
              "    .dataframe tbody tr th {\n",
              "        vertical-align: top;\n",
              "    }\n",
              "\n",
              "    .dataframe thead th {\n",
              "        text-align: right;\n",
              "    }\n",
              "</style>\n",
              "<table border=\"1\" class=\"dataframe\">\n",
              "  <thead>\n",
              "    <tr style=\"text-align: right;\">\n",
              "      <th></th>\n",
              "      <th>id</th>\n",
              "      <th>header</th>\n",
              "      <th>types</th>\n",
              "      <th>rows</th>\n",
              "    </tr>\n",
              "  </thead>\n",
              "  <tbody>\n",
              "    <tr>\n",
              "      <th>0</th>\n",
              "      <td>1-10015132-11</td>\n",
              "      <td>[Player, No., Nationality, Position, Years in ...</td>\n",
              "      <td>[text, text, text, text, text, text]</td>\n",
              "      <td>[[Antonio Lang, 21, United States, Guard-Forwa...</td>\n",
              "    </tr>\n",
              "    <tr>\n",
              "      <th>1</th>\n",
              "      <td>1-10015132-9</td>\n",
              "      <td>[Player, No., Nationality, Position, Years in ...</td>\n",
              "      <td>[text, text, text, text, text, text]</td>\n",
              "      <td>[[Jarrett Jack, 1, United States, Guard, 2009-...</td>\n",
              "    </tr>\n",
              "    <tr>\n",
              "      <th>2</th>\n",
              "      <td>1-10026563-1</td>\n",
              "      <td>[Entered office as Head of State or Government...</td>\n",
              "      <td>[text, text, text, text, text]</td>\n",
              "      <td>[[16 October 1964, 15 November 1975, 5 April 1...</td>\n",
              "    </tr>\n",
              "    <tr>\n",
              "      <th>3</th>\n",
              "      <td>1-1008653-1</td>\n",
              "      <td>[Country ( exonym ), Capital ( exonym ), Count...</td>\n",
              "      <td>[text, text, text, text, text]</td>\n",
              "      <td>[[Afghanistan, Kabul, Afghanestan افغانستان, K...</td>\n",
              "    </tr>\n",
              "    <tr>\n",
              "      <th>4</th>\n",
              "      <td>1-10088101-1</td>\n",
              "      <td>[No. in set, No. in series, Title, Directed by...</td>\n",
              "      <td>[real, real, text, text, text, text, text]</td>\n",
              "      <td>[[1, 174, \" Per Manum \", Kim Manners, Chris Ca...</td>\n",
              "    </tr>\n",
              "    <tr>\n",
              "      <th>...</th>\n",
              "      <td>...</td>\n",
              "      <td>...</td>\n",
              "      <td>...</td>\n",
              "      <td>...</td>\n",
              "    </tr>\n",
              "    <tr>\n",
              "      <th>2711</th>\n",
              "      <td>2-18999963-3</td>\n",
              "      <td>[Year, Program, Role, Episode, First aired]</td>\n",
              "      <td>[real, text, text, text, text]</td>\n",
              "      <td>[[1957, Alfred Hitchcock Presents, Charles Cou...</td>\n",
              "    </tr>\n",
              "    <tr>\n",
              "      <th>2712</th>\n",
              "      <td>2-19000748-1</td>\n",
              "      <td>[Round, Pick, Player, Nationality, College/Jun...</td>\n",
              "      <td>[real, real, text, text, text]</td>\n",
              "      <td>[[1, 3., Rick Hampton, Canada, St. Catharines ...</td>\n",
              "    </tr>\n",
              "    <tr>\n",
              "      <th>2713</th>\n",
              "      <td>2-19000872-1</td>\n",
              "      <td>[Round, Pick, Player, Nationality, College/jun...</td>\n",
              "      <td>[real, real, text, text, text]</td>\n",
              "      <td>[[1, 5., Mike Crombeen, Canada, Kingston Canad...</td>\n",
              "    </tr>\n",
              "    <tr>\n",
              "      <th>2714</th>\n",
              "      <td>2-19001175-2</td>\n",
              "      <td>[Country, Total Drivers, Championship Titles, ...</td>\n",
              "      <td>[text, real, text, text, real, real, real, rea...</td>\n",
              "      <td>[[Argentina, 11, 0, 119 (113), 0, 0, 3, 2, 64]...</td>\n",
              "    </tr>\n",
              "    <tr>\n",
              "      <th>2715</th>\n",
              "      <td>2-19004438-1</td>\n",
              "      <td>[Country, Event, Time, Date, Place]</td>\n",
              "      <td>[text, text, text, text, text]</td>\n",
              "      <td>[[CPV, marathon, 2:19:14, April 10, 2005, Rott...</td>\n",
              "    </tr>\n",
              "  </tbody>\n",
              "</table>\n",
              "<p>2716 rows × 4 columns</p>\n",
              "</div>"
            ],
            "text/plain": [
              "                 id  ...                                               rows\n",
              "0     1-10015132-11  ...  [[Antonio Lang, 21, United States, Guard-Forwa...\n",
              "1      1-10015132-9  ...  [[Jarrett Jack, 1, United States, Guard, 2009-...\n",
              "2      1-10026563-1  ...  [[16 October 1964, 15 November 1975, 5 April 1...\n",
              "3       1-1008653-1  ...  [[Afghanistan, Kabul, Afghanestan افغانستان, K...\n",
              "4      1-10088101-1  ...  [[1, 174, \" Per Manum \", Kim Manners, Chris Ca...\n",
              "...             ...  ...                                                ...\n",
              "2711   2-18999963-3  ...  [[1957, Alfred Hitchcock Presents, Charles Cou...\n",
              "2712   2-19000748-1  ...  [[1, 3., Rick Hampton, Canada, St. Catharines ...\n",
              "2713   2-19000872-1  ...  [[1, 5., Mike Crombeen, Canada, Kingston Canad...\n",
              "2714   2-19001175-2  ...  [[Argentina, 11, 0, 119 (113), 0, 0, 3, 2, 64]...\n",
              "2715   2-19004438-1  ...  [[CPV, marathon, 2:19:14, April 10, 2005, Rott...\n",
              "\n",
              "[2716 rows x 4 columns]"
            ]
          },
          "metadata": {},
          "execution_count": 141
        }
      ]
    },
    {
      "cell_type": "code",
      "metadata": {
        "colab": {
          "base_uri": "https://localhost:8080/",
          "height": 602
        },
        "id": "qSg7UYSJKSuk",
        "outputId": "0ced844e-5563-4470-8c20-ddc588ddc6b2"
      },
      "source": [
        "val_merged_data=val_data.merge(val_table_info,on='id')\n",
        "val_merged_data"
      ],
      "execution_count": null,
      "outputs": [
        {
          "output_type": "execute_result",
          "data": {
            "text/html": [
              "<div>\n",
              "<style scoped>\n",
              "    .dataframe tbody tr th:only-of-type {\n",
              "        vertical-align: middle;\n",
              "    }\n",
              "\n",
              "    .dataframe tbody tr th {\n",
              "        vertical-align: top;\n",
              "    }\n",
              "\n",
              "    .dataframe thead th {\n",
              "        text-align: right;\n",
              "    }\n",
              "</style>\n",
              "<table border=\"1\" class=\"dataframe\">\n",
              "  <thead>\n",
              "    <tr style=\"text-align: right;\">\n",
              "      <th></th>\n",
              "      <th>phase</th>\n",
              "      <th>id</th>\n",
              "      <th>question</th>\n",
              "      <th>sql</th>\n",
              "      <th>header</th>\n",
              "      <th>types</th>\n",
              "      <th>rows</th>\n",
              "    </tr>\n",
              "  </thead>\n",
              "  <tbody>\n",
              "    <tr>\n",
              "      <th>0</th>\n",
              "      <td>1</td>\n",
              "      <td>1-10015132-11</td>\n",
              "      <td>What position does the player who played for b...</td>\n",
              "      <td>{'sel': 3, 'conds': [[5, 0, 'Butler CC (KS)']]...</td>\n",
              "      <td>[Player, No., Nationality, Position, Years in ...</td>\n",
              "      <td>[text, text, text, text, text, text]</td>\n",
              "      <td>[[Antonio Lang, 21, United States, Guard-Forwa...</td>\n",
              "    </tr>\n",
              "    <tr>\n",
              "      <th>1</th>\n",
              "      <td>1</td>\n",
              "      <td>1-10015132-11</td>\n",
              "      <td>How many schools did player number 3 play at?</td>\n",
              "      <td>{'sel': 5, 'conds': [[1, 0, '3']], 'agg': 3}</td>\n",
              "      <td>[Player, No., Nationality, Position, Years in ...</td>\n",
              "      <td>[text, text, text, text, text, text]</td>\n",
              "      <td>[[Antonio Lang, 21, United States, Guard-Forwa...</td>\n",
              "    </tr>\n",
              "    <tr>\n",
              "      <th>2</th>\n",
              "      <td>1</td>\n",
              "      <td>1-10015132-11</td>\n",
              "      <td>What school did player number 21 play for?</td>\n",
              "      <td>{'sel': 5, 'conds': [[1, 0, '21']], 'agg': 0}</td>\n",
              "      <td>[Player, No., Nationality, Position, Years in ...</td>\n",
              "      <td>[text, text, text, text, text, text]</td>\n",
              "      <td>[[Antonio Lang, 21, United States, Guard-Forwa...</td>\n",
              "    </tr>\n",
              "    <tr>\n",
              "      <th>3</th>\n",
              "      <td>1</td>\n",
              "      <td>1-10015132-11</td>\n",
              "      <td>Who is the player that wears number 42?</td>\n",
              "      <td>{'sel': 0, 'conds': [[1, 0, '42']], 'agg': 0}</td>\n",
              "      <td>[Player, No., Nationality, Position, Years in ...</td>\n",
              "      <td>[text, text, text, text, text, text]</td>\n",
              "      <td>[[Antonio Lang, 21, United States, Guard-Forwa...</td>\n",
              "    </tr>\n",
              "    <tr>\n",
              "      <th>4</th>\n",
              "      <td>1</td>\n",
              "      <td>1-10015132-11</td>\n",
              "      <td>What player played guard for toronto in 1996-97?</td>\n",
              "      <td>{'sel': 0, 'conds': [[3, 0, 'Guard'], [4, 0, '...</td>\n",
              "      <td>[Player, No., Nationality, Position, Years in ...</td>\n",
              "      <td>[text, text, text, text, text, text]</td>\n",
              "      <td>[[Antonio Lang, 21, United States, Guard-Forwa...</td>\n",
              "    </tr>\n",
              "    <tr>\n",
              "      <th>...</th>\n",
              "      <td>...</td>\n",
              "      <td>...</td>\n",
              "      <td>...</td>\n",
              "      <td>...</td>\n",
              "      <td>...</td>\n",
              "      <td>...</td>\n",
              "      <td>...</td>\n",
              "    </tr>\n",
              "    <tr>\n",
              "      <th>8416</th>\n",
              "      <td>2</td>\n",
              "      <td>2-12206617-2</td>\n",
              "      <td>Which loss has an attendance greater than 49,6...</td>\n",
              "      <td>{'sel': 3, 'conds': [[4, 1, '49,688'], [5, 0, ...</td>\n",
              "      <td>[Date, Opponent, Score, Loss, Attendance, Record]</td>\n",
              "      <td>[text, text, text, text, real, text]</td>\n",
              "      <td>[[April 8, Red Sox, 6 - 2, Stieb (0-1), 50,114...</td>\n",
              "    </tr>\n",
              "    <tr>\n",
              "      <th>8417</th>\n",
              "      <td>2</td>\n",
              "      <td>2-12206617-2</td>\n",
              "      <td>What is the largest attendance that has tigers...</td>\n",
              "      <td>{'sel': 4, 'conds': [[1, 0, 'tigers'], [3, 0, ...</td>\n",
              "      <td>[Date, Opponent, Score, Loss, Attendance, Record]</td>\n",
              "      <td>[text, text, text, text, real, text]</td>\n",
              "      <td>[[April 8, Red Sox, 6 - 2, Stieb (0-1), 50,114...</td>\n",
              "    </tr>\n",
              "    <tr>\n",
              "      <th>8418</th>\n",
              "      <td>2</td>\n",
              "      <td>2-12601141-1</td>\n",
              "      <td>Which party has Peter A. Quinn as a representa...</td>\n",
              "      <td>{'sel': 3, 'conds': [[0, 0, 'peter a. quinn']]...</td>\n",
              "      <td>[Representative, Years, State, Party, Lifespan]</td>\n",
              "      <td>[text, text, text, text, text]</td>\n",
              "      <td>[[John A. Quackenbush, 1889–1893, New York, Re...</td>\n",
              "    </tr>\n",
              "    <tr>\n",
              "      <th>8419</th>\n",
              "      <td>2</td>\n",
              "      <td>2-12601141-1</td>\n",
              "      <td>Which state does Jimmy Quillen represent?</td>\n",
              "      <td>{'sel': 2, 'conds': [[0, 0, 'jimmy quillen']],...</td>\n",
              "      <td>[Representative, Years, State, Party, Lifespan]</td>\n",
              "      <td>[text, text, text, text, text]</td>\n",
              "      <td>[[John A. Quackenbush, 1889–1893, New York, Re...</td>\n",
              "    </tr>\n",
              "    <tr>\n",
              "      <th>8420</th>\n",
              "      <td>2</td>\n",
              "      <td>2-12601141-1</td>\n",
              "      <td>What is the lifespan of the democratic party i...</td>\n",
              "      <td>{'sel': 4, 'conds': [[3, 0, 'democratic'], [2,...</td>\n",
              "      <td>[Representative, Years, State, Party, Lifespan]</td>\n",
              "      <td>[text, text, text, text, text]</td>\n",
              "      <td>[[John A. Quackenbush, 1889–1893, New York, Re...</td>\n",
              "    </tr>\n",
              "  </tbody>\n",
              "</table>\n",
              "<p>8421 rows × 7 columns</p>\n",
              "</div>"
            ],
            "text/plain": [
              "      phase  ...                                               rows\n",
              "0         1  ...  [[Antonio Lang, 21, United States, Guard-Forwa...\n",
              "1         1  ...  [[Antonio Lang, 21, United States, Guard-Forwa...\n",
              "2         1  ...  [[Antonio Lang, 21, United States, Guard-Forwa...\n",
              "3         1  ...  [[Antonio Lang, 21, United States, Guard-Forwa...\n",
              "4         1  ...  [[Antonio Lang, 21, United States, Guard-Forwa...\n",
              "...     ...  ...                                                ...\n",
              "8416      2  ...  [[April 8, Red Sox, 6 - 2, Stieb (0-1), 50,114...\n",
              "8417      2  ...  [[April 8, Red Sox, 6 - 2, Stieb (0-1), 50,114...\n",
              "8418      2  ...  [[John A. Quackenbush, 1889–1893, New York, Re...\n",
              "8419      2  ...  [[John A. Quackenbush, 1889–1893, New York, Re...\n",
              "8420      2  ...  [[John A. Quackenbush, 1889–1893, New York, Re...\n",
              "\n",
              "[8421 rows x 7 columns]"
            ]
          },
          "metadata": {},
          "execution_count": 142
        }
      ]
    },
    {
      "cell_type": "code",
      "metadata": {
        "colab": {
          "base_uri": "https://localhost:8080/"
        },
        "id": "tTWfvHqaKcJq",
        "outputId": "596885fa-4313-4254-9cfb-bce7f0830763"
      },
      "source": [
        "#Converting dictionary sql answer into sql text for using in seq-seq model\n",
        "from tqdm import tqdm \n",
        "sql_in_text=[]\n",
        "aggregate=['','MAX','MIN','COUNT','SUM','AVG']\n",
        "operator=['=','<','>']\n",
        "word_operator=['eq','lt','gt']\n",
        "\n",
        "for i in tqdm(range(len(val_merged_data))):\n",
        "  sql=val_merged_data.sql.iloc[i]\n",
        "  col=val_merged_data.header.iloc[i][sql['sel']]\n",
        "  agg=aggregate[sql['agg']]\n",
        "  cond_col=[]\n",
        "  cond_opr=[]\n",
        "  cond_value=[]\n",
        "  for j in sql['conds']:\n",
        "    cond_col.append(val_merged_data.header.iloc[i][j[0]])\n",
        "    cond_opr.append(word_operator[j[1]])\n",
        "    cond_value.append(j[2])\n",
        "  resulted_sql=\"select \"\n",
        "  if(agg==''):\n",
        "    resulted_sql+=col+\" where \"\n",
        "  else:\n",
        "    resulted_sql+=agg+\"(\"+col+\") where \"\n",
        "\n",
        "  for j in range(len(cond_col)):\n",
        "    if(j!=0):\n",
        "      resulted_sql+=\"and \"\n",
        "    resulted_sql+=cond_col[j]+' '+cond_opr[j]+' '\n",
        "    resulted_sql+=str(cond_value[j])+' '\n",
        "\n",
        "  sql_in_text.append(resulted_sql)"
      ],
      "execution_count": null,
      "outputs": [
        {
          "output_type": "stream",
          "name": "stderr",
          "text": [
            "100%|██████████| 8421/8421 [00:00<00:00, 16011.27it/s]\n"
          ]
        }
      ]
    },
    {
      "cell_type": "code",
      "metadata": {
        "id": "rQJ9rHMdKenQ"
      },
      "source": [
        "val_merged_data['resulted_sql']=sql_in_text"
      ],
      "execution_count": null,
      "outputs": []
    },
    {
      "cell_type": "code",
      "metadata": {
        "id": "UmtLgkzYKhFB"
      },
      "source": [
        "#Concatinating question and headers\n",
        "question_header=[]\n",
        "for i in range(len(val_merged_data)):\n",
        "  question=val_merged_data.question.iloc[i]\n",
        "  header=val_merged_data.header.iloc[i]\n",
        "  '''a=header.split(',')\n",
        "  for i in range(len(a)):\n",
        "    a[i]=a[i].replace('[','')\n",
        "    a[i]=a[i].replace(\"'\",'')\n",
        "    a[i]=a[i].replace(',','')\n",
        "    a[i]=a[i].replace(']','')'''\n",
        "  for head in header: \n",
        "    question+=' '+head\n",
        "  question_header.append(question)"
      ],
      "execution_count": null,
      "outputs": []
    },
    {
      "cell_type": "code",
      "metadata": {
        "id": "Z6RZ8K4RKljP"
      },
      "source": [
        "import re\n",
        "preprocess_question_header=[]\n",
        "for i in question_header:\n",
        "  preprocess_question_header.append(preprocess(i))"
      ],
      "execution_count": null,
      "outputs": []
    },
    {
      "cell_type": "code",
      "metadata": {
        "id": "tj2rZ7IvKoBn"
      },
      "source": [
        "preprocess_sql_in_text=[]\n",
        "for i in val_merged_data['resulted_sql'].values:\n",
        "  preprocess_sql_in_text.append(preprocess(i))"
      ],
      "execution_count": null,
      "outputs": []
    },
    {
      "cell_type": "code",
      "metadata": {
        "colab": {
          "base_uri": "https://localhost:8080/",
          "height": 417
        },
        "id": "GEM_vVkBKtLh",
        "outputId": "4eac23ab-a009-43a8-c526-6ac7a69a1572"
      },
      "source": [
        "val_final_data=pd.DataFrame()\n",
        "val_final_data['question_header']=question_header\n",
        "val_final_data['sql']=preprocess_sql_in_text\n",
        "val_final_data"
      ],
      "execution_count": null,
      "outputs": [
        {
          "output_type": "execute_result",
          "data": {
            "text/html": [
              "<div>\n",
              "<style scoped>\n",
              "    .dataframe tbody tr th:only-of-type {\n",
              "        vertical-align: middle;\n",
              "    }\n",
              "\n",
              "    .dataframe tbody tr th {\n",
              "        vertical-align: top;\n",
              "    }\n",
              "\n",
              "    .dataframe thead th {\n",
              "        text-align: right;\n",
              "    }\n",
              "</style>\n",
              "<table border=\"1\" class=\"dataframe\">\n",
              "  <thead>\n",
              "    <tr style=\"text-align: right;\">\n",
              "      <th></th>\n",
              "      <th>question_header</th>\n",
              "      <th>sql</th>\n",
              "    </tr>\n",
              "  </thead>\n",
              "  <tbody>\n",
              "    <tr>\n",
              "      <th>0</th>\n",
              "      <td>What position does the player who played for b...</td>\n",
              "      <td>select position where school/club team eq butl...</td>\n",
              "    </tr>\n",
              "    <tr>\n",
              "      <th>1</th>\n",
              "      <td>How many schools did player number 3 play at? ...</td>\n",
              "      <td>select count(school/club team) where no. eq 3</td>\n",
              "    </tr>\n",
              "    <tr>\n",
              "      <th>2</th>\n",
              "      <td>What school did player number 21 play for? Pla...</td>\n",
              "      <td>select school/club team where no. eq 21</td>\n",
              "    </tr>\n",
              "    <tr>\n",
              "      <th>3</th>\n",
              "      <td>Who is the player that wears number 42? Player...</td>\n",
              "      <td>select player where no. eq 42</td>\n",
              "    </tr>\n",
              "    <tr>\n",
              "      <th>4</th>\n",
              "      <td>What player played guard for toronto in 1996-9...</td>\n",
              "      <td>select player where position eq guard and year...</td>\n",
              "    </tr>\n",
              "    <tr>\n",
              "      <th>...</th>\n",
              "      <td>...</td>\n",
              "      <td>...</td>\n",
              "    </tr>\n",
              "    <tr>\n",
              "      <th>8416</th>\n",
              "      <td>Which loss has an attendance greater than 49,6...</td>\n",
              "      <td>select loss where attendance lt 49,688 and rec...</td>\n",
              "    </tr>\n",
              "    <tr>\n",
              "      <th>8417</th>\n",
              "      <td>What is the largest attendance that has tigers...</td>\n",
              "      <td>select max(attendance) where opponent eq tiger...</td>\n",
              "    </tr>\n",
              "    <tr>\n",
              "      <th>8418</th>\n",
              "      <td>Which party has Peter A. Quinn as a representa...</td>\n",
              "      <td>select party where representative eq peter a. ...</td>\n",
              "    </tr>\n",
              "    <tr>\n",
              "      <th>8419</th>\n",
              "      <td>Which state does Jimmy Quillen represent? Repr...</td>\n",
              "      <td>select state where representative eq jimmy qui...</td>\n",
              "    </tr>\n",
              "    <tr>\n",
              "      <th>8420</th>\n",
              "      <td>What is the lifespan of the democratic party i...</td>\n",
              "      <td>select lifespan where party eq democratic and ...</td>\n",
              "    </tr>\n",
              "  </tbody>\n",
              "</table>\n",
              "<p>8421 rows × 2 columns</p>\n",
              "</div>"
            ],
            "text/plain": [
              "                                        question_header                                                sql\n",
              "0     What position does the player who played for b...  select position where school/club team eq butl...\n",
              "1     How many schools did player number 3 play at? ...     select count(school/club team) where no. eq 3 \n",
              "2     What school did player number 21 play for? Pla...           select school/club team where no. eq 21 \n",
              "3     Who is the player that wears number 42? Player...                     select player where no. eq 42 \n",
              "4     What player played guard for toronto in 1996-9...  select player where position eq guard and year...\n",
              "...                                                 ...                                                ...\n",
              "8416  Which loss has an attendance greater than 49,6...  select loss where attendance lt 49,688 and rec...\n",
              "8417  What is the largest attendance that has tigers...  select max(attendance) where opponent eq tiger...\n",
              "8418  Which party has Peter A. Quinn as a representa...  select party where representative eq peter a. ...\n",
              "8419  Which state does Jimmy Quillen represent? Repr...  select state where representative eq jimmy qui...\n",
              "8420  What is the lifespan of the democratic party i...  select lifespan where party eq democratic and ...\n",
              "\n",
              "[8421 rows x 2 columns]"
            ]
          },
          "metadata": {},
          "execution_count": 113
        }
      ]
    },
    {
      "cell_type": "code",
      "metadata": {
        "id": "TSyiWK_wMrW0"
      },
      "source": [
        "pos=[]\n",
        "for i in range(len(val_final_data.question_header)):\n",
        "  #print(len(val_final_data.question_header.iloc[i].split()),len(val_final_data.sql.iloc[i].split()))\n",
        "  if(len(val_final_data.question_header.iloc[i].split())<=60 and len(val_final_data.sql.iloc[i].split())<=35):\n",
        "    pos.append(i)"
      ],
      "execution_count": null,
      "outputs": []
    },
    {
      "cell_type": "code",
      "metadata": {
        "colab": {
          "base_uri": "https://localhost:8080/"
        },
        "id": "GIiTI_v1M_0e",
        "outputId": "ee81e1ec-69d0-4a8d-8567-7399a38514b4"
      },
      "source": [
        "len(pos)"
      ],
      "execution_count": null,
      "outputs": [
        {
          "output_type": "execute_result",
          "data": {
            "text/plain": [
              "8393"
            ]
          },
          "metadata": {},
          "execution_count": 115
        }
      ]
    },
    {
      "cell_type": "code",
      "metadata": {
        "id": "BOlgpjvYNkAP"
      },
      "source": [
        "data=val_final_data.iloc[pos]"
      ],
      "execution_count": null,
      "outputs": []
    },
    {
      "cell_type": "code",
      "metadata": {
        "colab": {
          "base_uri": "https://localhost:8080/"
        },
        "id": "qegygFWvNti6",
        "outputId": "26784e8b-0418-43db-a1a3-282765f21578"
      },
      "source": [
        "data['sql_input'] = '<start> ' + data['sql'].astype(str)\n",
        "data['sql_output'] = data['sql'].astype(str) + ' <end>'"
      ],
      "execution_count": null,
      "outputs": [
        {
          "output_type": "stream",
          "name": "stderr",
          "text": [
            "/usr/local/lib/python3.7/dist-packages/ipykernel_launcher.py:1: SettingWithCopyWarning: \n",
            "A value is trying to be set on a copy of a slice from a DataFrame.\n",
            "Try using .loc[row_indexer,col_indexer] = value instead\n",
            "\n",
            "See the caveats in the documentation: https://pandas.pydata.org/pandas-docs/stable/user_guide/indexing.html#returning-a-view-versus-a-copy\n",
            "  \"\"\"Entry point for launching an IPython kernel.\n",
            "/usr/local/lib/python3.7/dist-packages/ipykernel_launcher.py:2: SettingWithCopyWarning: \n",
            "A value is trying to be set on a copy of a slice from a DataFrame.\n",
            "Try using .loc[row_indexer,col_indexer] = value instead\n",
            "\n",
            "See the caveats in the documentation: https://pandas.pydata.org/pandas-docs/stable/user_guide/indexing.html#returning-a-view-versus-a-copy\n",
            "  \n"
          ]
        }
      ]
    },
    {
      "cell_type": "code",
      "metadata": {
        "colab": {
          "base_uri": "https://localhost:8080/"
        },
        "id": "f3qk4o6FQNPy",
        "outputId": "a2d3d898-926f-489f-a3a1-92bdf9900aba"
      },
      "source": [
        "data.shape"
      ],
      "execution_count": null,
      "outputs": [
        {
          "output_type": "execute_result",
          "data": {
            "text/plain": [
              "(8393, 4)"
            ]
          },
          "metadata": {},
          "execution_count": 118
        }
      ]
    },
    {
      "cell_type": "code",
      "metadata": {
        "colab": {
          "base_uri": "https://localhost:8080/"
        },
        "id": "DvIunnP9N7Ub",
        "outputId": "62bc754a-ed7f-4e71-eb0d-4de8f572e0ee"
      },
      "source": [
        "#max_length=61\n",
        "val_dataset = Dataset(data, tknizer_question, tknizer_sql, 61)\n",
        "val_dataloader = Dataloder(val_dataset, batch_size=64)\n",
        "print(val_dataloader[0][0][0].shape, val_dataloader[0][0][1].shape, val_dataloader[0][1].shape)"
      ],
      "execution_count": null,
      "outputs": [
        {
          "output_type": "stream",
          "name": "stdout",
          "text": [
            "(64, 61) (64, 36) (64, 36)\n"
          ]
        }
      ]
    },
    {
      "cell_type": "markdown",
      "metadata": {
        "id": "C3IJp4fExf1T"
      },
      "source": [
        "**Training with validation dataset**"
      ]
    },
    {
      "cell_type": "code",
      "metadata": {
        "colab": {
          "base_uri": "https://localhost:8080/",
          "height": 367
        },
        "id": "rTJLrmReophf",
        "outputId": "bb59fe45-61ef-467a-c17a-e892f0ea7478"
      },
      "source": [
        "from tensorflow.keras.layers import Embedding, LSTM, Dense\n",
        "model  = Encoder_decoder(encoder_inputs_length=61,decoder_inputs_length=36,output_vocab_size=vocab_size_sql,batch_size=64)\n",
        "optimizer = tf.keras.optimizers.Adam()\n",
        "model.compile(optimizer=optimizer,loss='sparse_categorical_crossentropy',metrics=['accuracy'])\n",
        "train_steps=56266//64  \n",
        "valid_steps=8393//64  \n",
        "#Ran model for 3 epochs and got maximum accuracy of 96% \n",
        "model.fit(train_dataloader, steps_per_epoch=train_steps, epochs=3,verbose=2,validation_data=val_dataloader, validation_steps=valid_steps)"
      ],
      "execution_count": null,
      "outputs": [
        {
          "output_type": "error",
          "ename": "AttributeError",
          "evalue": "ignored",
          "traceback": [
            "\u001b[0;31m---------------------------------------------------------------------------\u001b[0m",
            "\u001b[0;31mAttributeError\u001b[0m                            Traceback (most recent call last)",
            "\u001b[0;32m<ipython-input-148-9767c260fffb>\u001b[0m in \u001b[0;36m<module>\u001b[0;34m()\u001b[0m\n\u001b[1;32m      6\u001b[0m \u001b[0mvalid_steps\u001b[0m\u001b[0;34m=\u001b[0m\u001b[0;36m8393\u001b[0m\u001b[0;34m//\u001b[0m\u001b[0;36m64\u001b[0m\u001b[0;34m\u001b[0m\u001b[0;34m\u001b[0m\u001b[0m\n\u001b[1;32m      7\u001b[0m \u001b[0;31m#Ran model for 3 epochs and got maximum accuracy of 96%\u001b[0m\u001b[0;34m\u001b[0m\u001b[0;34m\u001b[0m\u001b[0;34m\u001b[0m\u001b[0m\n\u001b[0;32m----> 8\u001b[0;31m \u001b[0mmodel\u001b[0m\u001b[0;34m.\u001b[0m\u001b[0mfit\u001b[0m\u001b[0;34m(\u001b[0m\u001b[0mtrain_dataloader\u001b[0m\u001b[0;34m,\u001b[0m \u001b[0msteps_per_epoch\u001b[0m\u001b[0;34m=\u001b[0m\u001b[0mtrain_steps\u001b[0m\u001b[0;34m,\u001b[0m \u001b[0mepochs\u001b[0m\u001b[0;34m=\u001b[0m\u001b[0;36m3\u001b[0m\u001b[0;34m,\u001b[0m\u001b[0mverbose\u001b[0m\u001b[0;34m=\u001b[0m\u001b[0;36m2\u001b[0m\u001b[0;34m,\u001b[0m\u001b[0mvalidation_data\u001b[0m\u001b[0;34m=\u001b[0m\u001b[0mval_dataloader\u001b[0m\u001b[0;34m,\u001b[0m \u001b[0mvalidation_steps\u001b[0m\u001b[0;34m=\u001b[0m\u001b[0mvalid_steps\u001b[0m\u001b[0;34m)\u001b[0m\u001b[0;34m\u001b[0m\u001b[0;34m\u001b[0m\u001b[0m\n\u001b[0m",
            "\u001b[0;32m/usr/local/lib/python3.7/dist-packages/keras/engine/training.py\u001b[0m in \u001b[0;36mfit\u001b[0;34m(self, x, y, batch_size, epochs, verbose, callbacks, validation_split, validation_data, shuffle, class_weight, sample_weight, initial_epoch, steps_per_epoch, validation_steps, validation_batch_size, validation_freq, max_queue_size, workers, use_multiprocessing)\u001b[0m\n\u001b[1;32m   1146\u001b[0m           \u001b[0muse_multiprocessing\u001b[0m\u001b[0;34m=\u001b[0m\u001b[0muse_multiprocessing\u001b[0m\u001b[0;34m,\u001b[0m\u001b[0;34m\u001b[0m\u001b[0;34m\u001b[0m\u001b[0m\n\u001b[1;32m   1147\u001b[0m           \u001b[0mmodel\u001b[0m\u001b[0;34m=\u001b[0m\u001b[0mself\u001b[0m\u001b[0;34m,\u001b[0m\u001b[0;34m\u001b[0m\u001b[0;34m\u001b[0m\u001b[0m\n\u001b[0;32m-> 1148\u001b[0;31m           steps_per_execution=self._steps_per_execution)\n\u001b[0m\u001b[1;32m   1149\u001b[0m \u001b[0;34m\u001b[0m\u001b[0m\n\u001b[1;32m   1150\u001b[0m       \u001b[0;31m# Container that configures and calls `tf.keras.Callback`s.\u001b[0m\u001b[0;34m\u001b[0m\u001b[0;34m\u001b[0m\u001b[0;34m\u001b[0m\u001b[0m\n",
            "\u001b[0;32m/usr/local/lib/python3.7/dist-packages/keras/engine/data_adapter.py\u001b[0m in \u001b[0;36mget_data_handler\u001b[0;34m(*args, **kwargs)\u001b[0m\n\u001b[1;32m   1381\u001b[0m   \u001b[0;32mif\u001b[0m \u001b[0mgetattr\u001b[0m\u001b[0;34m(\u001b[0m\u001b[0mkwargs\u001b[0m\u001b[0;34m[\u001b[0m\u001b[0;34m\"model\"\u001b[0m\u001b[0;34m]\u001b[0m\u001b[0;34m,\u001b[0m \u001b[0;34m\"_cluster_coordinator\"\u001b[0m\u001b[0;34m,\u001b[0m \u001b[0;32mNone\u001b[0m\u001b[0;34m)\u001b[0m\u001b[0;34m:\u001b[0m\u001b[0;34m\u001b[0m\u001b[0;34m\u001b[0m\u001b[0m\n\u001b[1;32m   1382\u001b[0m     \u001b[0;32mreturn\u001b[0m \u001b[0m_ClusterCoordinatorDataHandler\u001b[0m\u001b[0;34m(\u001b[0m\u001b[0;34m*\u001b[0m\u001b[0margs\u001b[0m\u001b[0;34m,\u001b[0m \u001b[0;34m**\u001b[0m\u001b[0mkwargs\u001b[0m\u001b[0;34m)\u001b[0m\u001b[0;34m\u001b[0m\u001b[0;34m\u001b[0m\u001b[0m\n\u001b[0;32m-> 1383\u001b[0;31m   \u001b[0;32mreturn\u001b[0m \u001b[0mDataHandler\u001b[0m\u001b[0;34m(\u001b[0m\u001b[0;34m*\u001b[0m\u001b[0margs\u001b[0m\u001b[0;34m,\u001b[0m \u001b[0;34m**\u001b[0m\u001b[0mkwargs\u001b[0m\u001b[0;34m)\u001b[0m\u001b[0;34m\u001b[0m\u001b[0;34m\u001b[0m\u001b[0m\n\u001b[0m\u001b[1;32m   1384\u001b[0m \u001b[0;34m\u001b[0m\u001b[0m\n\u001b[1;32m   1385\u001b[0m \u001b[0;34m\u001b[0m\u001b[0m\n",
            "\u001b[0;32m/usr/local/lib/python3.7/dist-packages/keras/engine/data_adapter.py\u001b[0m in \u001b[0;36m__init__\u001b[0;34m(self, x, y, sample_weight, batch_size, steps_per_epoch, initial_epoch, epochs, shuffle, class_weight, max_queue_size, workers, use_multiprocessing, model, steps_per_execution, distribute)\u001b[0m\n\u001b[1;32m   1148\u001b[0m         \u001b[0muse_multiprocessing\u001b[0m\u001b[0;34m=\u001b[0m\u001b[0muse_multiprocessing\u001b[0m\u001b[0;34m,\u001b[0m\u001b[0;34m\u001b[0m\u001b[0;34m\u001b[0m\u001b[0m\n\u001b[1;32m   1149\u001b[0m         \u001b[0mdistribution_strategy\u001b[0m\u001b[0;34m=\u001b[0m\u001b[0mtf\u001b[0m\u001b[0;34m.\u001b[0m\u001b[0mdistribute\u001b[0m\u001b[0;34m.\u001b[0m\u001b[0mget_strategy\u001b[0m\u001b[0;34m(\u001b[0m\u001b[0;34m)\u001b[0m\u001b[0;34m,\u001b[0m\u001b[0;34m\u001b[0m\u001b[0;34m\u001b[0m\u001b[0m\n\u001b[0;32m-> 1150\u001b[0;31m         model=model)\n\u001b[0m\u001b[1;32m   1151\u001b[0m \u001b[0;34m\u001b[0m\u001b[0m\n\u001b[1;32m   1152\u001b[0m     \u001b[0mstrategy\u001b[0m \u001b[0;34m=\u001b[0m \u001b[0mtf\u001b[0m\u001b[0;34m.\u001b[0m\u001b[0mdistribute\u001b[0m\u001b[0;34m.\u001b[0m\u001b[0mget_strategy\u001b[0m\u001b[0;34m(\u001b[0m\u001b[0;34m)\u001b[0m\u001b[0;34m\u001b[0m\u001b[0;34m\u001b[0m\u001b[0m\n",
            "\u001b[0;32m/usr/local/lib/python3.7/dist-packages/keras/engine/data_adapter.py\u001b[0m in \u001b[0;36m__init__\u001b[0;34m(self, x, y, sample_weights, shuffle, workers, use_multiprocessing, max_queue_size, model, **kwargs)\u001b[0m\n\u001b[1;32m    922\u001b[0m         \u001b[0mmax_queue_size\u001b[0m\u001b[0;34m=\u001b[0m\u001b[0mmax_queue_size\u001b[0m\u001b[0;34m,\u001b[0m\u001b[0;34m\u001b[0m\u001b[0;34m\u001b[0m\u001b[0m\n\u001b[1;32m    923\u001b[0m         \u001b[0mmodel\u001b[0m\u001b[0;34m=\u001b[0m\u001b[0mmodel\u001b[0m\u001b[0;34m,\u001b[0m\u001b[0;34m\u001b[0m\u001b[0;34m\u001b[0m\u001b[0m\n\u001b[0;32m--> 924\u001b[0;31m         **kwargs)\n\u001b[0m\u001b[1;32m    925\u001b[0m \u001b[0;34m\u001b[0m\u001b[0m\n\u001b[1;32m    926\u001b[0m   \u001b[0;34m@\u001b[0m\u001b[0mstaticmethod\u001b[0m\u001b[0;34m\u001b[0m\u001b[0;34m\u001b[0m\u001b[0m\n",
            "\u001b[0;32m/usr/local/lib/python3.7/dist-packages/keras/engine/data_adapter.py\u001b[0m in \u001b[0;36m__init__\u001b[0;34m(self, x, y, sample_weights, workers, use_multiprocessing, max_queue_size, model, **kwargs)\u001b[0m\n\u001b[1;32m    800\u001b[0m       \u001b[0mconcrete_x\u001b[0m\u001b[0;34m,\u001b[0m \u001b[0m_\u001b[0m\u001b[0;34m,\u001b[0m \u001b[0m_\u001b[0m \u001b[0;34m=\u001b[0m \u001b[0munpack_x_y_sample_weight\u001b[0m\u001b[0;34m(\u001b[0m\u001b[0mpeek\u001b[0m\u001b[0;34m)\u001b[0m\u001b[0;34m\u001b[0m\u001b[0;34m\u001b[0m\u001b[0m\n\u001b[1;32m    801\u001b[0m       model.distribute_strategy.run(\n\u001b[0;32m--> 802\u001b[0;31m           lambda x: model(x, training=False), args=(concrete_x,))\n\u001b[0m\u001b[1;32m    803\u001b[0m \u001b[0;34m\u001b[0m\u001b[0m\n\u001b[1;32m    804\u001b[0m     \u001b[0mself\u001b[0m\u001b[0;34m.\u001b[0m\u001b[0m_first_batch_size\u001b[0m \u001b[0;34m=\u001b[0m \u001b[0mint\u001b[0m\u001b[0;34m(\u001b[0m\u001b[0mtf\u001b[0m\u001b[0;34m.\u001b[0m\u001b[0mnest\u001b[0m\u001b[0;34m.\u001b[0m\u001b[0mflatten\u001b[0m\u001b[0;34m(\u001b[0m\u001b[0mpeek\u001b[0m\u001b[0;34m)\u001b[0m\u001b[0;34m[\u001b[0m\u001b[0;36m0\u001b[0m\u001b[0;34m]\u001b[0m\u001b[0;34m.\u001b[0m\u001b[0mshape\u001b[0m\u001b[0;34m[\u001b[0m\u001b[0;36m0\u001b[0m\u001b[0;34m]\u001b[0m\u001b[0;34m)\u001b[0m\u001b[0;34m\u001b[0m\u001b[0;34m\u001b[0m\u001b[0m\n",
            "\u001b[0;32m/usr/local/lib/python3.7/dist-packages/tensorflow/python/distribute/distribute_lib.py\u001b[0m in \u001b[0;36mrun\u001b[0;34m(***failed resolving arguments***)\u001b[0m\n\u001b[1;32m   1284\u001b[0m       fn = autograph.tf_convert(\n\u001b[1;32m   1285\u001b[0m           fn, autograph_ctx.control_status_ctx(), convert_by_default=False)\n\u001b[0;32m-> 1286\u001b[0;31m       \u001b[0;32mreturn\u001b[0m \u001b[0mself\u001b[0m\u001b[0;34m.\u001b[0m\u001b[0m_extended\u001b[0m\u001b[0;34m.\u001b[0m\u001b[0mcall_for_each_replica\u001b[0m\u001b[0;34m(\u001b[0m\u001b[0mfn\u001b[0m\u001b[0;34m,\u001b[0m \u001b[0margs\u001b[0m\u001b[0;34m=\u001b[0m\u001b[0margs\u001b[0m\u001b[0;34m,\u001b[0m \u001b[0mkwargs\u001b[0m\u001b[0;34m=\u001b[0m\u001b[0mkwargs\u001b[0m\u001b[0;34m)\u001b[0m\u001b[0;34m\u001b[0m\u001b[0;34m\u001b[0m\u001b[0m\n\u001b[0m\u001b[1;32m   1287\u001b[0m \u001b[0;34m\u001b[0m\u001b[0m\n\u001b[1;32m   1288\u001b[0m   \u001b[0;32mdef\u001b[0m \u001b[0mreduce\u001b[0m\u001b[0;34m(\u001b[0m\u001b[0mself\u001b[0m\u001b[0;34m,\u001b[0m \u001b[0mreduce_op\u001b[0m\u001b[0;34m,\u001b[0m \u001b[0mvalue\u001b[0m\u001b[0;34m,\u001b[0m \u001b[0maxis\u001b[0m\u001b[0;34m)\u001b[0m\u001b[0;34m:\u001b[0m\u001b[0;34m\u001b[0m\u001b[0;34m\u001b[0m\u001b[0m\n",
            "\u001b[0;32m/usr/local/lib/python3.7/dist-packages/tensorflow/python/distribute/distribute_lib.py\u001b[0m in \u001b[0;36mcall_for_each_replica\u001b[0;34m(self, fn, args, kwargs)\u001b[0m\n\u001b[1;32m   2847\u001b[0m       \u001b[0mkwargs\u001b[0m \u001b[0;34m=\u001b[0m \u001b[0;34m{\u001b[0m\u001b[0;34m}\u001b[0m\u001b[0;34m\u001b[0m\u001b[0;34m\u001b[0m\u001b[0m\n\u001b[1;32m   2848\u001b[0m     \u001b[0;32mwith\u001b[0m \u001b[0mself\u001b[0m\u001b[0;34m.\u001b[0m\u001b[0m_container_strategy\u001b[0m\u001b[0;34m(\u001b[0m\u001b[0;34m)\u001b[0m\u001b[0;34m.\u001b[0m\u001b[0mscope\u001b[0m\u001b[0;34m(\u001b[0m\u001b[0;34m)\u001b[0m\u001b[0;34m:\u001b[0m\u001b[0;34m\u001b[0m\u001b[0;34m\u001b[0m\u001b[0m\n\u001b[0;32m-> 2849\u001b[0;31m       \u001b[0;32mreturn\u001b[0m \u001b[0mself\u001b[0m\u001b[0;34m.\u001b[0m\u001b[0m_call_for_each_replica\u001b[0m\u001b[0;34m(\u001b[0m\u001b[0mfn\u001b[0m\u001b[0;34m,\u001b[0m \u001b[0margs\u001b[0m\u001b[0;34m,\u001b[0m \u001b[0mkwargs\u001b[0m\u001b[0;34m)\u001b[0m\u001b[0;34m\u001b[0m\u001b[0;34m\u001b[0m\u001b[0m\n\u001b[0m\u001b[1;32m   2850\u001b[0m \u001b[0;34m\u001b[0m\u001b[0m\n\u001b[1;32m   2851\u001b[0m   \u001b[0;32mdef\u001b[0m \u001b[0m_call_for_each_replica\u001b[0m\u001b[0;34m(\u001b[0m\u001b[0mself\u001b[0m\u001b[0;34m,\u001b[0m \u001b[0mfn\u001b[0m\u001b[0;34m,\u001b[0m \u001b[0margs\u001b[0m\u001b[0;34m,\u001b[0m \u001b[0mkwargs\u001b[0m\u001b[0;34m)\u001b[0m\u001b[0;34m:\u001b[0m\u001b[0;34m\u001b[0m\u001b[0;34m\u001b[0m\u001b[0m\n",
            "\u001b[0;32m/usr/local/lib/python3.7/dist-packages/tensorflow/python/distribute/distribute_lib.py\u001b[0m in \u001b[0;36m_call_for_each_replica\u001b[0;34m(self, fn, args, kwargs)\u001b[0m\n\u001b[1;32m   3630\u001b[0m   \u001b[0;32mdef\u001b[0m \u001b[0m_call_for_each_replica\u001b[0m\u001b[0;34m(\u001b[0m\u001b[0mself\u001b[0m\u001b[0;34m,\u001b[0m \u001b[0mfn\u001b[0m\u001b[0;34m,\u001b[0m \u001b[0margs\u001b[0m\u001b[0;34m,\u001b[0m \u001b[0mkwargs\u001b[0m\u001b[0;34m)\u001b[0m\u001b[0;34m:\u001b[0m\u001b[0;34m\u001b[0m\u001b[0;34m\u001b[0m\u001b[0m\n\u001b[1;32m   3631\u001b[0m     \u001b[0;32mwith\u001b[0m \u001b[0mReplicaContext\u001b[0m\u001b[0;34m(\u001b[0m\u001b[0mself\u001b[0m\u001b[0;34m.\u001b[0m\u001b[0m_container_strategy\u001b[0m\u001b[0;34m(\u001b[0m\u001b[0;34m)\u001b[0m\u001b[0;34m,\u001b[0m \u001b[0mreplica_id_in_sync_group\u001b[0m\u001b[0;34m=\u001b[0m\u001b[0;36m0\u001b[0m\u001b[0;34m)\u001b[0m\u001b[0;34m:\u001b[0m\u001b[0;34m\u001b[0m\u001b[0;34m\u001b[0m\u001b[0m\n\u001b[0;32m-> 3632\u001b[0;31m       \u001b[0;32mreturn\u001b[0m \u001b[0mfn\u001b[0m\u001b[0;34m(\u001b[0m\u001b[0;34m*\u001b[0m\u001b[0margs\u001b[0m\u001b[0;34m,\u001b[0m \u001b[0;34m**\u001b[0m\u001b[0mkwargs\u001b[0m\u001b[0;34m)\u001b[0m\u001b[0;34m\u001b[0m\u001b[0;34m\u001b[0m\u001b[0m\n\u001b[0m\u001b[1;32m   3633\u001b[0m \u001b[0;34m\u001b[0m\u001b[0m\n\u001b[1;32m   3634\u001b[0m   \u001b[0;32mdef\u001b[0m \u001b[0m_reduce_to\u001b[0m\u001b[0;34m(\u001b[0m\u001b[0mself\u001b[0m\u001b[0;34m,\u001b[0m \u001b[0mreduce_op\u001b[0m\u001b[0;34m,\u001b[0m \u001b[0mvalue\u001b[0m\u001b[0;34m,\u001b[0m \u001b[0mdestinations\u001b[0m\u001b[0;34m,\u001b[0m \u001b[0moptions\u001b[0m\u001b[0;34m)\u001b[0m\u001b[0;34m:\u001b[0m\u001b[0;34m\u001b[0m\u001b[0;34m\u001b[0m\u001b[0m\n",
            "\u001b[0;32m/usr/local/lib/python3.7/dist-packages/tensorflow/python/autograph/impl/api.py\u001b[0m in \u001b[0;36mwrapper\u001b[0;34m(*args, **kwargs)\u001b[0m\n\u001b[1;32m    595\u001b[0m   \u001b[0;32mdef\u001b[0m \u001b[0mwrapper\u001b[0m\u001b[0;34m(\u001b[0m\u001b[0;34m*\u001b[0m\u001b[0margs\u001b[0m\u001b[0;34m,\u001b[0m \u001b[0;34m**\u001b[0m\u001b[0mkwargs\u001b[0m\u001b[0;34m)\u001b[0m\u001b[0;34m:\u001b[0m\u001b[0;34m\u001b[0m\u001b[0;34m\u001b[0m\u001b[0m\n\u001b[1;32m    596\u001b[0m     \u001b[0;32mwith\u001b[0m \u001b[0mag_ctx\u001b[0m\u001b[0;34m.\u001b[0m\u001b[0mControlStatusCtx\u001b[0m\u001b[0;34m(\u001b[0m\u001b[0mstatus\u001b[0m\u001b[0;34m=\u001b[0m\u001b[0mag_ctx\u001b[0m\u001b[0;34m.\u001b[0m\u001b[0mStatus\u001b[0m\u001b[0;34m.\u001b[0m\u001b[0mUNSPECIFIED\u001b[0m\u001b[0;34m)\u001b[0m\u001b[0;34m:\u001b[0m\u001b[0;34m\u001b[0m\u001b[0;34m\u001b[0m\u001b[0m\n\u001b[0;32m--> 597\u001b[0;31m       \u001b[0;32mreturn\u001b[0m \u001b[0mfunc\u001b[0m\u001b[0;34m(\u001b[0m\u001b[0;34m*\u001b[0m\u001b[0margs\u001b[0m\u001b[0;34m,\u001b[0m \u001b[0;34m**\u001b[0m\u001b[0mkwargs\u001b[0m\u001b[0;34m)\u001b[0m\u001b[0;34m\u001b[0m\u001b[0;34m\u001b[0m\u001b[0m\n\u001b[0m\u001b[1;32m    598\u001b[0m \u001b[0;34m\u001b[0m\u001b[0m\n\u001b[1;32m    599\u001b[0m   \u001b[0;32mif\u001b[0m \u001b[0minspect\u001b[0m\u001b[0;34m.\u001b[0m\u001b[0misfunction\u001b[0m\u001b[0;34m(\u001b[0m\u001b[0mfunc\u001b[0m\u001b[0;34m)\u001b[0m \u001b[0;32mor\u001b[0m \u001b[0minspect\u001b[0m\u001b[0;34m.\u001b[0m\u001b[0mismethod\u001b[0m\u001b[0;34m(\u001b[0m\u001b[0mfunc\u001b[0m\u001b[0;34m)\u001b[0m\u001b[0;34m:\u001b[0m\u001b[0;34m\u001b[0m\u001b[0;34m\u001b[0m\u001b[0m\n",
            "\u001b[0;32m/usr/local/lib/python3.7/dist-packages/keras/engine/data_adapter.py\u001b[0m in \u001b[0;36m<lambda>\u001b[0;34m(x)\u001b[0m\n\u001b[1;32m    800\u001b[0m       \u001b[0mconcrete_x\u001b[0m\u001b[0;34m,\u001b[0m \u001b[0m_\u001b[0m\u001b[0;34m,\u001b[0m \u001b[0m_\u001b[0m \u001b[0;34m=\u001b[0m \u001b[0munpack_x_y_sample_weight\u001b[0m\u001b[0;34m(\u001b[0m\u001b[0mpeek\u001b[0m\u001b[0;34m)\u001b[0m\u001b[0;34m\u001b[0m\u001b[0;34m\u001b[0m\u001b[0m\n\u001b[1;32m    801\u001b[0m       model.distribute_strategy.run(\n\u001b[0;32m--> 802\u001b[0;31m           lambda x: model(x, training=False), args=(concrete_x,))\n\u001b[0m\u001b[1;32m    803\u001b[0m \u001b[0;34m\u001b[0m\u001b[0m\n\u001b[1;32m    804\u001b[0m     \u001b[0mself\u001b[0m\u001b[0;34m.\u001b[0m\u001b[0m_first_batch_size\u001b[0m \u001b[0;34m=\u001b[0m \u001b[0mint\u001b[0m\u001b[0;34m(\u001b[0m\u001b[0mtf\u001b[0m\u001b[0;34m.\u001b[0m\u001b[0mnest\u001b[0m\u001b[0;34m.\u001b[0m\u001b[0mflatten\u001b[0m\u001b[0;34m(\u001b[0m\u001b[0mpeek\u001b[0m\u001b[0;34m)\u001b[0m\u001b[0;34m[\u001b[0m\u001b[0;36m0\u001b[0m\u001b[0;34m]\u001b[0m\u001b[0;34m.\u001b[0m\u001b[0mshape\u001b[0m\u001b[0;34m[\u001b[0m\u001b[0;36m0\u001b[0m\u001b[0;34m]\u001b[0m\u001b[0;34m)\u001b[0m\u001b[0;34m\u001b[0m\u001b[0;34m\u001b[0m\u001b[0m\n",
            "\u001b[0;32m/usr/local/lib/python3.7/dist-packages/keras/engine/base_layer.py\u001b[0m in \u001b[0;36m__call__\u001b[0;34m(self, *args, **kwargs)\u001b[0m\n\u001b[1;32m   1035\u001b[0m         with autocast_variable.enable_auto_cast_variables(\n\u001b[1;32m   1036\u001b[0m             self._compute_dtype_object):\n\u001b[0;32m-> 1037\u001b[0;31m           \u001b[0moutputs\u001b[0m \u001b[0;34m=\u001b[0m \u001b[0mcall_fn\u001b[0m\u001b[0;34m(\u001b[0m\u001b[0minputs\u001b[0m\u001b[0;34m,\u001b[0m \u001b[0;34m*\u001b[0m\u001b[0margs\u001b[0m\u001b[0;34m,\u001b[0m \u001b[0;34m**\u001b[0m\u001b[0mkwargs\u001b[0m\u001b[0;34m)\u001b[0m\u001b[0;34m\u001b[0m\u001b[0;34m\u001b[0m\u001b[0m\n\u001b[0m\u001b[1;32m   1038\u001b[0m \u001b[0;34m\u001b[0m\u001b[0m\n\u001b[1;32m   1039\u001b[0m         \u001b[0;32mif\u001b[0m \u001b[0mself\u001b[0m\u001b[0;34m.\u001b[0m\u001b[0m_activity_regularizer\u001b[0m\u001b[0;34m:\u001b[0m\u001b[0;34m\u001b[0m\u001b[0;34m\u001b[0m\u001b[0m\n",
            "\u001b[0;32m<ipython-input-147-f597c11b6b15>\u001b[0m in \u001b[0;36mcall\u001b[0;34m(self, data)\u001b[0m\n\u001b[1;32m     78\u001b[0m         \u001b[0minput\u001b[0m\u001b[0;34m,\u001b[0m\u001b[0moutput\u001b[0m \u001b[0;34m=\u001b[0m \u001b[0mdata\u001b[0m\u001b[0;34m[\u001b[0m\u001b[0;36m0\u001b[0m\u001b[0;34m]\u001b[0m\u001b[0;34m,\u001b[0m \u001b[0mdata\u001b[0m\u001b[0;34m[\u001b[0m\u001b[0;36m1\u001b[0m\u001b[0;34m]\u001b[0m\u001b[0;34m\u001b[0m\u001b[0;34m\u001b[0m\u001b[0m\n\u001b[1;32m     79\u001b[0m         \u001b[0mencoder_output\u001b[0m\u001b[0;34m,\u001b[0m \u001b[0mencoder_h\u001b[0m\u001b[0;34m,\u001b[0m \u001b[0mencoder_c\u001b[0m \u001b[0;34m=\u001b[0m \u001b[0mself\u001b[0m\u001b[0;34m.\u001b[0m\u001b[0mencoder\u001b[0m\u001b[0;34m(\u001b[0m\u001b[0minput\u001b[0m\u001b[0;34m,\u001b[0m\u001b[0mself\u001b[0m\u001b[0;34m.\u001b[0m\u001b[0minit_states\u001b[0m\u001b[0;34m)\u001b[0m\u001b[0;34m\u001b[0m\u001b[0;34m\u001b[0m\u001b[0m\n\u001b[0;32m---> 80\u001b[0;31m         \u001b[0mprint\u001b[0m\u001b[0;34m(\u001b[0m\u001b[0;34m\"input\"\u001b[0m\u001b[0;34m,\u001b[0m\u001b[0minput\u001b[0m\u001b[0;34m.\u001b[0m\u001b[0mshape\u001b[0m\u001b[0;34m,\u001b[0m\u001b[0;34m\"init_states\"\u001b[0m\u001b[0;34m,\u001b[0m\u001b[0mself\u001b[0m\u001b[0;34m.\u001b[0m\u001b[0minit_states\u001b[0m\u001b[0;34m.\u001b[0m\u001b[0mshape\u001b[0m\u001b[0;34m)\u001b[0m\u001b[0;34m\u001b[0m\u001b[0;34m\u001b[0m\u001b[0m\n\u001b[0m\u001b[1;32m     81\u001b[0m         \u001b[0mprint\u001b[0m\u001b[0;34m(\u001b[0m\u001b[0;34m\"encoder_output\"\u001b[0m\u001b[0;34m,\u001b[0m\u001b[0mencoder_output\u001b[0m\u001b[0;34m.\u001b[0m\u001b[0mshape\u001b[0m\u001b[0;34m,\u001b[0m\u001b[0;34m\"encoder_h\"\u001b[0m\u001b[0;34m,\u001b[0m \u001b[0mencoder_h\u001b[0m\u001b[0;34m.\u001b[0m\u001b[0mshape\u001b[0m\u001b[0;34m,\u001b[0m\u001b[0;34m\"encoder_c\"\u001b[0m\u001b[0;34m,\u001b[0m \u001b[0mencoder_c\u001b[0m\u001b[0;34m.\u001b[0m\u001b[0mshape\u001b[0m\u001b[0;34m)\u001b[0m\u001b[0;34m\u001b[0m\u001b[0;34m\u001b[0m\u001b[0m\n\u001b[1;32m     82\u001b[0m         \u001b[0mdecoder_output\u001b[0m\u001b[0;34m,\u001b[0m\u001b[0m_\u001b[0m\u001b[0;34m,\u001b[0m\u001b[0m_\u001b[0m\u001b[0;34m=\u001b[0m \u001b[0mself\u001b[0m\u001b[0;34m.\u001b[0m\u001b[0mdecoder\u001b[0m\u001b[0;34m(\u001b[0m\u001b[0moutput\u001b[0m\u001b[0;34m,\u001b[0m\u001b[0;34m[\u001b[0m\u001b[0mencoder_h\u001b[0m\u001b[0;34m,\u001b[0m \u001b[0mencoder_c\u001b[0m\u001b[0;34m]\u001b[0m\u001b[0;34m)\u001b[0m\u001b[0;34m\u001b[0m\u001b[0;34m\u001b[0m\u001b[0m\n",
            "\u001b[0;31mAttributeError\u001b[0m: 'tuple' object has no attribute 'shape'"
          ]
        }
      ]
    },
    {
      "cell_type": "markdown",
      "metadata": {
        "id": "fHMobORZxwm8"
      },
      "source": [
        "**Featurizing Validation Data**"
      ]
    },
    {
      "cell_type": "markdown",
      "metadata": {
        "id": "uq3SFsOhykvs"
      },
      "source": [
        "# Checking model metric on Test Data"
      ]
    },
    {
      "cell_type": "code",
      "metadata": {
        "id": "68MKI61BqDOB",
        "colab": {
          "base_uri": "https://localhost:8080/"
        },
        "outputId": "6913390f-7e7a-4d64-c741-5fc39a6e315f"
      },
      "source": [
        "#Loading Json Train Data\n",
        "!pip install jsonlines\n",
        "import jsonlines\n",
        "phase=[]\n",
        "table_id=[]\n",
        "question=[]\n",
        "sql=[]\n",
        "with jsonlines.open(\"test.jsonl\") as f:\n",
        "  for line in f.iter():\n",
        "    phase.append(line['phase'])\n",
        "    table_id.append(line['table_id'])\n",
        "    question.append(line['question'])\n",
        "    sql.append(line['sql'])\n",
        "import pandas as pd\n",
        "d={'phase':phase,'table_id':table_id,'question':question,'sql':sql}\n",
        "test_data=pd.DataFrame(d)\n",
        "test_data\n",
        "f.close()"
      ],
      "execution_count": null,
      "outputs": [
        {
          "output_type": "stream",
          "name": "stdout",
          "text": [
            "Requirement already satisfied: jsonlines in /usr/local/lib/python3.7/dist-packages (2.0.0)\n"
          ]
        }
      ]
    },
    {
      "cell_type": "code",
      "metadata": {
        "id": "hBtThKE_s4Uh"
      },
      "source": [
        "test_data.columns=['phase','id','question','sql']"
      ],
      "execution_count": null,
      "outputs": []
    },
    {
      "cell_type": "code",
      "metadata": {
        "id": "1eCsulPZs7mD",
        "colab": {
          "base_uri": "https://localhost:8080/",
          "height": 417
        },
        "outputId": "1d7c0324-9310-483a-beb3-0edec09785c1"
      },
      "source": [
        "import jsonlines\n",
        "id=[]\n",
        "header=[]\n",
        "types=[]\n",
        "rows=[]\n",
        "with jsonlines.open(\"test.tables.jsonl\") as f:\n",
        "  for line in f.iter():\n",
        "    id.append((line['id']))\n",
        "    header.append((line['header']))\n",
        "    types.append((line['types']))\n",
        "    rows.append(line['rows'])\n",
        "d={'id':id,'header':header,'types':types,'rows':rows}\n",
        "test_table_info=pd.DataFrame(d)\n",
        "test_table_info"
      ],
      "execution_count": null,
      "outputs": [
        {
          "output_type": "execute_result",
          "data": {
            "text/html": [
              "<div>\n",
              "<style scoped>\n",
              "    .dataframe tbody tr th:only-of-type {\n",
              "        vertical-align: middle;\n",
              "    }\n",
              "\n",
              "    .dataframe tbody tr th {\n",
              "        vertical-align: top;\n",
              "    }\n",
              "\n",
              "    .dataframe thead th {\n",
              "        text-align: right;\n",
              "    }\n",
              "</style>\n",
              "<table border=\"1\" class=\"dataframe\">\n",
              "  <thead>\n",
              "    <tr style=\"text-align: right;\">\n",
              "      <th></th>\n",
              "      <th>id</th>\n",
              "      <th>header</th>\n",
              "      <th>types</th>\n",
              "      <th>rows</th>\n",
              "    </tr>\n",
              "  </thead>\n",
              "  <tbody>\n",
              "    <tr>\n",
              "      <th>0</th>\n",
              "      <td>1-10015132-16</td>\n",
              "      <td>[Player, No., Nationality, Position, Years in ...</td>\n",
              "      <td>[text, text, text, text, text, text]</td>\n",
              "      <td>[[Aleksandar Radojević, 25, Serbia, Center, 19...</td>\n",
              "    </tr>\n",
              "    <tr>\n",
              "      <th>1</th>\n",
              "      <td>1-10083598-1</td>\n",
              "      <td>[No, Date, Round, Circuit, Pole Position, Fast...</td>\n",
              "      <td>[real, text, text, text, text, text, text, text]</td>\n",
              "      <td>[[1, 24 February, Qatar, Losail, Kevin Curtain...</td>\n",
              "    </tr>\n",
              "    <tr>\n",
              "      <th>2</th>\n",
              "      <td>1-1013129-2</td>\n",
              "      <td>[Pick, Player, Position, Nationality, NHL team...</td>\n",
              "      <td>[real, text, text, text, text, text]</td>\n",
              "      <td>[[27, Rhett Warrener, Defence, Canada, Florida...</td>\n",
              "    </tr>\n",
              "    <tr>\n",
              "      <th>3</th>\n",
              "      <td>1-1013129-3</td>\n",
              "      <td>[Pick, Player, Position, Nationality, NHL team...</td>\n",
              "      <td>[real, text, text, text, text, text]</td>\n",
              "      <td>[[53, Corey Neilson, Defence, Canada, Edmonton...</td>\n",
              "    </tr>\n",
              "    <tr>\n",
              "      <th>4</th>\n",
              "      <td>1-1014206-2</td>\n",
              "      <td>[#, Shipyard, Laid down, Launched, Commissione...</td>\n",
              "      <td>[text, text, text, text, text, text, text]</td>\n",
              "      <td>[[K-166, SEVMASH, Severodvinsk, May 30, 1961, ...</td>\n",
              "    </tr>\n",
              "    <tr>\n",
              "      <th>...</th>\n",
              "      <td>...</td>\n",
              "      <td>...</td>\n",
              "      <td>...</td>\n",
              "      <td>...</td>\n",
              "    </tr>\n",
              "    <tr>\n",
              "      <th>5225</th>\n",
              "      <td>2-19002339-3</td>\n",
              "      <td>[Polling firm, Dates, Prog. Cons., New Democra...</td>\n",
              "      <td>[text, text, text, text, text]</td>\n",
              "      <td>[[2009 Election Results, June 9, 2009, 24.54%,...</td>\n",
              "    </tr>\n",
              "    <tr>\n",
              "      <th>5226</th>\n",
              "      <td>2-19005873-2</td>\n",
              "      <td>[Round, Opposition Team, Venue, Result, Report]</td>\n",
              "      <td>[real, text, text, text, text]</td>\n",
              "      <td>[[1, Melbourne Demons, MCG, Win 23.16 (154) - ...</td>\n",
              "    </tr>\n",
              "    <tr>\n",
              "      <th>5227</th>\n",
              "      <td>2-1900696-1</td>\n",
              "      <td>[Date, Japan, Americas, Other, Total]</td>\n",
              "      <td>[text, text, text, text, text]</td>\n",
              "      <td>[[2005-09-30, 0.41 million, 0.29 million, 0, 0...</td>\n",
              "    </tr>\n",
              "    <tr>\n",
              "      <th>5228</th>\n",
              "      <td>2-19007049-1</td>\n",
              "      <td>[Year, Competition, Venue, Position, Notes]</td>\n",
              "      <td>[real, text, text, text, text]</td>\n",
              "      <td>[[2002, World Junior Championships, Kingston, ...</td>\n",
              "    </tr>\n",
              "    <tr>\n",
              "      <th>5229</th>\n",
              "      <td>2-19007736-1</td>\n",
              "      <td>[Year, Competition, Venue, Position, Notes]</td>\n",
              "      <td>[real, text, text, text, text]</td>\n",
              "      <td>[[2005, World Youth Championships, Marrakesh, ...</td>\n",
              "    </tr>\n",
              "  </tbody>\n",
              "</table>\n",
              "<p>5230 rows × 4 columns</p>\n",
              "</div>"
            ],
            "text/plain": [
              "                 id  ...                                               rows\n",
              "0     1-10015132-16  ...  [[Aleksandar Radojević, 25, Serbia, Center, 19...\n",
              "1      1-10083598-1  ...  [[1, 24 February, Qatar, Losail, Kevin Curtain...\n",
              "2       1-1013129-2  ...  [[27, Rhett Warrener, Defence, Canada, Florida...\n",
              "3       1-1013129-3  ...  [[53, Corey Neilson, Defence, Canada, Edmonton...\n",
              "4       1-1014206-2  ...  [[K-166, SEVMASH, Severodvinsk, May 30, 1961, ...\n",
              "...             ...  ...                                                ...\n",
              "5225   2-19002339-3  ...  [[2009 Election Results, June 9, 2009, 24.54%,...\n",
              "5226   2-19005873-2  ...  [[1, Melbourne Demons, MCG, Win 23.16 (154) - ...\n",
              "5227    2-1900696-1  ...  [[2005-09-30, 0.41 million, 0.29 million, 0, 0...\n",
              "5228   2-19007049-1  ...  [[2002, World Junior Championships, Kingston, ...\n",
              "5229   2-19007736-1  ...  [[2005, World Youth Championships, Marrakesh, ...\n",
              "\n",
              "[5230 rows x 4 columns]"
            ]
          },
          "metadata": {},
          "execution_count": 125
        }
      ]
    },
    {
      "cell_type": "code",
      "metadata": {
        "colab": {
          "base_uri": "https://localhost:8080/",
          "height": 585
        },
        "id": "WNpg4MDNtPZd",
        "outputId": "598f67b3-8c3d-4ab7-e02a-0a317645a135"
      },
      "source": [
        "test_merged_data=test_data.merge(test_table_info,on='id')\n",
        "test_merged_data"
      ],
      "execution_count": null,
      "outputs": [
        {
          "output_type": "execute_result",
          "data": {
            "text/html": [
              "<div>\n",
              "<style scoped>\n",
              "    .dataframe tbody tr th:only-of-type {\n",
              "        vertical-align: middle;\n",
              "    }\n",
              "\n",
              "    .dataframe tbody tr th {\n",
              "        vertical-align: top;\n",
              "    }\n",
              "\n",
              "    .dataframe thead th {\n",
              "        text-align: right;\n",
              "    }\n",
              "</style>\n",
              "<table border=\"1\" class=\"dataframe\">\n",
              "  <thead>\n",
              "    <tr style=\"text-align: right;\">\n",
              "      <th></th>\n",
              "      <th>phase</th>\n",
              "      <th>id</th>\n",
              "      <th>question</th>\n",
              "      <th>sql</th>\n",
              "      <th>header</th>\n",
              "      <th>types</th>\n",
              "      <th>rows</th>\n",
              "    </tr>\n",
              "  </thead>\n",
              "  <tbody>\n",
              "    <tr>\n",
              "      <th>0</th>\n",
              "      <td>1</td>\n",
              "      <td>1-10015132-16</td>\n",
              "      <td>What is terrence ross' nationality</td>\n",
              "      <td>{'sel': 2, 'conds': [[0, 0, 'Terrence Ross']],...</td>\n",
              "      <td>[Player, No., Nationality, Position, Years in ...</td>\n",
              "      <td>[text, text, text, text, text, text]</td>\n",
              "      <td>[[Aleksandar Radojević, 25, Serbia, Center, 19...</td>\n",
              "    </tr>\n",
              "    <tr>\n",
              "      <th>1</th>\n",
              "      <td>1</td>\n",
              "      <td>1-10015132-16</td>\n",
              "      <td>What clu was in toronto 1995-96</td>\n",
              "      <td>{'sel': 5, 'conds': [[4, 0, '1995-96']], 'agg'...</td>\n",
              "      <td>[Player, No., Nationality, Position, Years in ...</td>\n",
              "      <td>[text, text, text, text, text, text]</td>\n",
              "      <td>[[Aleksandar Radojević, 25, Serbia, Center, 19...</td>\n",
              "    </tr>\n",
              "    <tr>\n",
              "      <th>2</th>\n",
              "      <td>1</td>\n",
              "      <td>1-10015132-16</td>\n",
              "      <td>which club was in toronto 2003-06</td>\n",
              "      <td>{'sel': 5, 'conds': [[4, 0, '2003-06']], 'agg'...</td>\n",
              "      <td>[Player, No., Nationality, Position, Years in ...</td>\n",
              "      <td>[text, text, text, text, text, text]</td>\n",
              "      <td>[[Aleksandar Radojević, 25, Serbia, Center, 19...</td>\n",
              "    </tr>\n",
              "    <tr>\n",
              "      <th>3</th>\n",
              "      <td>1</td>\n",
              "      <td>1-10015132-16</td>\n",
              "      <td>how many schools or teams had jalen rose</td>\n",
              "      <td>{'sel': 5, 'conds': [[0, 0, 'Jalen Rose']], 'a...</td>\n",
              "      <td>[Player, No., Nationality, Position, Years in ...</td>\n",
              "      <td>[text, text, text, text, text, text]</td>\n",
              "      <td>[[Aleksandar Radojević, 25, Serbia, Center, 19...</td>\n",
              "    </tr>\n",
              "    <tr>\n",
              "      <th>4</th>\n",
              "      <td>1</td>\n",
              "      <td>1-10083598-1</td>\n",
              "      <td>Where was Assen held?</td>\n",
              "      <td>{'sel': 2, 'conds': [[3, 0, 'Assen']], 'agg': 0}</td>\n",
              "      <td>[No, Date, Round, Circuit, Pole Position, Fast...</td>\n",
              "      <td>[real, text, text, text, text, text, text, text]</td>\n",
              "      <td>[[1, 24 February, Qatar, Losail, Kevin Curtain...</td>\n",
              "    </tr>\n",
              "    <tr>\n",
              "      <th>...</th>\n",
              "      <td>...</td>\n",
              "      <td>...</td>\n",
              "      <td>...</td>\n",
              "      <td>...</td>\n",
              "      <td>...</td>\n",
              "      <td>...</td>\n",
              "      <td>...</td>\n",
              "    </tr>\n",
              "    <tr>\n",
              "      <th>15873</th>\n",
              "      <td>2</td>\n",
              "      <td>2-1226335-1</td>\n",
              "      <td>After 1972, how many points did Marlboro Team ...</td>\n",
              "      <td>{'sel': 4, 'conds': [[0, 1, 1972], [1, 0, 'mar...</td>\n",
              "      <td>[Year, Entrant, Chassis, Engine, Points]</td>\n",
              "      <td>[real, text, text, text, text]</td>\n",
              "      <td>[[1972, Elf Team Tyrrell, Tyrrell 004, Ford V8...</td>\n",
              "    </tr>\n",
              "    <tr>\n",
              "      <th>15874</th>\n",
              "      <td>2</td>\n",
              "      <td>2-1226335-1</td>\n",
              "      <td>What chassis had 39 points?</td>\n",
              "      <td>{'sel': 2, 'conds': [[4, 0, '39']], 'agg': 0}</td>\n",
              "      <td>[Year, Entrant, Chassis, Engine, Points]</td>\n",
              "      <td>[real, text, text, text, text]</td>\n",
              "      <td>[[1972, Elf Team Tyrrell, Tyrrell 004, Ford V8...</td>\n",
              "    </tr>\n",
              "    <tr>\n",
              "      <th>15875</th>\n",
              "      <td>2</td>\n",
              "      <td>2-1226335-1</td>\n",
              "      <td>How many points did the Ford V8 with a Tyrrell...</td>\n",
              "      <td>{'sel': 4, 'conds': [[3, 0, 'ford v8'], [2, 0,...</td>\n",
              "      <td>[Year, Entrant, Chassis, Engine, Points]</td>\n",
              "      <td>[real, text, text, text, text]</td>\n",
              "      <td>[[1972, Elf Team Tyrrell, Tyrrell 004, Ford V8...</td>\n",
              "    </tr>\n",
              "    <tr>\n",
              "      <th>15876</th>\n",
              "      <td>2</td>\n",
              "      <td>2-1226335-1</td>\n",
              "      <td>Before 1976 and with 12 points, what chassis d...</td>\n",
              "      <td>{'sel': 2, 'conds': [[3, 0, 'ford v8'], [0, 2,...</td>\n",
              "      <td>[Year, Entrant, Chassis, Engine, Points]</td>\n",
              "      <td>[real, text, text, text, text]</td>\n",
              "      <td>[[1972, Elf Team Tyrrell, Tyrrell 004, Ford V8...</td>\n",
              "    </tr>\n",
              "    <tr>\n",
              "      <th>15877</th>\n",
              "      <td>2</td>\n",
              "      <td>2-1226335-1</td>\n",
              "      <td>What year did Elf Team Tyrrell have 39 points ...</td>\n",
              "      <td>{'sel': 0, 'conds': [[1, 0, 'elf team tyrrell'...</td>\n",
              "      <td>[Year, Entrant, Chassis, Engine, Points]</td>\n",
              "      <td>[real, text, text, text, text]</td>\n",
              "      <td>[[1972, Elf Team Tyrrell, Tyrrell 004, Ford V8...</td>\n",
              "    </tr>\n",
              "  </tbody>\n",
              "</table>\n",
              "<p>15878 rows × 7 columns</p>\n",
              "</div>"
            ],
            "text/plain": [
              "       phase  ...                                               rows\n",
              "0          1  ...  [[Aleksandar Radojević, 25, Serbia, Center, 19...\n",
              "1          1  ...  [[Aleksandar Radojević, 25, Serbia, Center, 19...\n",
              "2          1  ...  [[Aleksandar Radojević, 25, Serbia, Center, 19...\n",
              "3          1  ...  [[Aleksandar Radojević, 25, Serbia, Center, 19...\n",
              "4          1  ...  [[1, 24 February, Qatar, Losail, Kevin Curtain...\n",
              "...      ...  ...                                                ...\n",
              "15873      2  ...  [[1972, Elf Team Tyrrell, Tyrrell 004, Ford V8...\n",
              "15874      2  ...  [[1972, Elf Team Tyrrell, Tyrrell 004, Ford V8...\n",
              "15875      2  ...  [[1972, Elf Team Tyrrell, Tyrrell 004, Ford V8...\n",
              "15876      2  ...  [[1972, Elf Team Tyrrell, Tyrrell 004, Ford V8...\n",
              "15877      2  ...  [[1972, Elf Team Tyrrell, Tyrrell 004, Ford V8...\n",
              "\n",
              "[15878 rows x 7 columns]"
            ]
          },
          "metadata": {},
          "execution_count": 129
        }
      ]
    },
    {
      "cell_type": "code",
      "metadata": {
        "colab": {
          "base_uri": "https://localhost:8080/"
        },
        "id": "kBFW2mOYti1n",
        "outputId": "43e9f6ef-f0e4-4099-f7e2-39cf0460e13c"
      },
      "source": [
        "#Converting dictionary sql answer into sql text for using in seq-seq model\n",
        "from tqdm import tqdm \n",
        "sql_in_text=[]\n",
        "aggregate=['','MAX','MIN','COUNT','SUM','AVG']\n",
        "operator=['=','<','>']\n",
        "word_operator=['eq','lt','gt']\n",
        "\n",
        "for i in tqdm(range(len(test_merged_data))):\n",
        "  sql=test_merged_data.sql.iloc[i]\n",
        "  col=test_merged_data.header.iloc[i][sql['sel']]\n",
        "  agg=aggregate[sql['agg']]\n",
        "  cond_col=[]\n",
        "  cond_opr=[]\n",
        "  cond_value=[]\n",
        "  for j in sql['conds']:\n",
        "    cond_col.append(test_merged_data.header.iloc[i][j[0]])\n",
        "    cond_opr.append(word_operator[j[1]])\n",
        "    cond_value.append(j[2])\n",
        "  resulted_sql=\"select \"\n",
        "  if(agg==''):\n",
        "    resulted_sql+=col+\" where \"\n",
        "  else:\n",
        "    resulted_sql+=agg+\"(\"+col+\") where \"\n",
        "\n",
        "  for j in range(len(cond_col)):\n",
        "    if(j!=0):\n",
        "      resulted_sql+=\"and \"\n",
        "    resulted_sql+=cond_col[j]+' '+cond_opr[j]+' '\n",
        "    resulted_sql+=str(cond_value[j])+' '\n",
        "\n",
        "  sql_in_text.append(resulted_sql)"
      ],
      "execution_count": null,
      "outputs": [
        {
          "output_type": "stream",
          "name": "stderr",
          "text": [
            "100%|██████████| 15878/15878 [00:01<00:00, 15313.19it/s]\n"
          ]
        }
      ]
    },
    {
      "cell_type": "code",
      "metadata": {
        "id": "XQvcAsOkuJa5"
      },
      "source": [
        "test_merged_data['resulted_sql']=sql_in_text"
      ],
      "execution_count": null,
      "outputs": []
    },
    {
      "cell_type": "code",
      "metadata": {
        "id": "fKNRnKkCulF8"
      },
      "source": [
        "#Concatinating question and headers\n",
        "question_header=[]\n",
        "for i in range(len(test_merged_data)):\n",
        "  question=test_merged_data.question.iloc[i]\n",
        "  header=test_merged_data.header.iloc[i]\n",
        "  '''a=header.split(',')\n",
        "  for i in range(len(a)):\n",
        "    a[i]=a[i].replace('[','')\n",
        "    a[i]=a[i].replace(\"'\",'')\n",
        "    a[i]=a[i].replace(',','')\n",
        "    a[i]=a[i].replace(']','')'''\n",
        "  for head in header: \n",
        "    question+=' '+head\n",
        "  question_header.append(question)"
      ],
      "execution_count": null,
      "outputs": []
    },
    {
      "cell_type": "code",
      "metadata": {
        "id": "G6sgoI1LvCA8"
      },
      "source": [
        "import re\n",
        "preprocess_question_header=[]\n",
        "for i in question_header:\n",
        "  preprocess_question_header.append(preprocess(i))"
      ],
      "execution_count": null,
      "outputs": []
    },
    {
      "cell_type": "code",
      "metadata": {
        "id": "CHmz9oyKvHp6"
      },
      "source": [
        "preprocess_sql_in_text=[]\n",
        "for i in test_merged_data['resulted_sql'].values:\n",
        "  preprocess_sql_in_text.append(preprocess(i))"
      ],
      "execution_count": null,
      "outputs": []
    },
    {
      "cell_type": "code",
      "metadata": {
        "colab": {
          "base_uri": "https://localhost:8080/",
          "height": 417
        },
        "id": "arnZ8c7DvZ3e",
        "outputId": "6d280564-f1a8-417c-8e6d-58860c06817f"
      },
      "source": [
        "test_final_data=pd.DataFrame()\n",
        "test_final_data['question_header']=question_header\n",
        "test_final_data['sql']=preprocess_sql_in_text\n",
        "test_final_data"
      ],
      "execution_count": null,
      "outputs": [
        {
          "output_type": "execute_result",
          "data": {
            "text/html": [
              "<div>\n",
              "<style scoped>\n",
              "    .dataframe tbody tr th:only-of-type {\n",
              "        vertical-align: middle;\n",
              "    }\n",
              "\n",
              "    .dataframe tbody tr th {\n",
              "        vertical-align: top;\n",
              "    }\n",
              "\n",
              "    .dataframe thead th {\n",
              "        text-align: right;\n",
              "    }\n",
              "</style>\n",
              "<table border=\"1\" class=\"dataframe\">\n",
              "  <thead>\n",
              "    <tr style=\"text-align: right;\">\n",
              "      <th></th>\n",
              "      <th>question_header</th>\n",
              "      <th>sql</th>\n",
              "    </tr>\n",
              "  </thead>\n",
              "  <tbody>\n",
              "    <tr>\n",
              "      <th>0</th>\n",
              "      <td>What is terrence ross' nationality Player No. ...</td>\n",
              "      <td>select nationality where player eq terrence ross</td>\n",
              "    </tr>\n",
              "    <tr>\n",
              "      <th>1</th>\n",
              "      <td>What clu was in toronto 1995-96 Player No. Nat...</td>\n",
              "      <td>select school/club team where years in toronto...</td>\n",
              "    </tr>\n",
              "    <tr>\n",
              "      <th>2</th>\n",
              "      <td>which club was in toronto 2003-06 Player No. N...</td>\n",
              "      <td>select school/club team where years in toronto...</td>\n",
              "    </tr>\n",
              "    <tr>\n",
              "      <th>3</th>\n",
              "      <td>how many schools or teams had jalen rose Playe...</td>\n",
              "      <td>select count(school/club team) where player eq...</td>\n",
              "    </tr>\n",
              "    <tr>\n",
              "      <th>4</th>\n",
              "      <td>Where was Assen held? No Date Round Circuit Po...</td>\n",
              "      <td>select round where circuit eq assen</td>\n",
              "    </tr>\n",
              "    <tr>\n",
              "      <th>...</th>\n",
              "      <td>...</td>\n",
              "      <td>...</td>\n",
              "    </tr>\n",
              "    <tr>\n",
              "      <th>15873</th>\n",
              "      <td>After 1972, how many points did Marlboro Team ...</td>\n",
              "      <td>select points where year lt 1972 and entrant e...</td>\n",
              "    </tr>\n",
              "    <tr>\n",
              "      <th>15874</th>\n",
              "      <td>What chassis had 39 points? Year Entrant Chass...</td>\n",
              "      <td>select chassis where points eq 39</td>\n",
              "    </tr>\n",
              "    <tr>\n",
              "      <th>15875</th>\n",
              "      <td>How many points did the Ford V8 with a Tyrrell...</td>\n",
              "      <td>select points where engine eq ford v8 and chas...</td>\n",
              "    </tr>\n",
              "    <tr>\n",
              "      <th>15876</th>\n",
              "      <td>Before 1976 and with 12 points, what chassis d...</td>\n",
              "      <td>select chassis where engine eq ford v8 and yea...</td>\n",
              "    </tr>\n",
              "    <tr>\n",
              "      <th>15877</th>\n",
              "      <td>What year did Elf Team Tyrrell have 39 points ...</td>\n",
              "      <td>select sum(year) where entrant eq elf team tyr...</td>\n",
              "    </tr>\n",
              "  </tbody>\n",
              "</table>\n",
              "<p>15878 rows × 2 columns</p>\n",
              "</div>"
            ],
            "text/plain": [
              "                                         question_header                                                sql\n",
              "0      What is terrence ross' nationality Player No. ...  select nationality where player eq terrence ross \n",
              "1      What clu was in toronto 1995-96 Player No. Nat...  select school/club team where years in toronto...\n",
              "2      which club was in toronto 2003-06 Player No. N...  select school/club team where years in toronto...\n",
              "3      how many schools or teams had jalen rose Playe...  select count(school/club team) where player eq...\n",
              "4      Where was Assen held? No Date Round Circuit Po...               select round where circuit eq assen \n",
              "...                                                  ...                                                ...\n",
              "15873  After 1972, how many points did Marlboro Team ...  select points where year lt 1972 and entrant e...\n",
              "15874  What chassis had 39 points? Year Entrant Chass...                 select chassis where points eq 39 \n",
              "15875  How many points did the Ford V8 with a Tyrrell...  select points where engine eq ford v8 and chas...\n",
              "15876  Before 1976 and with 12 points, what chassis d...  select chassis where engine eq ford v8 and yea...\n",
              "15877  What year did Elf Team Tyrrell have 39 points ...  select sum(year) where entrant eq elf team tyr...\n",
              "\n",
              "[15878 rows x 2 columns]"
            ]
          },
          "metadata": {},
          "execution_count": 135
        }
      ]
    },
    {
      "cell_type": "code",
      "metadata": {
        "id": "qjrBOH_M2wM7"
      },
      "source": [
        "def predict(input_sentence):\n",
        "\n",
        "  encoder_seq = tknizer_question.texts_to_sequences([input_sentence]) # step A tokenization\n",
        "  encoder_seq_pad = pad_sequences(encoder_seq, maxlen=61, dtype='int32', padding='post')  #padding\n",
        "  #above max length =20\n",
        "\n",
        "  initial_state=model.layers[0].initialize_states(1)  #batch_size==1\n",
        "  enc_out,dec_state_h,dec_state_c=model.layers[0](encoder_seq_pad ,initial_state)\n",
        "  start_index=tknizer_sql.word_index['<start>']\n",
        "  dec_inp=tf.expand_dims([start_index],1)   #step C\n",
        "\n",
        "  result_final=[]  #to store decoder output at each time stamp\n",
        "\n",
        "  for index in range(0,61):   #to all input text word each timestamp\n",
        "    dec_states=(dec_state_h,dec_state_c)\n",
        "    dec_out,dec_state_h,dec_state_c=model.layers[1](dec_inp,dec_states)\n",
        "    output=model.layers[2](dec_out)\n",
        "    dec_inp=tf.argmax(output,axis=-1)   #i/p to decoder  is word with max prob\n",
        "    #print(dec_inp.numpy()[0][0])  #its a number so using index_word not word_index\n",
        "    word_pred=tknizer_sql.index_word[dec_inp.numpy()[0][0]]  #predicted word\n",
        "\n",
        "    if tknizer_sql.index_word[dec_inp.numpy()[0][0]]=='<end>': #if last word (or end) is encountered => we got our translated seq\n",
        "      break\n",
        "    result_final.append(word_pred)  \n",
        "  return ' '.join(result_final)  #sentence return by decoder"
      ],
      "execution_count": null,
      "outputs": []
    },
    {
      "cell_type": "code",
      "metadata": {
        "id": "bMFbM_qOQNho",
        "colab": {
          "base_uri": "https://localhost:8080/"
        },
        "outputId": "5b8c214f-4d87-45fc-f783-8ddb9bd83ece"
      },
      "source": [
        "from numpy import random\n",
        "from tqdm import tqdm\n",
        "import nltk.translate.bleu_score as blu_sc\n",
        "x=random.randint(len(test_final_data.question_header), size=(1000))\n",
        "score=[]\n",
        "for i in tqdm(x):\n",
        "  trans=predict(test_final_data.question_header.iloc[i]).split()  #sentnc predicted by model \n",
        "  ref=test_final_data.sql.iloc[i].split()\n",
        "  score.append(blu_sc.sentence_bleu([ref],trans))\n",
        "sum=0   \n",
        "for scr in score:\n",
        "  sum+=scr \n",
        "print('**bleu score=**',sum/1000) "
      ],
      "execution_count": null,
      "outputs": [
        {
          "output_type": "stream",
          "name": "stderr",
          "text": [
            "  0%|          | 1/1000 [00:00<02:17,  7.28it/s]/usr/local/lib/python3.7/dist-packages/nltk/translate/bleu_score.py:490: UserWarning: \n",
            "Corpus/Sentence contains 0 counts of 4-gram overlaps.\n",
            "BLEU scores might be undesirable; use SmoothingFunction().\n",
            "  warnings.warn(_msg)\n",
            "  0%|          | 2/1000 [00:00<02:46,  6.00it/s]/usr/local/lib/python3.7/dist-packages/nltk/translate/bleu_score.py:490: UserWarning: \n",
            "Corpus/Sentence contains 0 counts of 3-gram overlaps.\n",
            "BLEU scores might be undesirable; use SmoothingFunction().\n",
            "  warnings.warn(_msg)\n",
            "  0%|          | 3/1000 [00:00<02:39,  6.25it/s]/usr/local/lib/python3.7/dist-packages/nltk/translate/bleu_score.py:490: UserWarning: \n",
            "Corpus/Sentence contains 0 counts of 2-gram overlaps.\n",
            "BLEU scores might be undesirable; use SmoothingFunction().\n",
            "  warnings.warn(_msg)\n",
            "100%|██████████| 1000/1000 [02:46<00:00,  6.00it/s]"
          ]
        },
        {
          "output_type": "stream",
          "name": "stdout",
          "text": [
            "**bleu score=** 0.5317712438756839\n"
          ]
        },
        {
          "output_type": "stream",
          "name": "stderr",
          "text": [
            "\n"
          ]
        }
      ]
    },
    {
      "cell_type": "markdown",
      "metadata": {
        "id": "WWDeL8KkI89B"
      },
      "source": [
        "Bleu Score: 0.594 by using simple encoder decoder"
      ]
    },
    {
      "cell_type": "code",
      "metadata": {
        "id": "SoYLctYXO5IK"
      },
      "source": [
        "'''\n",
        "Encoder: embedding=50, enc_unit=256\n",
        "Decoder: embedding=100, dec_unit=256 \n",
        "epoch=3\n",
        "Bleu: 0.58\n",
        "\n",
        "Encoder: embedding=100, enc_unit=364\n",
        "Decoder: embedding=200, dec_unit=364 \n",
        "epoch=3\n",
        "Bleu: 0.594\n",
        "\n",
        "Encoder: embedding=100, enc_unit=364\n",
        "Decoder: embedding=200, dec_unit=364 \n",
        "epoch=3\n",
        "Bleu: 0.5501\n",
        "\n",
        "Encoder: embedding=100, enc_unit=364\n",
        "Decoder: embedding=200, dec_unit=364 \n",
        "epoch=6\n",
        "Bleu: 0.5301\n",
        "\n",
        "\n",
        "\n",
        "Increading encoder decoder layer: \n",
        "\n",
        "\n",
        "\n",
        "\n",
        "'''"
      ],
      "execution_count": null,
      "outputs": []
    },
    {
      "cell_type": "code",
      "metadata": {
        "id": "UZOOpqB9hiHM",
        "colab": {
          "base_uri": "https://localhost:8080/"
        },
        "outputId": "1084783c-2974-4847-8e70-42558fb647fe"
      },
      "source": [
        "for i in range(10):\n",
        "  sql_predict=predict(test_final_data.question_header.iloc[i])\n",
        "  print(\"Question:     \",test_final_data.question_header.iloc[i])\n",
        "  print(\"True sql:     \",test_final_data.sql.iloc[i])\n",
        "  print(\"predicted sql:\",sql_predict)\n",
        "  print()"
      ],
      "execution_count": null,
      "outputs": [
        {
          "output_type": "stream",
          "name": "stdout",
          "text": [
            "Question:      What is terrence ross' nationality Player No. Nationality Position Years in Toronto School/Club Team\n",
            "True sql:      select nationality where player eq terrence ross \n",
            "predicted sql: select nationality where nationality purdue\n",
            "\n",
            "Question:      What clu was in toronto 1995-96 Player No. Nationality Position Years in Toronto School/Club Team\n",
            "True sql:      select school/club team where years in toronto eq 1995-96 \n",
            "predicted sql: select position where years in toronto 1995\n",
            "\n",
            "Question:      which club was in toronto 2003-06 Player No. Nationality Position Years in Toronto School/Club Team\n",
            "True sql:      select school/club team where years in toronto eq 2003-06 \n",
            "predicted sql: select school club team where years 2000 2000 2000\n",
            "\n",
            "Question:      how many schools or teams had jalen rose Player No. Nationality Position Years in Toronto School/Club Team\n",
            "True sql:      select count(school/club team) where player eq jalen rose \n",
            "predicted sql: select count team club team where player team lewis\n",
            "\n",
            "Question:      Where was Assen held? No Date Round Circuit Pole Position Fastest Lap Race winner Report\n",
            "True sql:      select round where circuit eq assen \n",
            "predicted sql: select date where circuit knockhill\n",
            "\n",
            "Question:      What was the number of race that Kevin Curtain won? No Date Round Circuit Pole Position Fastest Lap Race winner Report\n",
            "True sql:      select count(no) where pole position eq kevin curtain \n",
            "predicted sql: select race season where team kevin kevin\n",
            "\n",
            "Question:      What was the date of the race in Misano? No Date Round Circuit Pole Position Fastest Lap Race winner Report\n",
            "True sql:      select date where circuit eq misano \n",
            "predicted sql: select date where circuit lakeside lakeside\n",
            "\n",
            "Question:      How many different positions did Sherbrooke Faucons (qmjhl) provide in the draft? Pick Player Position Nationality NHL team College/junior/club team\n",
            "True sql:      select count(position) where college/junior/club team eq sherbrooke faucons (qmjhl) \n",
            "predicted sql: select count position where college junior team louis of\n",
            "\n",
            "Question:      What are the nationalities of the player picked from Thunder Bay Flyers (ushl) Pick Player Position Nationality NHL team College/junior/club team\n",
            "True sql:      select nationality where college/junior/club team eq thunder bay flyers (ushl) \n",
            "predicted sql: select overall where nhl team la jose union college\n",
            "\n",
            "Question:      How many different college/junior/club teams provided a player to the Washington Capitals NHL Team? Pick Player Position Nationality NHL team College/junior/club team\n",
            "True sql:      select count(college/junior/club team) where nhl team eq washington capitals \n",
            "predicted sql: select count college junior club team where nhl team washington rockets\n",
            "\n"
          ]
        }
      ]
    }
  ]
}